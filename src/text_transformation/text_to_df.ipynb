{
 "metadata": {
  "language_info": {
   "codemirror_mode": {
    "name": "ipython",
    "version": 3
   },
   "file_extension": ".py",
   "mimetype": "text/x-python",
   "name": "python",
   "nbconvert_exporter": "python",
   "pygments_lexer": "ipython3",
   "version": "3.8.5"
  },
  "orig_nbformat": 2,
  "kernelspec": {
   "name": "pythonjvsc74a57bd0ec04c10a3ef611ea2836b5ff833f0501e0dcfc8e0500f516ccda9246622a0e8e",
   "display_name": "Python 3.8.5  ('venv': venv)"
  },
  "metadata": {
   "interpreter": {
    "hash": "ec04c10a3ef611ea2836b5ff833f0501e0dcfc8e0500f516ccda9246622a0e8e"
   }
  }
 },
 "nbformat": 4,
 "nbformat_minor": 2,
 "cells": [
  {
   "cell_type": "code",
   "execution_count": 1,
   "metadata": {},
   "outputs": [],
   "source": [
    "#imports for analysis\n",
    "import pandas as pd\n",
    "import numpy as np\n",
    "import matplotlib.pyplot as plt\n",
    "import csv\n",
    "import re\n",
    "from pathlib import Path\n",
    "pd.options.display.max_rows = 10"
   ]
  },
  {
   "cell_type": "code",
   "execution_count": null,
   "metadata": {},
   "outputs": [],
   "source": [
    "results = pd.read_table('all_results.txt',header=0, escapechar='\\\\',error_bad_lines = False)"
   ]
  },
  {
   "cell_type": "code",
   "execution_count": null,
   "metadata": {},
   "outputs": [],
   "source": [
    "with open(\"all_results.txt\",\"r\") as dataFl:\n",
    "    lines = [line for line in dataFl]\n",
    "\n",
    "attribute = [] #these are the keys to the dict\n",
    "data = [] #this is the data that we want to map to the keys\n",
    "\n",
    "for line in lines:\n",
    "    if line.startswith(\"=\") or \"\""
   ]
  },
  {
   "cell_type": "code",
   "execution_count": null,
   "metadata": {},
   "outputs": [],
   "source": [
    "with open(\"new_results.txt\",\"r\") as dataFl:\n",
    "    lines = [line for line in dataFl]\n",
    "\n",
    "attribute = []\n",
    "data = []\n",
    "for line in lines:\n",
    "    if line.startswith(\"%\") or 'data' in line or line=='\\n': # this is a comment or the data line\n",
    "        pass\n",
    "    elif line.startswith(\"@\"):\n",
    "        if \"relation\" in line:\n",
    "            relationName = line.split(\" \")[1]\n",
    "        elif \"attribute\" in line:\n",
    "            attribute.append(line.split(\" \")[1])\n",
    "    else:\n",
    "        dataLine = list(map(lambda x : x.strip(),line.split(\",\")))\n",
    "        dataDict = {attribute[i] : dataLine[i] for i in range(len(attribute))} # each line of data is now a dictionary.\n",
    "        data.append(dataDict)\n",
    "\n",
    "print(\"Relation Name is : %s\" %relationName)\n",
    "print(\"Attributes are \" + ','.join(attribute))\n",
    "print(data)"
   ]
  },
  {
   "cell_type": "code",
   "execution_count": null,
   "metadata": {},
   "outputs": [],
   "source": [
    "rx_dict = {\n",
    "    'datetime': re.compile(r'datetime = (?P<datetime>.*)\\n'),\n",
    "    'hyperparameters': re.compile(r'hyperparameters = (?P<hyperparameters>\\d+)\\n'),\n",
    "    'results': re.compile(r'results = (?P<results>\\d+)\\n'),  \n",
    "    'wall_time': re.compile(r'wall_time = (?P<wall_time>\\d+)\\n'),\n",
    "    \n",
    "}"
   ]
  },
  {
   "cell_type": "code",
   "execution_count": null,
   "metadata": {},
   "outputs": [],
   "source": [
    "def _parse_line(line):\n",
    "    \"\"\"\n",
    "    Do a regex search against all defined regexes and\n",
    "    return the key and match result of the first matching regex\n",
    "\n",
    "    \"\"\"\n",
    "\n",
    "    for key, rx in rx_dict.items():\n",
    "        match = rx.search(line)\n",
    "        if match:\n",
    "            return key, match\n",
    "    # if there are no matches\n",
    "    return None, None"
   ]
  },
  {
   "cell_type": "code",
   "execution_count": null,
   "metadata": {},
   "outputs": [],
   "source": []
  }
 ]
}