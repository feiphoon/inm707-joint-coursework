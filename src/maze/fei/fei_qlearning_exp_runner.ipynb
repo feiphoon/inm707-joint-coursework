{
 "metadata": {
  "language_info": {
   "codemirror_mode": {
    "name": "ipython",
    "version": 3
   },
   "file_extension": ".py",
   "mimetype": "text/x-python",
   "name": "python",
   "nbconvert_exporter": "python",
   "pygments_lexer": "ipython3",
   "version": "3.8.5"
  },
  "orig_nbformat": 2,
  "kernelspec": {
   "name": "python3",
   "display_name": "Python 3",
   "language": "python"
  }
 },
 "nbformat": 4,
 "nbformat_minor": 2,
 "cells": [
  {
   "source": [
    "# QLearning experiment runner"
   ],
   "cell_type": "markdown",
   "metadata": {}
  },
  {
   "cell_type": "code",
   "execution_count": 2,
   "metadata": {},
   "outputs": [],
   "source": [
    "%%capture\n",
    "!pip install tqdm"
   ]
  },
  {
   "cell_type": "code",
   "execution_count": 3,
   "metadata": {},
   "outputs": [],
   "source": [
    "import matplotlib.pyplot as plt\n",
    "%matplotlib inline\n",
    "import seaborn as sns\n",
    "\n",
    "from tqdm import tqdm\n",
    "import numpy as np\n",
    "import pandas as pd\n",
    "from collections import namedtuple\n",
    "\n",
    "from q_maze import QMaze, Action\n",
    "from fei_e_greedy_policy import EGreedyPolicy\n",
    "from fei_qlearning import QLearning\n",
    "\n",
    "from typing import Tuple"
   ]
  },
  {
   "source": [
    "## Instantiate QMaze and EGreedyPolicy"
   ],
   "cell_type": "markdown",
   "metadata": {}
  },
  {
   "cell_type": "code",
   "execution_count": 4,
   "metadata": {},
   "outputs": [],
   "source": [
    "qm = QMaze(30)\n",
    "# Reminder that QMaze.reset only returns agent state now.\n",
    "# Be careful to capture the state when resetting, because the \n",
    "# Agent/entrance will move!\n",
    "state = qm.reset()\n",
    "eg_policy = EGreedyPolicy(epsilon=0.5, decay=0.9)\n",
    "ql = QLearning(policy=eg_policy, environment=qm, gamma=0.9, alpha=0.01)\n"
   ]
  },
  {
   "cell_type": "code",
   "execution_count": 5,
   "metadata": {
    "tags": []
   },
   "outputs": [
    {
     "output_type": "stream",
     "name": "stdout",
     "text": [
      "X X X X X X X X X X X X X X X X X X X X X X X X X X X X X X \nX . . . . X X . . . . . X . . . . . . X . X X A . . . X . X \nX . X X X X X X X . X X X . X . X X . . . . X . X X X X . X \nX . X . X X . X . . . . X . X X X X X X X X X . X . X . . X \nX . . . . X . X X . X X X . X X X . X X . . X . X . . . X X \nX X . X X X . . . . X X . . . . X . . X X . X . X . X X X X \nX X . . . X X X X . . . . X X X X . X X X . . . . . . . . X \nX . . X X X X . X . X X X X X . . . X . X X X X . X X X X X \nX X . X . X . . X . X . X . X . X X X . X X . . . . X . X X \nX . . X . X X . . . . . . . . . X X . . X X . X X X X . . X \nX . X X . X X X X . X X X X X X X X . X X . . X X . X . X X \nX . X X . X . . . . . . . . X X X . . . X X . X X . X . X X \nX . X X . X . X . X X X X X X . X X . X X . . X X . X . . X \nX . X X . X . X X X . X . X X . X . . . X X . X X . . . X X \nX . . X . . . . X X . . . . X . X . X X X X . X X . X X X X \nX . X X . X X X X . . X . X X . X . . . X . . . . . . . . X \nX . X X . X X . X X X X . . X . X . X X X . X X . X X X . X \nX . X X . . X . X . X . . X X . X . X . . . X X . . . X . X \nX . X X . X X . X . X X . X . . . . . . X X X X X . X X X X \nX . X . . . X . X . X X . X . X X X X X X X . . X . . . . X \nX . X X . X X . X . X . . . . . . X X X . . . X X X . X . X \nX . X X . X X . . . X . X X X X . . . X X . X X . X X X X X \nX . X X . . X X . X X . X X X X X X X X . . . . . . . . . X \nX . . X . X X X . . . . . . . . . . . . . X . X . X . X X X \nX X . X . . . . . X X . X . X . X X . X X X X X X X X X X X \nX . . . . X . X X X X X X . X X X X . . . . X . . X X . . X \nX X . X X X . . . . X X . . . . . X X X X . . . X X X . X X \nX . . X X X X X X X X X X . X X X X X X X X X . . . . . . X \nX X . . . . . . . X X . . . . . . . . . . . X . X . X . X X \nX X X X X X X X X X X X X X X X X X X X X X X X X X X O X X \n\n"
     ]
    }
   ],
   "source": [
    "qm.display()"
   ]
  },
  {
   "source": [
    "## One iteration to check policy is working with QLearning"
   ],
   "cell_type": "markdown",
   "metadata": {}
  },
  {
   "cell_type": "code",
   "execution_count": 6,
   "metadata": {},
   "outputs": [
    {
     "output_type": "stream",
     "name": "stdout",
     "text": [
      "5443\n"
     ]
    },
    {
     "output_type": "display_data",
     "data": {
      "text/plain": "<Figure size 432x288 with 2 Axes>",
      "image/svg+xml": "<?xml version=\"1.0\" encoding=\"utf-8\" standalone=\"no\"?>\n<!DOCTYPE svg PUBLIC \"-//W3C//DTD SVG 1.1//EN\"\n  \"http://www.w3.org/Graphics/SVG/1.1/DTD/svg11.dtd\">\n<!-- Created with matplotlib (https://matplotlib.org/) -->\n<svg height=\"252.317344pt\" version=\"1.1\" viewBox=\"0 0 302.080125 252.317344\" width=\"302.080125pt\" xmlns=\"http://www.w3.org/2000/svg\" xmlns:xlink=\"http://www.w3.org/1999/xlink\">\n <metadata>\n  <rdf:RDF xmlns:cc=\"http://creativecommons.org/ns#\" xmlns:dc=\"http://purl.org/dc/elements/1.1/\" xmlns:rdf=\"http://www.w3.org/1999/02/22-rdf-syntax-ns#\">\n   <cc:Work>\n    <dc:type rdf:resource=\"http://purl.org/dc/dcmitype/StillImage\"/>\n    <dc:date>2021-04-01T17:00:14.841139</dc:date>\n    <dc:format>image/svg+xml</dc:format>\n    <dc:creator>\n     <cc:Agent>\n      <dc:title>Matplotlib v3.3.4, https://matplotlib.org/</dc:title>\n     </cc:Agent>\n    </dc:creator>\n   </cc:Work>\n  </rdf:RDF>\n </metadata>\n <defs>\n  <style type=\"text/css\">*{stroke-linecap:butt;stroke-linejoin:round;}</style>\n </defs>\n <g id=\"figure_1\">\n  <g id=\"patch_1\">\n   <path d=\"M 0 252.317344 \nL 302.080125 252.317344 \nL 302.080125 0 \nL 0 0 \nz\n\" style=\"fill:none;\"/>\n  </g>\n  <g id=\"axes_1\">\n   <g id=\"patch_2\">\n    <path d=\"M 26.925 228.439219 \nL 244.365 228.439219 \nL 244.365 10.999219 \nL 26.925 10.999219 \nz\n\" style=\"fill:#ffffff;\"/>\n   </g>\n   <g clip-path=\"url(#pee41b68e4f)\">\n    <image height=\"218\" id=\"image545139e246\" transform=\"scale(1 -1)translate(0 -218)\" width=\"218\" x=\"26.925\" xlink:href=\"data:image/png;base64,\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\" y=\"-10.439219\"/>\n   </g>\n   <g id=\"matplotlib.axis_1\">\n    <g id=\"xtick_1\">\n     <g id=\"line2d_1\">\n      <defs>\n       <path d=\"M 0 0 \nL 0 3.5 \n\" id=\"mb5e58bf435\" style=\"stroke:#000000;stroke-width:0.8;\"/>\n      </defs>\n      <g>\n       <use style=\"stroke:#000000;stroke-width:0.8;\" x=\"30.549\" xlink:href=\"#mb5e58bf435\" y=\"228.439219\"/>\n      </g>\n     </g>\n     <g id=\"text_1\">\n      <!-- 0 -->\n      <g transform=\"translate(27.36775 243.037656)scale(0.1 -0.1)\">\n       <defs>\n        <path d=\"M 31.78125 66.40625 \nQ 24.171875 66.40625 20.328125 58.90625 \nQ 16.5 51.421875 16.5 36.375 \nQ 16.5 21.390625 20.328125 13.890625 \nQ 24.171875 6.390625 31.78125 6.390625 \nQ 39.453125 6.390625 43.28125 13.890625 \nQ 47.125 21.390625 47.125 36.375 \nQ 47.125 51.421875 43.28125 58.90625 \nQ 39.453125 66.40625 31.78125 66.40625 \nz\nM 31.78125 74.21875 \nQ 44.046875 74.21875 50.515625 64.515625 \nQ 56.984375 54.828125 56.984375 36.375 \nQ 56.984375 17.96875 50.515625 8.265625 \nQ 44.046875 -1.421875 31.78125 -1.421875 \nQ 19.53125 -1.421875 13.0625 8.265625 \nQ 6.59375 17.96875 6.59375 36.375 \nQ 6.59375 54.828125 13.0625 64.515625 \nQ 19.53125 74.21875 31.78125 74.21875 \nz\n\" id=\"DejaVuSans-48\"/>\n       </defs>\n       <use xlink:href=\"#DejaVuSans-48\"/>\n      </g>\n     </g>\n    </g>\n    <g id=\"xtick_2\">\n     <g id=\"line2d_2\">\n      <g>\n       <use style=\"stroke:#000000;stroke-width:0.8;\" x=\"66.789\" xlink:href=\"#mb5e58bf435\" y=\"228.439219\"/>\n      </g>\n     </g>\n     <g id=\"text_2\">\n      <!-- 5 -->\n      <g transform=\"translate(63.60775 243.037656)scale(0.1 -0.1)\">\n       <defs>\n        <path d=\"M 10.796875 72.90625 \nL 49.515625 72.90625 \nL 49.515625 64.59375 \nL 19.828125 64.59375 \nL 19.828125 46.734375 \nQ 21.96875 47.46875 24.109375 47.828125 \nQ 26.265625 48.1875 28.421875 48.1875 \nQ 40.625 48.1875 47.75 41.5 \nQ 54.890625 34.8125 54.890625 23.390625 \nQ 54.890625 11.625 47.5625 5.09375 \nQ 40.234375 -1.421875 26.90625 -1.421875 \nQ 22.3125 -1.421875 17.546875 -0.640625 \nQ 12.796875 0.140625 7.71875 1.703125 \nL 7.71875 11.625 \nQ 12.109375 9.234375 16.796875 8.0625 \nQ 21.484375 6.890625 26.703125 6.890625 \nQ 35.15625 6.890625 40.078125 11.328125 \nQ 45.015625 15.765625 45.015625 23.390625 \nQ 45.015625 31 40.078125 35.4375 \nQ 35.15625 39.890625 26.703125 39.890625 \nQ 22.75 39.890625 18.8125 39.015625 \nQ 14.890625 38.140625 10.796875 36.28125 \nz\n\" id=\"DejaVuSans-53\"/>\n       </defs>\n       <use xlink:href=\"#DejaVuSans-53\"/>\n      </g>\n     </g>\n    </g>\n    <g id=\"xtick_3\">\n     <g id=\"line2d_3\">\n      <g>\n       <use style=\"stroke:#000000;stroke-width:0.8;\" x=\"103.029\" xlink:href=\"#mb5e58bf435\" y=\"228.439219\"/>\n      </g>\n     </g>\n     <g id=\"text_3\">\n      <!-- 10 -->\n      <g transform=\"translate(96.6665 243.037656)scale(0.1 -0.1)\">\n       <defs>\n        <path d=\"M 12.40625 8.296875 \nL 28.515625 8.296875 \nL 28.515625 63.921875 \nL 10.984375 60.40625 \nL 10.984375 69.390625 \nL 28.421875 72.90625 \nL 38.28125 72.90625 \nL 38.28125 8.296875 \nL 54.390625 8.296875 \nL 54.390625 0 \nL 12.40625 0 \nz\n\" id=\"DejaVuSans-49\"/>\n       </defs>\n       <use xlink:href=\"#DejaVuSans-49\"/>\n       <use x=\"63.623047\" xlink:href=\"#DejaVuSans-48\"/>\n      </g>\n     </g>\n    </g>\n    <g id=\"xtick_4\">\n     <g id=\"line2d_4\">\n      <g>\n       <use style=\"stroke:#000000;stroke-width:0.8;\" x=\"139.269\" xlink:href=\"#mb5e58bf435\" y=\"228.439219\"/>\n      </g>\n     </g>\n     <g id=\"text_4\">\n      <!-- 15 -->\n      <g transform=\"translate(132.9065 243.037656)scale(0.1 -0.1)\">\n       <use xlink:href=\"#DejaVuSans-49\"/>\n       <use x=\"63.623047\" xlink:href=\"#DejaVuSans-53\"/>\n      </g>\n     </g>\n    </g>\n    <g id=\"xtick_5\">\n     <g id=\"line2d_5\">\n      <g>\n       <use style=\"stroke:#000000;stroke-width:0.8;\" x=\"175.509\" xlink:href=\"#mb5e58bf435\" y=\"228.439219\"/>\n      </g>\n     </g>\n     <g id=\"text_5\">\n      <!-- 20 -->\n      <g transform=\"translate(169.1465 243.037656)scale(0.1 -0.1)\">\n       <defs>\n        <path d=\"M 19.1875 8.296875 \nL 53.609375 8.296875 \nL 53.609375 0 \nL 7.328125 0 \nL 7.328125 8.296875 \nQ 12.9375 14.109375 22.625 23.890625 \nQ 32.328125 33.6875 34.8125 36.53125 \nQ 39.546875 41.84375 41.421875 45.53125 \nQ 43.3125 49.21875 43.3125 52.78125 \nQ 43.3125 58.59375 39.234375 62.25 \nQ 35.15625 65.921875 28.609375 65.921875 \nQ 23.96875 65.921875 18.8125 64.3125 \nQ 13.671875 62.703125 7.8125 59.421875 \nL 7.8125 69.390625 \nQ 13.765625 71.78125 18.9375 73 \nQ 24.125 74.21875 28.421875 74.21875 \nQ 39.75 74.21875 46.484375 68.546875 \nQ 53.21875 62.890625 53.21875 53.421875 \nQ 53.21875 48.921875 51.53125 44.890625 \nQ 49.859375 40.875 45.40625 35.40625 \nQ 44.1875 33.984375 37.640625 27.21875 \nQ 31.109375 20.453125 19.1875 8.296875 \nz\n\" id=\"DejaVuSans-50\"/>\n       </defs>\n       <use xlink:href=\"#DejaVuSans-50\"/>\n       <use x=\"63.623047\" xlink:href=\"#DejaVuSans-48\"/>\n      </g>\n     </g>\n    </g>\n    <g id=\"xtick_6\">\n     <g id=\"line2d_6\">\n      <g>\n       <use style=\"stroke:#000000;stroke-width:0.8;\" x=\"211.749\" xlink:href=\"#mb5e58bf435\" y=\"228.439219\"/>\n      </g>\n     </g>\n     <g id=\"text_6\">\n      <!-- 25 -->\n      <g transform=\"translate(205.3865 243.037656)scale(0.1 -0.1)\">\n       <use xlink:href=\"#DejaVuSans-50\"/>\n       <use x=\"63.623047\" xlink:href=\"#DejaVuSans-53\"/>\n      </g>\n     </g>\n    </g>\n   </g>\n   <g id=\"matplotlib.axis_2\">\n    <g id=\"ytick_1\">\n     <g id=\"line2d_7\">\n      <defs>\n       <path d=\"M 0 0 \nL -3.5 0 \n\" id=\"maf93ae7178\" style=\"stroke:#000000;stroke-width:0.8;\"/>\n      </defs>\n      <g>\n       <use style=\"stroke:#000000;stroke-width:0.8;\" x=\"26.925\" xlink:href=\"#maf93ae7178\" y=\"14.623219\"/>\n      </g>\n     </g>\n     <g id=\"text_7\">\n      <!-- 0 -->\n      <g transform=\"translate(13.5625 18.422438)scale(0.1 -0.1)\">\n       <use xlink:href=\"#DejaVuSans-48\"/>\n      </g>\n     </g>\n    </g>\n    <g id=\"ytick_2\">\n     <g id=\"line2d_8\">\n      <g>\n       <use style=\"stroke:#000000;stroke-width:0.8;\" x=\"26.925\" xlink:href=\"#maf93ae7178\" y=\"50.863219\"/>\n      </g>\n     </g>\n     <g id=\"text_8\">\n      <!-- 5 -->\n      <g transform=\"translate(13.5625 54.662438)scale(0.1 -0.1)\">\n       <use xlink:href=\"#DejaVuSans-53\"/>\n      </g>\n     </g>\n    </g>\n    <g id=\"ytick_3\">\n     <g id=\"line2d_9\">\n      <g>\n       <use style=\"stroke:#000000;stroke-width:0.8;\" x=\"26.925\" xlink:href=\"#maf93ae7178\" y=\"87.103219\"/>\n      </g>\n     </g>\n     <g id=\"text_9\">\n      <!-- 10 -->\n      <g transform=\"translate(7.2 90.902438)scale(0.1 -0.1)\">\n       <use xlink:href=\"#DejaVuSans-49\"/>\n       <use x=\"63.623047\" xlink:href=\"#DejaVuSans-48\"/>\n      </g>\n     </g>\n    </g>\n    <g id=\"ytick_4\">\n     <g id=\"line2d_10\">\n      <g>\n       <use style=\"stroke:#000000;stroke-width:0.8;\" x=\"26.925\" xlink:href=\"#maf93ae7178\" y=\"123.343219\"/>\n      </g>\n     </g>\n     <g id=\"text_10\">\n      <!-- 15 -->\n      <g transform=\"translate(7.2 127.142437)scale(0.1 -0.1)\">\n       <use xlink:href=\"#DejaVuSans-49\"/>\n       <use x=\"63.623047\" xlink:href=\"#DejaVuSans-53\"/>\n      </g>\n     </g>\n    </g>\n    <g id=\"ytick_5\">\n     <g id=\"line2d_11\">\n      <g>\n       <use style=\"stroke:#000000;stroke-width:0.8;\" x=\"26.925\" xlink:href=\"#maf93ae7178\" y=\"159.583219\"/>\n      </g>\n     </g>\n     <g id=\"text_11\">\n      <!-- 20 -->\n      <g transform=\"translate(7.2 163.382438)scale(0.1 -0.1)\">\n       <use xlink:href=\"#DejaVuSans-50\"/>\n       <use x=\"63.623047\" xlink:href=\"#DejaVuSans-48\"/>\n      </g>\n     </g>\n    </g>\n    <g id=\"ytick_6\">\n     <g id=\"line2d_12\">\n      <g>\n       <use style=\"stroke:#000000;stroke-width:0.8;\" x=\"26.925\" xlink:href=\"#maf93ae7178\" y=\"195.823219\"/>\n      </g>\n     </g>\n     <g id=\"text_12\">\n      <!-- 25 -->\n      <g transform=\"translate(7.2 199.622438)scale(0.1 -0.1)\">\n       <use xlink:href=\"#DejaVuSans-50\"/>\n       <use x=\"63.623047\" xlink:href=\"#DejaVuSans-53\"/>\n      </g>\n     </g>\n    </g>\n   </g>\n   <g id=\"patch_3\">\n    <path d=\"M 26.925 228.439219 \nL 26.925 10.999219 \n\" style=\"fill:none;stroke:#000000;stroke-linecap:square;stroke-linejoin:miter;stroke-width:0.8;\"/>\n   </g>\n   <g id=\"patch_4\">\n    <path d=\"M 244.365 228.439219 \nL 244.365 10.999219 \n\" style=\"fill:none;stroke:#000000;stroke-linecap:square;stroke-linejoin:miter;stroke-width:0.8;\"/>\n   </g>\n   <g id=\"patch_5\">\n    <path d=\"M 26.925 228.439219 \nL 244.365 228.439219 \n\" style=\"fill:none;stroke:#000000;stroke-linecap:square;stroke-linejoin:miter;stroke-width:0.8;\"/>\n   </g>\n   <g id=\"patch_6\">\n    <path d=\"M 26.925 10.999219 \nL 244.365 10.999219 \n\" style=\"fill:none;stroke:#000000;stroke-linecap:square;stroke-linejoin:miter;stroke-width:0.8;\"/>\n   </g>\n  </g>\n  <g id=\"axes_2\">\n   <g id=\"patch_7\">\n    <path clip-path=\"url(#p36e2b874c8)\" d=\"M 261.105 228.439219 \nL 261.105 227.589844 \nL 261.105 11.848594 \nL 261.105 10.999219 \nL 271.977 10.999219 \nL 271.977 11.848594 \nL 271.977 227.589844 \nL 271.977 228.439219 \nz\n\" style=\"fill:#ffffff;stroke:#ffffff;stroke-linejoin:miter;stroke-width:0.01;\"/>\n   </g>\n   <image height=\"217\" id=\"imagede92ad4731\" transform=\"scale(1 -1)translate(0 -217)\" width=\"11\" x=\"261\" xlink:href=\"data:image/png;base64,\niVBORw0KGgoAAAANSUhEUgAAAAsAAADZCAYAAAD2WsoCAAABSElEQVR4nN2awQ0CMQwEYztHZdRA/41AaMHzGMl3vK3V7qxD0HHxzs9Zzc+OjO7s2iuyP8yUq4gNoBwJPCPlpSkHosEa1IaHcBZpaDZEdBaNw2y0Z00aomftWJ2a0WB/1gx4NBsooLdIhxxYjwZUBsNwn4nyHWmIdSMbmrJGw9wNS9nkfEN0M7ZuirJHoz+LL3piA92Dmo3n1/14dDcM6NW9on++x6C7Hw3gmAcEnr1SRM4zaICfSG4pXsARyuA5GaTBbMxAl2JAi4bnOZMMezaWha7yB2x4AUUaYHhrNLyAng1GQ/RslbKZMhgusW6LxhVfSRnSsAIWUb6S0CANlrd1xAasG9kY0SDizGgwG1ZAVMpLDKjthnasrgVowIDWPciWn30VeAHbs1S5L7z2i/zdgJSLKYPhIsNI+Qrwug7zTN45SfCQ6g9eiIFo/nbsswAAAABJRU5ErkJggg==\" y=\"-11\"/>\n   <g id=\"matplotlib.axis_3\"/>\n   <g id=\"matplotlib.axis_4\">\n    <g id=\"ytick_7\">\n     <g id=\"line2d_13\">\n      <defs>\n       <path d=\"M 0 0 \nL 3.5 0 \n\" id=\"mff9f991f97\" style=\"stroke:#000000;stroke-width:0.8;\"/>\n      </defs>\n      <g>\n       <use style=\"stroke:#000000;stroke-width:0.8;\" x=\"271.977\" xlink:href=\"#mff9f991f97\" y=\"228.439219\"/>\n      </g>\n     </g>\n     <g id=\"text_13\">\n      <!-- 0.0 -->\n      <g transform=\"translate(278.977 232.238437)scale(0.1 -0.1)\">\n       <defs>\n        <path d=\"M 10.6875 12.40625 \nL 21 12.40625 \nL 21 0 \nL 10.6875 0 \nz\n\" id=\"DejaVuSans-46\"/>\n       </defs>\n       <use xlink:href=\"#DejaVuSans-48\"/>\n       <use x=\"63.623047\" xlink:href=\"#DejaVuSans-46\"/>\n       <use x=\"95.410156\" xlink:href=\"#DejaVuSans-48\"/>\n      </g>\n     </g>\n    </g>\n    <g id=\"ytick_8\">\n     <g id=\"line2d_14\">\n      <g>\n       <use style=\"stroke:#000000;stroke-width:0.8;\" x=\"271.977\" xlink:href=\"#mff9f991f97\" y=\"184.951219\"/>\n      </g>\n     </g>\n     <g id=\"text_14\">\n      <!-- 0.2 -->\n      <g transform=\"translate(278.977 188.750437)scale(0.1 -0.1)\">\n       <use xlink:href=\"#DejaVuSans-48\"/>\n       <use x=\"63.623047\" xlink:href=\"#DejaVuSans-46\"/>\n       <use x=\"95.410156\" xlink:href=\"#DejaVuSans-50\"/>\n      </g>\n     </g>\n    </g>\n    <g id=\"ytick_9\">\n     <g id=\"line2d_15\">\n      <g>\n       <use style=\"stroke:#000000;stroke-width:0.8;\" x=\"271.977\" xlink:href=\"#mff9f991f97\" y=\"141.463219\"/>\n      </g>\n     </g>\n     <g id=\"text_15\">\n      <!-- 0.4 -->\n      <g transform=\"translate(278.977 145.262437)scale(0.1 -0.1)\">\n       <defs>\n        <path d=\"M 37.796875 64.3125 \nL 12.890625 25.390625 \nL 37.796875 25.390625 \nz\nM 35.203125 72.90625 \nL 47.609375 72.90625 \nL 47.609375 25.390625 \nL 58.015625 25.390625 \nL 58.015625 17.1875 \nL 47.609375 17.1875 \nL 47.609375 0 \nL 37.796875 0 \nL 37.796875 17.1875 \nL 4.890625 17.1875 \nL 4.890625 26.703125 \nz\n\" id=\"DejaVuSans-52\"/>\n       </defs>\n       <use xlink:href=\"#DejaVuSans-48\"/>\n       <use x=\"63.623047\" xlink:href=\"#DejaVuSans-46\"/>\n       <use x=\"95.410156\" xlink:href=\"#DejaVuSans-52\"/>\n      </g>\n     </g>\n    </g>\n    <g id=\"ytick_10\">\n     <g id=\"line2d_16\">\n      <g>\n       <use style=\"stroke:#000000;stroke-width:0.8;\" x=\"271.977\" xlink:href=\"#mff9f991f97\" y=\"97.975219\"/>\n      </g>\n     </g>\n     <g id=\"text_16\">\n      <!-- 0.6 -->\n      <g transform=\"translate(278.977 101.774437)scale(0.1 -0.1)\">\n       <defs>\n        <path d=\"M 33.015625 40.375 \nQ 26.375 40.375 22.484375 35.828125 \nQ 18.609375 31.296875 18.609375 23.390625 \nQ 18.609375 15.53125 22.484375 10.953125 \nQ 26.375 6.390625 33.015625 6.390625 \nQ 39.65625 6.390625 43.53125 10.953125 \nQ 47.40625 15.53125 47.40625 23.390625 \nQ 47.40625 31.296875 43.53125 35.828125 \nQ 39.65625 40.375 33.015625 40.375 \nz\nM 52.59375 71.296875 \nL 52.59375 62.3125 \nQ 48.875 64.0625 45.09375 64.984375 \nQ 41.3125 65.921875 37.59375 65.921875 \nQ 27.828125 65.921875 22.671875 59.328125 \nQ 17.53125 52.734375 16.796875 39.40625 \nQ 19.671875 43.65625 24.015625 45.921875 \nQ 28.375 48.1875 33.59375 48.1875 \nQ 44.578125 48.1875 50.953125 41.515625 \nQ 57.328125 34.859375 57.328125 23.390625 \nQ 57.328125 12.15625 50.6875 5.359375 \nQ 44.046875 -1.421875 33.015625 -1.421875 \nQ 20.359375 -1.421875 13.671875 8.265625 \nQ 6.984375 17.96875 6.984375 36.375 \nQ 6.984375 53.65625 15.1875 63.9375 \nQ 23.390625 74.21875 37.203125 74.21875 \nQ 40.921875 74.21875 44.703125 73.484375 \nQ 48.484375 72.75 52.59375 71.296875 \nz\n\" id=\"DejaVuSans-54\"/>\n       </defs>\n       <use xlink:href=\"#DejaVuSans-48\"/>\n       <use x=\"63.623047\" xlink:href=\"#DejaVuSans-46\"/>\n       <use x=\"95.410156\" xlink:href=\"#DejaVuSans-54\"/>\n      </g>\n     </g>\n    </g>\n    <g id=\"ytick_11\">\n     <g id=\"line2d_17\">\n      <g>\n       <use style=\"stroke:#000000;stroke-width:0.8;\" x=\"271.977\" xlink:href=\"#mff9f991f97\" y=\"54.487219\"/>\n      </g>\n     </g>\n     <g id=\"text_17\">\n      <!-- 0.8 -->\n      <g transform=\"translate(278.977 58.286437)scale(0.1 -0.1)\">\n       <defs>\n        <path d=\"M 31.78125 34.625 \nQ 24.75 34.625 20.71875 30.859375 \nQ 16.703125 27.09375 16.703125 20.515625 \nQ 16.703125 13.921875 20.71875 10.15625 \nQ 24.75 6.390625 31.78125 6.390625 \nQ 38.8125 6.390625 42.859375 10.171875 \nQ 46.921875 13.96875 46.921875 20.515625 \nQ 46.921875 27.09375 42.890625 30.859375 \nQ 38.875 34.625 31.78125 34.625 \nz\nM 21.921875 38.8125 \nQ 15.578125 40.375 12.03125 44.71875 \nQ 8.5 49.078125 8.5 55.328125 \nQ 8.5 64.0625 14.71875 69.140625 \nQ 20.953125 74.21875 31.78125 74.21875 \nQ 42.671875 74.21875 48.875 69.140625 \nQ 55.078125 64.0625 55.078125 55.328125 \nQ 55.078125 49.078125 51.53125 44.71875 \nQ 48 40.375 41.703125 38.8125 \nQ 48.828125 37.15625 52.796875 32.3125 \nQ 56.78125 27.484375 56.78125 20.515625 \nQ 56.78125 9.90625 50.3125 4.234375 \nQ 43.84375 -1.421875 31.78125 -1.421875 \nQ 19.734375 -1.421875 13.25 4.234375 \nQ 6.78125 9.90625 6.78125 20.515625 \nQ 6.78125 27.484375 10.78125 32.3125 \nQ 14.796875 37.15625 21.921875 38.8125 \nz\nM 18.3125 54.390625 \nQ 18.3125 48.734375 21.84375 45.5625 \nQ 25.390625 42.390625 31.78125 42.390625 \nQ 38.140625 42.390625 41.71875 45.5625 \nQ 45.3125 48.734375 45.3125 54.390625 \nQ 45.3125 60.0625 41.71875 63.234375 \nQ 38.140625 66.40625 31.78125 66.40625 \nQ 25.390625 66.40625 21.84375 63.234375 \nQ 18.3125 60.0625 18.3125 54.390625 \nz\n\" id=\"DejaVuSans-56\"/>\n       </defs>\n       <use xlink:href=\"#DejaVuSans-48\"/>\n       <use x=\"63.623047\" xlink:href=\"#DejaVuSans-46\"/>\n       <use x=\"95.410156\" xlink:href=\"#DejaVuSans-56\"/>\n      </g>\n     </g>\n    </g>\n    <g id=\"ytick_12\">\n     <g id=\"line2d_18\">\n      <g>\n       <use style=\"stroke:#000000;stroke-width:0.8;\" x=\"271.977\" xlink:href=\"#mff9f991f97\" y=\"10.999219\"/>\n      </g>\n     </g>\n     <g id=\"text_18\">\n      <!-- 1.0 -->\n      <g transform=\"translate(278.977 14.798437)scale(0.1 -0.1)\">\n       <use xlink:href=\"#DejaVuSans-49\"/>\n       <use x=\"63.623047\" xlink:href=\"#DejaVuSans-46\"/>\n       <use x=\"95.410156\" xlink:href=\"#DejaVuSans-48\"/>\n      </g>\n     </g>\n    </g>\n   </g>\n   <g id=\"patch_8\">\n    <path d=\"M 261.105 228.439219 \nL 261.105 227.589844 \nL 261.105 11.848594 \nL 261.105 10.999219 \nL 271.977 10.999219 \nL 271.977 11.848594 \nL 271.977 227.589844 \nL 271.977 228.439219 \nz\n\" style=\"fill:none;stroke:#000000;stroke-linejoin:miter;stroke-width:0.8;\"/>\n   </g>\n  </g>\n </g>\n <defs>\n  <clipPath id=\"pee41b68e4f\">\n   <rect height=\"217.44\" width=\"217.44\" x=\"26.925\" y=\"10.999219\"/>\n  </clipPath>\n  <clipPath id=\"p36e2b874c8\">\n   <rect height=\"217.44\" width=\"10.872\" x=\"261.105\" y=\"10.999219\"/>\n  </clipPath>\n </defs>\n</svg>\n",
      "image/png": "[encoded data removed]"
     },
     "metadata": {
      "needs_background": "light"
     }
    }
   ],
   "source": [
    "done = False\n",
    "total_reward = 0\n",
    "\n",
    "while not done:\n",
    "    action = eg_policy(state, ql.q_value_store)\n",
    "    next_state, reward, done = qm.step(action)\n",
    "\n",
    "    next_action = eg_policy(next_state, ql.q_value_store)\n",
    "    \n",
    "    action_index = action.value.index\n",
    "    \n",
    "    ql.update_q_values(\n",
    "        current_state=state,\n",
    "        next_action=action_index,\n",
    "        next_reward=reward,\n",
    "        next_state=next_state\n",
    "    )\n",
    "\n",
    "    eg_policy.update_epsilon()\n",
    "    state = next_state\n",
    "    total_reward += reward\n",
    "\n",
    "print(qm.turns_elapsed)\n",
    "vals = ql.display_q_values()\n",
    "plt.imshow((vals - vals.min())/(vals.max() - vals.min()))\n",
    "plt.colorbar()\n",
    "plt.show()"
   ]
  },
  {
   "source": [
    "## Now do it nicely for more episodes"
   ],
   "cell_type": "markdown",
   "metadata": {}
  },
  {
   "cell_type": "code",
   "execution_count": 7,
   "metadata": {},
   "outputs": [],
   "source": [
    "Results = namedtuple(\"Results\", \"all_rewards, max_reward, mean_reward, var_reward, all_turns_elapsed, max_turns_elapsed, mean_turns_elapsed, var_turns_elapsed, mean_ending_epsilon\")"
   ]
  },
  {
   "cell_type": "code",
   "execution_count": 8,
   "metadata": {},
   "outputs": [],
   "source": [
    "# Transfer spike code to a nice function\n",
    "def train_ql_for_one_episode(environment: QMaze, q_learning_method: QLearning, policy: EGreedyPolicy) -> Tuple[int, int, float]:\n",
    "    state = environment.reset()\n",
    "    done = False\n",
    "    total_reward = 0\n",
    "\n",
    "    while not done:\n",
    "        action = policy(state, q_learning_method.q_value_store)\n",
    "        next_state, reward, done = environment.step(action)\n",
    "\n",
    "        next_action = policy(next_state, q_learning_method.q_value_store)\n",
    "        \n",
    "        action_index = action.value.index\n",
    "        \n",
    "        q_learning_method.update_q_values(\n",
    "            current_state=state,\n",
    "            next_action=action_index,\n",
    "            next_reward=reward,\n",
    "            next_state=next_state\n",
    "        )\n",
    "\n",
    "        policy.update_epsilon()\n",
    "        state = next_state\n",
    "        total_reward += reward\n",
    "\n",
    "    return total_reward, environment.turns_elapsed, policy.epsilon"
   ]
  },
  {
   "cell_type": "code",
   "execution_count": 9,
   "metadata": {},
   "outputs": [],
   "source": [
    "def run_ql_experiments(environment: QMaze, policy: EGreedyPolicy, q_learning_method: QLearning, num_exp: int) -> Results:\n",
    "    all_rewards = []\n",
    "    all_turns_elapsed = []\n",
    "    all_ending_epsilon = []\n",
    "\n",
    "    for _ in range(num_exp):\n",
    "\n",
    "        final_reward, final_turns_elapsed, final_epsilon = train_ql_for_one_episode(environment=environment, policy=policy, q_learning_method=q_learning_method)\n",
    "\n",
    "        # Record some information\n",
    "        all_rewards.append(final_reward)\n",
    "        all_turns_elapsed.append(final_turns_elapsed)\n",
    "        all_ending_epsilon.append(final_epsilon)\n",
    "\n",
    "    \n",
    "    max_reward = max(all_rewards)\n",
    "    mean_reward = np.mean(all_rewards)\n",
    "    var_reward = np.std(all_rewards)\n",
    "\n",
    "    max_turns_elapsed = max(all_turns_elapsed)\n",
    "    mean_turns_elapsed = np.mean(all_turns_elapsed)\n",
    "    var_turns_elapsed = np.std(all_turns_elapsed)\n",
    "\n",
    "    mean_ending_epsilon = np.mean(all_ending_epsilon)\n",
    "    # policy.reset()\n",
    "\n",
    "    return Results(all_rewards, max_reward, mean_reward, var_reward, all_turns_elapsed, max_turns_elapsed, mean_turns_elapsed, var_turns_elapsed, mean_ending_epsilon)\n"
   ]
  },
  {
   "cell_type": "code",
   "execution_count": 11,
   "metadata": {},
   "outputs": [
    {
     "output_type": "stream",
     "name": "stderr",
     "text": [
      "  1%|          | 1/100 [01:17<2:07:29, 77.27s/it]Run: 0, ending epsilon: 0.0900567811781995, mean reward: -21755.04, std reward: 23839.020145098246\n",
      " 11%|█         | 11/100 [01:47<11:40,  7.87s/it] Run: 10, ending epsilon: 0.0900567811781995, mean reward: -7501.7733333333335, std reward: 8394.637276378031\n",
      " 21%|██        | 21/100 [02:06<05:51,  4.45s/it]Run: 20, ending epsilon: 0.0900567811781995, mean reward: -4444.806666666666, std reward: 6310.985917373678\n",
      " 31%|███       | 31/100 [02:27<03:56,  3.42s/it]Run: 30, ending epsilon: 0.0900567811781995, mean reward: -5317.673333333333, std reward: 9011.350302440189\n",
      " 41%|████      | 41/100 [02:44<02:42,  2.75s/it]Run: 40, ending epsilon: 0.0900567811781995, mean reward: -3580.3533333333335, std reward: 8124.217880006802\n",
      " 51%|█████     | 51/100 [03:00<01:53,  2.31s/it]Run: 50, ending epsilon: 0.0900567811781995, mean reward: -3144.28, std reward: 6841.739462173831\n",
      " 61%|██████    | 61/100 [12:32<13:36, 20.92s/it]Run: 60, ending epsilon: 0.0900567811781995, mean reward: -115639.06666666667, std reward: 785746.73889607\n",
      " 70%|███████   | 70/100 [27:48<11:54, 23.83s/it]\n"
     ]
    },
    {
     "output_type": "error",
     "ename": "KeyboardInterrupt",
     "evalue": "",
     "traceback": [
      "\u001b[0;31m---------------------------------------------------------------------------\u001b[0m",
      "\u001b[0;31mKeyboardInterrupt\u001b[0m                         Traceback (most recent call last)",
      "\u001b[0;32m<ipython-input-11-da5fe8f12caf>\u001b[0m in \u001b[0;36m<module>\u001b[0;34m\u001b[0m\n\u001b[1;32m     10\u001b[0m \u001b[0;34m\u001b[0m\u001b[0m\n\u001b[1;32m     11\u001b[0m     \u001b[0;32mif\u001b[0m \u001b[0;34m(\u001b[0m\u001b[0mrun\u001b[0m \u001b[0;34m%\u001b[0m \u001b[0;36m10\u001b[0m\u001b[0;34m)\u001b[0m \u001b[0;34m==\u001b[0m \u001b[0;36m0\u001b[0m\u001b[0;34m:\u001b[0m\u001b[0;34m\u001b[0m\u001b[0;34m\u001b[0m\u001b[0m\n\u001b[0;32m---> 12\u001b[0;31m         \u001b[0mresults\u001b[0m \u001b[0;34m=\u001b[0m \u001b[0mrun_ql_experiments\u001b[0m\u001b[0;34m(\u001b[0m\u001b[0menvironment\u001b[0m\u001b[0;34m=\u001b[0m\u001b[0mqm\u001b[0m\u001b[0;34m,\u001b[0m \u001b[0mpolicy\u001b[0m\u001b[0;34m=\u001b[0m\u001b[0meg_policy\u001b[0m\u001b[0;34m,\u001b[0m \u001b[0mq_learning_method\u001b[0m\u001b[0;34m=\u001b[0m\u001b[0mql\u001b[0m\u001b[0;34m,\u001b[0m \u001b[0mnum_exp\u001b[0m\u001b[0;34m=\u001b[0m\u001b[0;36m150\u001b[0m\u001b[0;34m)\u001b[0m\u001b[0;34m\u001b[0m\u001b[0;34m\u001b[0m\u001b[0m\n\u001b[0m\u001b[1;32m     13\u001b[0m         \u001b[0mprint\u001b[0m\u001b[0;34m(\u001b[0m\u001b[0;34mf\"Run: {run}, ending epsilon: {eg_policy.epsilon}, mean reward: {results.mean_reward}, std reward: {results.var_reward}\"\u001b[0m\u001b[0;34m)\u001b[0m\u001b[0;34m\u001b[0m\u001b[0;34m\u001b[0m\u001b[0m\n\u001b[1;32m     14\u001b[0m         \u001b[0mall_results\u001b[0m\u001b[0;34m.\u001b[0m\u001b[0mappend\u001b[0m\u001b[0;34m(\u001b[0m\u001b[0mresults\u001b[0m\u001b[0;34m)\u001b[0m\u001b[0;34m\u001b[0m\u001b[0;34m\u001b[0m\u001b[0m\n",
      "\u001b[0;32m<ipython-input-9-a5ade65d6288>\u001b[0m in \u001b[0;36mrun_ql_experiments\u001b[0;34m(environment, policy, q_learning_method, num_exp)\u001b[0m\n\u001b[1;32m      6\u001b[0m     \u001b[0;32mfor\u001b[0m \u001b[0m_\u001b[0m \u001b[0;32min\u001b[0m \u001b[0mrange\u001b[0m\u001b[0;34m(\u001b[0m\u001b[0mnum_exp\u001b[0m\u001b[0;34m)\u001b[0m\u001b[0;34m:\u001b[0m\u001b[0;34m\u001b[0m\u001b[0;34m\u001b[0m\u001b[0m\n\u001b[1;32m      7\u001b[0m \u001b[0;34m\u001b[0m\u001b[0m\n\u001b[0;32m----> 8\u001b[0;31m         \u001b[0mfinal_reward\u001b[0m\u001b[0;34m,\u001b[0m \u001b[0mfinal_turns_elapsed\u001b[0m\u001b[0;34m,\u001b[0m \u001b[0mfinal_epsilon\u001b[0m \u001b[0;34m=\u001b[0m \u001b[0mtrain_ql_for_one_episode\u001b[0m\u001b[0;34m(\u001b[0m\u001b[0menvironment\u001b[0m\u001b[0;34m=\u001b[0m\u001b[0menvironment\u001b[0m\u001b[0;34m,\u001b[0m \u001b[0mpolicy\u001b[0m\u001b[0;34m=\u001b[0m\u001b[0mpolicy\u001b[0m\u001b[0;34m,\u001b[0m \u001b[0mq_learning_method\u001b[0m\u001b[0;34m=\u001b[0m\u001b[0mq_learning_method\u001b[0m\u001b[0;34m)\u001b[0m\u001b[0;34m\u001b[0m\u001b[0;34m\u001b[0m\u001b[0m\n\u001b[0m\u001b[1;32m      9\u001b[0m \u001b[0;34m\u001b[0m\u001b[0m\n\u001b[1;32m     10\u001b[0m         \u001b[0;31m# Record some information\u001b[0m\u001b[0;34m\u001b[0m\u001b[0;34m\u001b[0m\u001b[0;34m\u001b[0m\u001b[0m\n",
      "\u001b[0;32m<ipython-input-8-6bb3fa932645>\u001b[0m in \u001b[0;36mtrain_ql_for_one_episode\u001b[0;34m(environment, q_learning_method, policy)\u001b[0m\n\u001b[1;32m      9\u001b[0m         \u001b[0mnext_state\u001b[0m\u001b[0;34m,\u001b[0m \u001b[0mreward\u001b[0m\u001b[0;34m,\u001b[0m \u001b[0mdone\u001b[0m \u001b[0;34m=\u001b[0m \u001b[0menvironment\u001b[0m\u001b[0;34m.\u001b[0m\u001b[0mstep\u001b[0m\u001b[0;34m(\u001b[0m\u001b[0maction\u001b[0m\u001b[0;34m)\u001b[0m\u001b[0;34m\u001b[0m\u001b[0;34m\u001b[0m\u001b[0m\n\u001b[1;32m     10\u001b[0m \u001b[0;34m\u001b[0m\u001b[0m\n\u001b[0;32m---> 11\u001b[0;31m         \u001b[0mnext_action\u001b[0m \u001b[0;34m=\u001b[0m \u001b[0mpolicy\u001b[0m\u001b[0;34m(\u001b[0m\u001b[0mnext_state\u001b[0m\u001b[0;34m,\u001b[0m \u001b[0mq_learning_method\u001b[0m\u001b[0;34m.\u001b[0m\u001b[0mq_value_store\u001b[0m\u001b[0;34m)\u001b[0m\u001b[0;34m\u001b[0m\u001b[0;34m\u001b[0m\u001b[0m\n\u001b[0m\u001b[1;32m     12\u001b[0m \u001b[0;34m\u001b[0m\u001b[0m\n\u001b[1;32m     13\u001b[0m         \u001b[0maction_index\u001b[0m \u001b[0;34m=\u001b[0m \u001b[0maction\u001b[0m\u001b[0;34m.\u001b[0m\u001b[0mvalue\u001b[0m\u001b[0;34m.\u001b[0m\u001b[0mindex\u001b[0m\u001b[0;34m\u001b[0m\u001b[0;34m\u001b[0m\u001b[0m\n",
      "\u001b[0;32m~/projects/inm707-joint-coursework/src/maze/fei_e_greedy_policy.py\u001b[0m in \u001b[0;36m__call__\u001b[0;34m(self, state, q_value_store)\u001b[0m\n\u001b[1;32m     52\u001b[0m         \u001b[0;31m# so this is what it's come to. We want this to return Action.DIRECTION.\u001b[0m\u001b[0;34m\u001b[0m\u001b[0;34m\u001b[0m\u001b[0;34m\u001b[0m\u001b[0m\n\u001b[1;32m     53\u001b[0m         \u001b[0;31m# This covers the action_index returned by all parts of the if-else just above.\u001b[0m\u001b[0;34m\u001b[0m\u001b[0;34m\u001b[0m\u001b[0;34m\u001b[0m\u001b[0m\n\u001b[0;32m---> 54\u001b[0;31m         \u001b[0;32mfor\u001b[0m \u001b[0m_\u001b[0m \u001b[0;32min\u001b[0m \u001b[0mlist\u001b[0m\u001b[0;34m(\u001b[0m\u001b[0mAction\u001b[0m\u001b[0;34m)\u001b[0m\u001b[0;34m:\u001b[0m\u001b[0;34m\u001b[0m\u001b[0;34m\u001b[0m\u001b[0m\n\u001b[0m\u001b[1;32m     55\u001b[0m             \u001b[0;32mif\u001b[0m \u001b[0m_\u001b[0m\u001b[0;34m.\u001b[0m\u001b[0mvalue\u001b[0m\u001b[0;34m.\u001b[0m\u001b[0mindex\u001b[0m \u001b[0;34m==\u001b[0m \u001b[0maction_index\u001b[0m\u001b[0;34m:\u001b[0m\u001b[0;34m\u001b[0m\u001b[0;34m\u001b[0m\u001b[0m\n\u001b[1;32m     56\u001b[0m                 \u001b[0maction_to_take\u001b[0m \u001b[0;34m=\u001b[0m \u001b[0m_\u001b[0m\u001b[0;34m\u001b[0m\u001b[0;34m\u001b[0m\u001b[0m\n",
      "\u001b[0;32m~/.pyenv/versions/3.8.5/lib/python3.8/enum.py\u001b[0m in \u001b[0;36m__len__\u001b[0;34m(cls)\u001b[0m\n\u001b[1;32m    352\u001b[0m         \u001b[0;32mreturn\u001b[0m \u001b[0;34m(\u001b[0m\u001b[0mcls\u001b[0m\u001b[0;34m.\u001b[0m\u001b[0m_member_map_\u001b[0m\u001b[0;34m[\u001b[0m\u001b[0mname\u001b[0m\u001b[0;34m]\u001b[0m \u001b[0;32mfor\u001b[0m \u001b[0mname\u001b[0m \u001b[0;32min\u001b[0m \u001b[0mcls\u001b[0m\u001b[0;34m.\u001b[0m\u001b[0m_member_names_\u001b[0m\u001b[0;34m)\u001b[0m\u001b[0;34m\u001b[0m\u001b[0;34m\u001b[0m\u001b[0m\n\u001b[1;32m    353\u001b[0m \u001b[0;34m\u001b[0m\u001b[0m\n\u001b[0;32m--> 354\u001b[0;31m     \u001b[0;32mdef\u001b[0m \u001b[0m__len__\u001b[0m\u001b[0;34m(\u001b[0m\u001b[0mcls\u001b[0m\u001b[0;34m)\u001b[0m\u001b[0;34m:\u001b[0m\u001b[0;34m\u001b[0m\u001b[0;34m\u001b[0m\u001b[0m\n\u001b[0m\u001b[1;32m    355\u001b[0m         \u001b[0;32mreturn\u001b[0m \u001b[0mlen\u001b[0m\u001b[0;34m(\u001b[0m\u001b[0mcls\u001b[0m\u001b[0;34m.\u001b[0m\u001b[0m_member_names_\u001b[0m\u001b[0;34m)\u001b[0m\u001b[0;34m\u001b[0m\u001b[0;34m\u001b[0m\u001b[0m\n\u001b[1;32m    356\u001b[0m \u001b[0;34m\u001b[0m\u001b[0m\n",
      "\u001b[0;31mKeyboardInterrupt\u001b[0m: "
     ]
    }
   ],
   "source": [
    "qm = QMaze(30)\n",
    "eg_policy = EGreedyPolicy(epsilon=0.6, decay=0.9)\n",
    "ql = QLearning(policy=eg_policy, environment=qm, gamma=0.9, alpha=0.01)\n",
    "num_runs = tqdm(range(100))\n",
    "\n",
    "# Create structure to store data:\n",
    "all_results = []\n",
    "\n",
    "for run in num_runs:\n",
    "\n",
    "    if (run % 10) == 0:\n",
    "        results = run_ql_experiments(environment=qm, policy=eg_policy, q_learning_method=ql, num_exp=150)\n",
    "        print(f\"Run: {run}, ending epsilon: {eg_policy.epsilon}, mean reward: {results.mean_reward}, std reward: {results.var_reward}\")\n",
    "        all_results.append(results)"
   ]
  },
  {
   "cell_type": "code",
   "execution_count": 29,
   "metadata": {},
   "outputs": [
    {
     "output_type": "stream",
     "name": "stdout",
     "text": [
      "X X X X X X X X X X X X X X X X X X X X X X X X X X X X X X \nX X . . . X X . . . X X . . . X X . . . . . . X . X X A . X \nX . . X . . . . X X X X X . X X X . X X X X X X . X X . X X \nX X X X X X X . X X . X X . . X . . . . X X . . . . . . . X \nX . X . . X X . . X . X X . X X . X X . . X X X . X X X X X \nX . X . X X X X . . . X . . X . . X X X X X . . . . X X X X \nX . . . X X . . . X X X . X X . X X . X . X . X X . . . . X \nX . X X X X X X . . . X . X X . . . . . . . . . X X X X X X \nX . X X . . . . . X X X . . X X . X X X . X X . X X X . . X \nX . . X . X X X . . . X X . X X . . X X . . X X X . . . X X \nX . X X . X X . . X . . . . . . . X X X X X X X X . X X X X \nX . . X X X . . X X X . X . X . X X . X X X . . . . . X . X \nX X . . X . . X X X X X X X X X X . . . . X X X X . X X . X \nX X X . X X . X . X . X . X . X X . X X X X . . . . . . . X \nX . . . . . . X . . . . . . . . . . . . . X X X X . X X X X \nX X X . X . X X . X X X . X X X X . X X X X X . . . . X . X \nX . X X X . X X . . X X . . . . X X X . X . X X . X X X . X \nX . X X . . X X X . . X X X X X X X X . X . X X . X X . . X \nX . . X X . . . X X . . X X . X X . X . X . X . . . X X . X \nX . X X . . X X X . . X X . . . X . X . X . X X . X X X . X \nX . . X X . . . X X . . X X . X X . X . X . X X . X . X . X \nX X . X X . X X X X . X X . . X . . X . X . . . . . . . . X \nX . . X X . X . X . . . . . X X . X X . X . X X X . X . X X \nX X . . X . . . . . X X X . . . . . X . X . X . X X X X X X \nX X X . . . X X X . X X X . X . X . . . . . . . . X . X . X \nX . . . X . . . X . . . X X X . X . X X . X . X . . . . . X \nX X X X X X . X X X X . . . X . X . . X . X . X . X . X X X \nX X . . . . . . . X X . X X X . X . X X X X X X . X . . . X \nX . . X . X . X . . X . . X X . X . . . . . X X . X . X . X \nX X X X X X X X X X X X X X X X X X X X X X X X X X X X O X \n\n"
     ]
    },
    {
     "output_type": "display_data",
     "data": {
      "text/plain": "<Figure size 432x288 with 2 Axes>",
      "image/svg+xml": "<?xml version=\"1.0\" encoding=\"utf-8\" standalone=\"no\"?>\n<!DOCTYPE svg PUBLIC \"-//W3C//DTD SVG 1.1//EN\"\n  \"http://www.w3.org/Graphics/SVG/1.1/DTD/svg11.dtd\">\n<!-- Created with matplotlib (https://matplotlib.org/) -->\n<svg height=\"252.317344pt\" version=\"1.1\" viewBox=\"0 0 302.080125 252.317344\" width=\"302.080125pt\" xmlns=\"http://www.w3.org/2000/svg\" xmlns:xlink=\"http://www.w3.org/1999/xlink\">\n <metadata>\n  <rdf:RDF xmlns:cc=\"http://creativecommons.org/ns#\" xmlns:dc=\"http://purl.org/dc/elements/1.1/\" xmlns:rdf=\"http://www.w3.org/1999/02/22-rdf-syntax-ns#\">\n   <cc:Work>\n    <dc:type rdf:resource=\"http://purl.org/dc/dcmitype/StillImage\"/>\n    <dc:date>2021-03-22T01:39:37.231726</dc:date>\n    <dc:format>image/svg+xml</dc:format>\n    <dc:creator>\n     <cc:Agent>\n      <dc:title>Matplotlib v3.3.4, https://matplotlib.org/</dc:title>\n     </cc:Agent>\n    </dc:creator>\n   </cc:Work>\n  </rdf:RDF>\n </metadata>\n <defs>\n  <style type=\"text/css\">*{stroke-linecap:butt;stroke-linejoin:round;}</style>\n </defs>\n <g id=\"figure_1\">\n  <g id=\"patch_1\">\n   <path d=\"M 0 252.317344 \nL 302.080125 252.317344 \nL 302.080125 0 \nL 0 0 \nz\n\" style=\"fill:none;\"/>\n  </g>\n  <g id=\"axes_1\">\n   <g id=\"patch_2\">\n    <path d=\"M 26.925 228.439219 \nL 244.365 228.439219 \nL 244.365 10.999219 \nL 26.925 10.999219 \nz\n\" style=\"fill:#ffffff;\"/>\n   </g>\n   <g clip-path=\"url(#pfbf0ecd726)\">\n    <image height=\"218\" id=\"image02e68a9442\" transform=\"scale(1 -1)translate(0 -218)\" width=\"218\" x=\"26.925\" xlink:href=\"data:image/png;base64,\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\" y=\"-10.439219\"/>\n   </g>\n   <g id=\"matplotlib.axis_1\">\n    <g id=\"xtick_1\">\n     <g id=\"line2d_1\">\n      <defs>\n       <path d=\"M 0 0 \nL 0 3.5 \n\" id=\"m67f6d9adad\" style=\"stroke:#000000;stroke-width:0.8;\"/>\n      </defs>\n      <g>\n       <use style=\"stroke:#000000;stroke-width:0.8;\" x=\"30.549\" xlink:href=\"#m67f6d9adad\" y=\"228.439219\"/>\n      </g>\n     </g>\n     <g id=\"text_1\">\n      <!-- 0 -->\n      <g transform=\"translate(27.36775 243.037656)scale(0.1 -0.1)\">\n       <defs>\n        <path d=\"M 31.78125 66.40625 \nQ 24.171875 66.40625 20.328125 58.90625 \nQ 16.5 51.421875 16.5 36.375 \nQ 16.5 21.390625 20.328125 13.890625 \nQ 24.171875 6.390625 31.78125 6.390625 \nQ 39.453125 6.390625 43.28125 13.890625 \nQ 47.125 21.390625 47.125 36.375 \nQ 47.125 51.421875 43.28125 58.90625 \nQ 39.453125 66.40625 31.78125 66.40625 \nz\nM 31.78125 74.21875 \nQ 44.046875 74.21875 50.515625 64.515625 \nQ 56.984375 54.828125 56.984375 36.375 \nQ 56.984375 17.96875 50.515625 8.265625 \nQ 44.046875 -1.421875 31.78125 -1.421875 \nQ 19.53125 -1.421875 13.0625 8.265625 \nQ 6.59375 17.96875 6.59375 36.375 \nQ 6.59375 54.828125 13.0625 64.515625 \nQ 19.53125 74.21875 31.78125 74.21875 \nz\n\" id=\"DejaVuSans-48\"/>\n       </defs>\n       <use xlink:href=\"#DejaVuSans-48\"/>\n      </g>\n     </g>\n    </g>\n    <g id=\"xtick_2\">\n     <g id=\"line2d_2\">\n      <g>\n       <use style=\"stroke:#000000;stroke-width:0.8;\" x=\"66.789\" xlink:href=\"#m67f6d9adad\" y=\"228.439219\"/>\n      </g>\n     </g>\n     <g id=\"text_2\">\n      <!-- 5 -->\n      <g transform=\"translate(63.60775 243.037656)scale(0.1 -0.1)\">\n       <defs>\n        <path d=\"M 10.796875 72.90625 \nL 49.515625 72.90625 \nL 49.515625 64.59375 \nL 19.828125 64.59375 \nL 19.828125 46.734375 \nQ 21.96875 47.46875 24.109375 47.828125 \nQ 26.265625 48.1875 28.421875 48.1875 \nQ 40.625 48.1875 47.75 41.5 \nQ 54.890625 34.8125 54.890625 23.390625 \nQ 54.890625 11.625 47.5625 5.09375 \nQ 40.234375 -1.421875 26.90625 -1.421875 \nQ 22.3125 -1.421875 17.546875 -0.640625 \nQ 12.796875 0.140625 7.71875 1.703125 \nL 7.71875 11.625 \nQ 12.109375 9.234375 16.796875 8.0625 \nQ 21.484375 6.890625 26.703125 6.890625 \nQ 35.15625 6.890625 40.078125 11.328125 \nQ 45.015625 15.765625 45.015625 23.390625 \nQ 45.015625 31 40.078125 35.4375 \nQ 35.15625 39.890625 26.703125 39.890625 \nQ 22.75 39.890625 18.8125 39.015625 \nQ 14.890625 38.140625 10.796875 36.28125 \nz\n\" id=\"DejaVuSans-53\"/>\n       </defs>\n       <use xlink:href=\"#DejaVuSans-53\"/>\n      </g>\n     </g>\n    </g>\n    <g id=\"xtick_3\">\n     <g id=\"line2d_3\">\n      <g>\n       <use style=\"stroke:#000000;stroke-width:0.8;\" x=\"103.029\" xlink:href=\"#m67f6d9adad\" y=\"228.439219\"/>\n      </g>\n     </g>\n     <g id=\"text_3\">\n      <!-- 10 -->\n      <g transform=\"translate(96.6665 243.037656)scale(0.1 -0.1)\">\n       <defs>\n        <path d=\"M 12.40625 8.296875 \nL 28.515625 8.296875 \nL 28.515625 63.921875 \nL 10.984375 60.40625 \nL 10.984375 69.390625 \nL 28.421875 72.90625 \nL 38.28125 72.90625 \nL 38.28125 8.296875 \nL 54.390625 8.296875 \nL 54.390625 0 \nL 12.40625 0 \nz\n\" id=\"DejaVuSans-49\"/>\n       </defs>\n       <use xlink:href=\"#DejaVuSans-49\"/>\n       <use x=\"63.623047\" xlink:href=\"#DejaVuSans-48\"/>\n      </g>\n     </g>\n    </g>\n    <g id=\"xtick_4\">\n     <g id=\"line2d_4\">\n      <g>\n       <use style=\"stroke:#000000;stroke-width:0.8;\" x=\"139.269\" xlink:href=\"#m67f6d9adad\" y=\"228.439219\"/>\n      </g>\n     </g>\n     <g id=\"text_4\">\n      <!-- 15 -->\n      <g transform=\"translate(132.9065 243.037656)scale(0.1 -0.1)\">\n       <use xlink:href=\"#DejaVuSans-49\"/>\n       <use x=\"63.623047\" xlink:href=\"#DejaVuSans-53\"/>\n      </g>\n     </g>\n    </g>\n    <g id=\"xtick_5\">\n     <g id=\"line2d_5\">\n      <g>\n       <use style=\"stroke:#000000;stroke-width:0.8;\" x=\"175.509\" xlink:href=\"#m67f6d9adad\" y=\"228.439219\"/>\n      </g>\n     </g>\n     <g id=\"text_5\">\n      <!-- 20 -->\n      <g transform=\"translate(169.1465 243.037656)scale(0.1 -0.1)\">\n       <defs>\n        <path d=\"M 19.1875 8.296875 \nL 53.609375 8.296875 \nL 53.609375 0 \nL 7.328125 0 \nL 7.328125 8.296875 \nQ 12.9375 14.109375 22.625 23.890625 \nQ 32.328125 33.6875 34.8125 36.53125 \nQ 39.546875 41.84375 41.421875 45.53125 \nQ 43.3125 49.21875 43.3125 52.78125 \nQ 43.3125 58.59375 39.234375 62.25 \nQ 35.15625 65.921875 28.609375 65.921875 \nQ 23.96875 65.921875 18.8125 64.3125 \nQ 13.671875 62.703125 7.8125 59.421875 \nL 7.8125 69.390625 \nQ 13.765625 71.78125 18.9375 73 \nQ 24.125 74.21875 28.421875 74.21875 \nQ 39.75 74.21875 46.484375 68.546875 \nQ 53.21875 62.890625 53.21875 53.421875 \nQ 53.21875 48.921875 51.53125 44.890625 \nQ 49.859375 40.875 45.40625 35.40625 \nQ 44.1875 33.984375 37.640625 27.21875 \nQ 31.109375 20.453125 19.1875 8.296875 \nz\n\" id=\"DejaVuSans-50\"/>\n       </defs>\n       <use xlink:href=\"#DejaVuSans-50\"/>\n       <use x=\"63.623047\" xlink:href=\"#DejaVuSans-48\"/>\n      </g>\n     </g>\n    </g>\n    <g id=\"xtick_6\">\n     <g id=\"line2d_6\">\n      <g>\n       <use style=\"stroke:#000000;stroke-width:0.8;\" x=\"211.749\" xlink:href=\"#m67f6d9adad\" y=\"228.439219\"/>\n      </g>\n     </g>\n     <g id=\"text_6\">\n      <!-- 25 -->\n      <g transform=\"translate(205.3865 243.037656)scale(0.1 -0.1)\">\n       <use xlink:href=\"#DejaVuSans-50\"/>\n       <use x=\"63.623047\" xlink:href=\"#DejaVuSans-53\"/>\n      </g>\n     </g>\n    </g>\n   </g>\n   <g id=\"matplotlib.axis_2\">\n    <g id=\"ytick_1\">\n     <g id=\"line2d_7\">\n      <defs>\n       <path d=\"M 0 0 \nL -3.5 0 \n\" id=\"m92bf58783a\" style=\"stroke:#000000;stroke-width:0.8;\"/>\n      </defs>\n      <g>\n       <use style=\"stroke:#000000;stroke-width:0.8;\" x=\"26.925\" xlink:href=\"#m92bf58783a\" y=\"14.623219\"/>\n      </g>\n     </g>\n     <g id=\"text_7\">\n      <!-- 0 -->\n      <g transform=\"translate(13.5625 18.422438)scale(0.1 -0.1)\">\n       <use xlink:href=\"#DejaVuSans-48\"/>\n      </g>\n     </g>\n    </g>\n    <g id=\"ytick_2\">\n     <g id=\"line2d_8\">\n      <g>\n       <use style=\"stroke:#000000;stroke-width:0.8;\" x=\"26.925\" xlink:href=\"#m92bf58783a\" y=\"50.863219\"/>\n      </g>\n     </g>\n     <g id=\"text_8\">\n      <!-- 5 -->\n      <g transform=\"translate(13.5625 54.662438)scale(0.1 -0.1)\">\n       <use xlink:href=\"#DejaVuSans-53\"/>\n      </g>\n     </g>\n    </g>\n    <g id=\"ytick_3\">\n     <g id=\"line2d_9\">\n      <g>\n       <use style=\"stroke:#000000;stroke-width:0.8;\" x=\"26.925\" xlink:href=\"#m92bf58783a\" y=\"87.103219\"/>\n      </g>\n     </g>\n     <g id=\"text_9\">\n      <!-- 10 -->\n      <g transform=\"translate(7.2 90.902438)scale(0.1 -0.1)\">\n       <use xlink:href=\"#DejaVuSans-49\"/>\n       <use x=\"63.623047\" xlink:href=\"#DejaVuSans-48\"/>\n      </g>\n     </g>\n    </g>\n    <g id=\"ytick_4\">\n     <g id=\"line2d_10\">\n      <g>\n       <use style=\"stroke:#000000;stroke-width:0.8;\" x=\"26.925\" xlink:href=\"#m92bf58783a\" y=\"123.343219\"/>\n      </g>\n     </g>\n     <g id=\"text_10\">\n      <!-- 15 -->\n      <g transform=\"translate(7.2 127.142437)scale(0.1 -0.1)\">\n       <use xlink:href=\"#DejaVuSans-49\"/>\n       <use x=\"63.623047\" xlink:href=\"#DejaVuSans-53\"/>\n      </g>\n     </g>\n    </g>\n    <g id=\"ytick_5\">\n     <g id=\"line2d_11\">\n      <g>\n       <use style=\"stroke:#000000;stroke-width:0.8;\" x=\"26.925\" xlink:href=\"#m92bf58783a\" y=\"159.583219\"/>\n      </g>\n     </g>\n     <g id=\"text_11\">\n      <!-- 20 -->\n      <g transform=\"translate(7.2 163.382438)scale(0.1 -0.1)\">\n       <use xlink:href=\"#DejaVuSans-50\"/>\n       <use x=\"63.623047\" xlink:href=\"#DejaVuSans-48\"/>\n      </g>\n     </g>\n    </g>\n    <g id=\"ytick_6\">\n     <g id=\"line2d_12\">\n      <g>\n       <use style=\"stroke:#000000;stroke-width:0.8;\" x=\"26.925\" xlink:href=\"#m92bf58783a\" y=\"195.823219\"/>\n      </g>\n     </g>\n     <g id=\"text_12\">\n      <!-- 25 -->\n      <g transform=\"translate(7.2 199.622438)scale(0.1 -0.1)\">\n       <use xlink:href=\"#DejaVuSans-50\"/>\n       <use x=\"63.623047\" xlink:href=\"#DejaVuSans-53\"/>\n      </g>\n     </g>\n    </g>\n   </g>\n   <g id=\"patch_3\">\n    <path d=\"M 26.925 228.439219 \nL 26.925 10.999219 \n\" style=\"fill:none;stroke:#000000;stroke-linecap:square;stroke-linejoin:miter;stroke-width:0.8;\"/>\n   </g>\n   <g id=\"patch_4\">\n    <path d=\"M 244.365 228.439219 \nL 244.365 10.999219 \n\" style=\"fill:none;stroke:#000000;stroke-linecap:square;stroke-linejoin:miter;stroke-width:0.8;\"/>\n   </g>\n   <g id=\"patch_5\">\n    <path d=\"M 26.925 228.439219 \nL 244.365 228.439219 \n\" style=\"fill:none;stroke:#000000;stroke-linecap:square;stroke-linejoin:miter;stroke-width:0.8;\"/>\n   </g>\n   <g id=\"patch_6\">\n    <path d=\"M 26.925 10.999219 \nL 244.365 10.999219 \n\" style=\"fill:none;stroke:#000000;stroke-linecap:square;stroke-linejoin:miter;stroke-width:0.8;\"/>\n   </g>\n  </g>\n  <g id=\"axes_2\">\n   <g id=\"patch_7\">\n    <path clip-path=\"url(#pa6c1ba043e)\" d=\"M 261.105 228.439219 \nL 261.105 227.589844 \nL 261.105 11.848594 \nL 261.105 10.999219 \nL 271.977 10.999219 \nL 271.977 11.848594 \nL 271.977 227.589844 \nL 271.977 228.439219 \nz\n\" style=\"fill:#ffffff;stroke:#ffffff;stroke-linejoin:miter;stroke-width:0.01;\"/>\n   </g>\n   <image height=\"217\" id=\"image3f41ab7b2d\" transform=\"scale(1 -1)translate(0 -217)\" width=\"11\" x=\"261\" xlink:href=\"data:image/png;base64,\niVBORw0KGgoAAAANSUhEUgAAAAsAAADZCAYAAAD2WsoCAAABSElEQVR4nN2awQ0CMQwEYztHZdRA/41AaMHzGMl3vK3V7qxD0HHxzs9Zzc+OjO7s2iuyP8yUq4gNoBwJPCPlpSkHosEa1IaHcBZpaDZEdBaNw2y0Z00aomftWJ2a0WB/1gx4NBsooLdIhxxYjwZUBsNwn4nyHWmIdSMbmrJGw9wNS9nkfEN0M7ZuirJHoz+LL3piA92Dmo3n1/14dDcM6NW9on++x6C7Hw3gmAcEnr1SRM4zaICfSG4pXsARyuA5GaTBbMxAl2JAi4bnOZMMezaWha7yB2x4AUUaYHhrNLyAng1GQ/RslbKZMhgusW6LxhVfSRnSsAIWUb6S0CANlrd1xAasG9kY0SDizGgwG1ZAVMpLDKjthnasrgVowIDWPciWn30VeAHbs1S5L7z2i/zdgJSLKYPhIsNI+Qrwug7zTN45SfCQ6g9eiIFo/nbsswAAAABJRU5ErkJggg==\" y=\"-11\"/>\n   <g id=\"matplotlib.axis_3\"/>\n   <g id=\"matplotlib.axis_4\">\n    <g id=\"ytick_7\">\n     <g id=\"line2d_13\">\n      <defs>\n       <path d=\"M 0 0 \nL 3.5 0 \n\" id=\"m7b5522ec3d\" style=\"stroke:#000000;stroke-width:0.8;\"/>\n      </defs>\n      <g>\n       <use style=\"stroke:#000000;stroke-width:0.8;\" x=\"271.977\" xlink:href=\"#m7b5522ec3d\" y=\"228.439219\"/>\n      </g>\n     </g>\n     <g id=\"text_13\">\n      <!-- 0.0 -->\n      <g transform=\"translate(278.977 232.238437)scale(0.1 -0.1)\">\n       <defs>\n        <path d=\"M 10.6875 12.40625 \nL 21 12.40625 \nL 21 0 \nL 10.6875 0 \nz\n\" id=\"DejaVuSans-46\"/>\n       </defs>\n       <use xlink:href=\"#DejaVuSans-48\"/>\n       <use x=\"63.623047\" xlink:href=\"#DejaVuSans-46\"/>\n       <use x=\"95.410156\" xlink:href=\"#DejaVuSans-48\"/>\n      </g>\n     </g>\n    </g>\n    <g id=\"ytick_8\">\n     <g id=\"line2d_14\">\n      <g>\n       <use style=\"stroke:#000000;stroke-width:0.8;\" x=\"271.977\" xlink:href=\"#m7b5522ec3d\" y=\"184.951219\"/>\n      </g>\n     </g>\n     <g id=\"text_14\">\n      <!-- 0.2 -->\n      <g transform=\"translate(278.977 188.750437)scale(0.1 -0.1)\">\n       <use xlink:href=\"#DejaVuSans-48\"/>\n       <use x=\"63.623047\" xlink:href=\"#DejaVuSans-46\"/>\n       <use x=\"95.410156\" xlink:href=\"#DejaVuSans-50\"/>\n      </g>\n     </g>\n    </g>\n    <g id=\"ytick_9\">\n     <g id=\"line2d_15\">\n      <g>\n       <use style=\"stroke:#000000;stroke-width:0.8;\" x=\"271.977\" xlink:href=\"#m7b5522ec3d\" y=\"141.463219\"/>\n      </g>\n     </g>\n     <g id=\"text_15\">\n      <!-- 0.4 -->\n      <g transform=\"translate(278.977 145.262437)scale(0.1 -0.1)\">\n       <defs>\n        <path d=\"M 37.796875 64.3125 \nL 12.890625 25.390625 \nL 37.796875 25.390625 \nz\nM 35.203125 72.90625 \nL 47.609375 72.90625 \nL 47.609375 25.390625 \nL 58.015625 25.390625 \nL 58.015625 17.1875 \nL 47.609375 17.1875 \nL 47.609375 0 \nL 37.796875 0 \nL 37.796875 17.1875 \nL 4.890625 17.1875 \nL 4.890625 26.703125 \nz\n\" id=\"DejaVuSans-52\"/>\n       </defs>\n       <use xlink:href=\"#DejaVuSans-48\"/>\n       <use x=\"63.623047\" xlink:href=\"#DejaVuSans-46\"/>\n       <use x=\"95.410156\" xlink:href=\"#DejaVuSans-52\"/>\n      </g>\n     </g>\n    </g>\n    <g id=\"ytick_10\">\n     <g id=\"line2d_16\">\n      <g>\n       <use style=\"stroke:#000000;stroke-width:0.8;\" x=\"271.977\" xlink:href=\"#m7b5522ec3d\" y=\"97.975219\"/>\n      </g>\n     </g>\n     <g id=\"text_16\">\n      <!-- 0.6 -->\n      <g transform=\"translate(278.977 101.774437)scale(0.1 -0.1)\">\n       <defs>\n        <path d=\"M 33.015625 40.375 \nQ 26.375 40.375 22.484375 35.828125 \nQ 18.609375 31.296875 18.609375 23.390625 \nQ 18.609375 15.53125 22.484375 10.953125 \nQ 26.375 6.390625 33.015625 6.390625 \nQ 39.65625 6.390625 43.53125 10.953125 \nQ 47.40625 15.53125 47.40625 23.390625 \nQ 47.40625 31.296875 43.53125 35.828125 \nQ 39.65625 40.375 33.015625 40.375 \nz\nM 52.59375 71.296875 \nL 52.59375 62.3125 \nQ 48.875 64.0625 45.09375 64.984375 \nQ 41.3125 65.921875 37.59375 65.921875 \nQ 27.828125 65.921875 22.671875 59.328125 \nQ 17.53125 52.734375 16.796875 39.40625 \nQ 19.671875 43.65625 24.015625 45.921875 \nQ 28.375 48.1875 33.59375 48.1875 \nQ 44.578125 48.1875 50.953125 41.515625 \nQ 57.328125 34.859375 57.328125 23.390625 \nQ 57.328125 12.15625 50.6875 5.359375 \nQ 44.046875 -1.421875 33.015625 -1.421875 \nQ 20.359375 -1.421875 13.671875 8.265625 \nQ 6.984375 17.96875 6.984375 36.375 \nQ 6.984375 53.65625 15.1875 63.9375 \nQ 23.390625 74.21875 37.203125 74.21875 \nQ 40.921875 74.21875 44.703125 73.484375 \nQ 48.484375 72.75 52.59375 71.296875 \nz\n\" id=\"DejaVuSans-54\"/>\n       </defs>\n       <use xlink:href=\"#DejaVuSans-48\"/>\n       <use x=\"63.623047\" xlink:href=\"#DejaVuSans-46\"/>\n       <use x=\"95.410156\" xlink:href=\"#DejaVuSans-54\"/>\n      </g>\n     </g>\n    </g>\n    <g id=\"ytick_11\">\n     <g id=\"line2d_17\">\n      <g>\n       <use style=\"stroke:#000000;stroke-width:0.8;\" x=\"271.977\" xlink:href=\"#m7b5522ec3d\" y=\"54.487219\"/>\n      </g>\n     </g>\n     <g id=\"text_17\">\n      <!-- 0.8 -->\n      <g transform=\"translate(278.977 58.286437)scale(0.1 -0.1)\">\n       <defs>\n        <path d=\"M 31.78125 34.625 \nQ 24.75 34.625 20.71875 30.859375 \nQ 16.703125 27.09375 16.703125 20.515625 \nQ 16.703125 13.921875 20.71875 10.15625 \nQ 24.75 6.390625 31.78125 6.390625 \nQ 38.8125 6.390625 42.859375 10.171875 \nQ 46.921875 13.96875 46.921875 20.515625 \nQ 46.921875 27.09375 42.890625 30.859375 \nQ 38.875 34.625 31.78125 34.625 \nz\nM 21.921875 38.8125 \nQ 15.578125 40.375 12.03125 44.71875 \nQ 8.5 49.078125 8.5 55.328125 \nQ 8.5 64.0625 14.71875 69.140625 \nQ 20.953125 74.21875 31.78125 74.21875 \nQ 42.671875 74.21875 48.875 69.140625 \nQ 55.078125 64.0625 55.078125 55.328125 \nQ 55.078125 49.078125 51.53125 44.71875 \nQ 48 40.375 41.703125 38.8125 \nQ 48.828125 37.15625 52.796875 32.3125 \nQ 56.78125 27.484375 56.78125 20.515625 \nQ 56.78125 9.90625 50.3125 4.234375 \nQ 43.84375 -1.421875 31.78125 -1.421875 \nQ 19.734375 -1.421875 13.25 4.234375 \nQ 6.78125 9.90625 6.78125 20.515625 \nQ 6.78125 27.484375 10.78125 32.3125 \nQ 14.796875 37.15625 21.921875 38.8125 \nz\nM 18.3125 54.390625 \nQ 18.3125 48.734375 21.84375 45.5625 \nQ 25.390625 42.390625 31.78125 42.390625 \nQ 38.140625 42.390625 41.71875 45.5625 \nQ 45.3125 48.734375 45.3125 54.390625 \nQ 45.3125 60.0625 41.71875 63.234375 \nQ 38.140625 66.40625 31.78125 66.40625 \nQ 25.390625 66.40625 21.84375 63.234375 \nQ 18.3125 60.0625 18.3125 54.390625 \nz\n\" id=\"DejaVuSans-56\"/>\n       </defs>\n       <use xlink:href=\"#DejaVuSans-48\"/>\n       <use x=\"63.623047\" xlink:href=\"#DejaVuSans-46\"/>\n       <use x=\"95.410156\" xlink:href=\"#DejaVuSans-56\"/>\n      </g>\n     </g>\n    </g>\n    <g id=\"ytick_12\">\n     <g id=\"line2d_18\">\n      <g>\n       <use style=\"stroke:#000000;stroke-width:0.8;\" x=\"271.977\" xlink:href=\"#m7b5522ec3d\" y=\"10.999219\"/>\n      </g>\n     </g>\n     <g id=\"text_18\">\n      <!-- 1.0 -->\n      <g transform=\"translate(278.977 14.798437)scale(0.1 -0.1)\">\n       <use xlink:href=\"#DejaVuSans-49\"/>\n       <use x=\"63.623047\" xlink:href=\"#DejaVuSans-46\"/>\n       <use x=\"95.410156\" xlink:href=\"#DejaVuSans-48\"/>\n      </g>\n     </g>\n    </g>\n   </g>\n   <g id=\"patch_8\">\n    <path d=\"M 261.105 228.439219 \nL 261.105 227.589844 \nL 261.105 11.848594 \nL 261.105 10.999219 \nL 271.977 10.999219 \nL 271.977 11.848594 \nL 271.977 227.589844 \nL 271.977 228.439219 \nz\n\" style=\"fill:none;stroke:#000000;stroke-linejoin:miter;stroke-width:0.8;\"/>\n   </g>\n  </g>\n </g>\n <defs>\n  <clipPath id=\"pfbf0ecd726\">\n   <rect height=\"217.44\" width=\"217.44\" x=\"26.925\" y=\"10.999219\"/>\n  </clipPath>\n  <clipPath id=\"pa6c1ba043e\">\n   <rect height=\"217.44\" width=\"10.872\" x=\"261.105\" y=\"10.999219\"/>\n  </clipPath>\n </defs>\n</svg>\n",
      "image/png": "[encoded data removed]"
     },
     "metadata": {
      "needs_background": "light"
     }
    }
   ],
   "source": [
    "qm.reset()\n",
    "qm.display()\n",
    "results_vals = ql.display_q_values()\n",
    "plt.imshow((results_vals - results_vals.min())/(results_vals.max() - results_vals.min()), cmap=\"viridis\")\n",
    "plt.colorbar()\n",
    "plt.show()"
   ]
  },
  {
   "cell_type": "code",
   "execution_count": 30,
   "metadata": {},
   "outputs": [
    {
     "output_type": "execute_result",
     "data": {
      "text/plain": [
       "                                         all_rewards  max_reward  \\\n",
       "0  [-59032, -120265, -132060, -97017, -51505, -36...       -1123   \n",
       "1  [-26456, -4001, -13914, -17788, -12595, -4889,...         407   \n",
       "2  [-2198, -1966, -10894, -6538, -1238, -955, -11...         501   \n",
       "3  [-20969, -1407, 406, 131, 375, 574, -3912, 148...         613   \n",
       "4  [-561, -1226, -2958, -265, 234, 421, 352, -580...         605   \n",
       "\n",
       "    mean_reward    var_reward  \\\n",
       "0 -18872.093333  21505.846449   \n",
       "1  -6319.313333   7606.996564   \n",
       "2  -3535.680000   4307.951687   \n",
       "3  -2511.886667   4576.043761   \n",
       "4  -2447.693333   6061.375064   \n",
       "\n",
       "                                   all_turns_elapsed  max_turns_elapsed  \\\n",
       "0  [13657, 28117, 30860, 22743, 12038, 8681, 1252...              30860   \n",
       "1  [6896, 1268, 3804, 4730, 3528, 1522, 4585, 872...              12214   \n",
       "2  [802, 756, 3180, 2006, 581, 464, 277, 698, 390...               4654   \n",
       "3  [5869, 631, 151, 196, 160, 111, 1288, 203, 328...               6084   \n",
       "4  [429, 630, 1071, 336, 191, 140, 154, 1925, 249...              11924   \n",
       "\n",
       "   mean_turns_elapsed  var_turns_elapsed  mean_ending_epsilon  \n",
       "0         4762.013333        5033.960283             0.090057  \n",
       "1         1870.366667        1948.875948             0.090057  \n",
       "2         1202.700000        1164.400932             0.090057  \n",
       "3          944.780000        1238.559544             0.090057  \n",
       "4          957.753333        1733.155950             0.090057  "
      ],
      "text/html": "<div>\n<style scoped>\n    .dataframe tbody tr th:only-of-type {\n        vertical-align: middle;\n    }\n\n    .dataframe tbody tr th {\n        vertical-align: top;\n    }\n\n    .dataframe thead th {\n        text-align: right;\n    }\n</style>\n<table border=\"1\" class=\"dataframe\">\n  <thead>\n    <tr style=\"text-align: right;\">\n      <th></th>\n      <th>all_rewards</th>\n      <th>max_reward</th>\n      <th>mean_reward</th>\n      <th>var_reward</th>\n      <th>all_turns_elapsed</th>\n      <th>max_turns_elapsed</th>\n      <th>mean_turns_elapsed</th>\n      <th>var_turns_elapsed</th>\n      <th>mean_ending_epsilon</th>\n    </tr>\n  </thead>\n  <tbody>\n    <tr>\n      <th>0</th>\n      <td>[-59032, -120265, -132060, -97017, -51505, -36...</td>\n      <td>-1123</td>\n      <td>-18872.093333</td>\n      <td>21505.846449</td>\n      <td>[13657, 28117, 30860, 22743, 12038, 8681, 1252...</td>\n      <td>30860</td>\n      <td>4762.013333</td>\n      <td>5033.960283</td>\n      <td>0.090057</td>\n    </tr>\n    <tr>\n      <th>1</th>\n      <td>[-26456, -4001, -13914, -17788, -12595, -4889,...</td>\n      <td>407</td>\n      <td>-6319.313333</td>\n      <td>7606.996564</td>\n      <td>[6896, 1268, 3804, 4730, 3528, 1522, 4585, 872...</td>\n      <td>12214</td>\n      <td>1870.366667</td>\n      <td>1948.875948</td>\n      <td>0.090057</td>\n    </tr>\n    <tr>\n      <th>2</th>\n      <td>[-2198, -1966, -10894, -6538, -1238, -955, -11...</td>\n      <td>501</td>\n      <td>-3535.680000</td>\n      <td>4307.951687</td>\n      <td>[802, 756, 3180, 2006, 581, 464, 277, 698, 390...</td>\n      <td>4654</td>\n      <td>1202.700000</td>\n      <td>1164.400932</td>\n      <td>0.090057</td>\n    </tr>\n    <tr>\n      <th>3</th>\n      <td>[-20969, -1407, 406, 131, 375, 574, -3912, 148...</td>\n      <td>613</td>\n      <td>-2511.886667</td>\n      <td>4576.043761</td>\n      <td>[5869, 631, 151, 196, 160, 111, 1288, 203, 328...</td>\n      <td>6084</td>\n      <td>944.780000</td>\n      <td>1238.559544</td>\n      <td>0.090057</td>\n    </tr>\n    <tr>\n      <th>4</th>\n      <td>[-561, -1226, -2958, -265, 234, 421, 352, -580...</td>\n      <td>605</td>\n      <td>-2447.693333</td>\n      <td>6061.375064</td>\n      <td>[429, 630, 1071, 336, 191, 140, 154, 1925, 249...</td>\n      <td>11924</td>\n      <td>957.753333</td>\n      <td>1733.155950</td>\n      <td>0.090057</td>\n    </tr>\n  </tbody>\n</table>\n</div>"
     },
     "metadata": {},
     "execution_count": 30
    }
   ],
   "source": [
    "results_df = pd.DataFrame(all_results)\n",
    "results_df.head(10)"
   ]
  },
  {
   "source": [
    "## Test QMaze number of steps for different environment sizes"
   ],
   "cell_type": "markdown",
   "metadata": {}
  },
  {
   "cell_type": "code",
   "execution_count": 1,
   "metadata": {},
   "outputs": [
    {
     "output_type": "error",
     "ename": "NameError",
     "evalue": "name 'QMaze' is not defined",
     "traceback": [
      "\u001b[0;31m---------------------------------------------------------------------------\u001b[0m",
      "\u001b[0;31mNameError\u001b[0m                                 Traceback (most recent call last)",
      "\u001b[0;32m<ipython-input-1-95fe63c841df>\u001b[0m in \u001b[0;36m<module>\u001b[0;34m\u001b[0m\n\u001b[1;32m      2\u001b[0m \u001b[0;34m\u001b[0m\u001b[0m\n\u001b[1;32m      3\u001b[0m \u001b[0;32mfor\u001b[0m \u001b[0msize_env\u001b[0m \u001b[0;32min\u001b[0m \u001b[0mtest_size_envs\u001b[0m\u001b[0;34m:\u001b[0m\u001b[0;34m\u001b[0m\u001b[0;34m\u001b[0m\u001b[0m\n\u001b[0;32m----> 4\u001b[0;31m         \u001b[0mtest_qm\u001b[0m \u001b[0;34m=\u001b[0m \u001b[0mQMaze\u001b[0m\u001b[0;34m(\u001b[0m\u001b[0;34m)\u001b[0m\u001b[0;34m\u001b[0m\u001b[0;34m\u001b[0m\u001b[0m\n\u001b[0m\u001b[1;32m      5\u001b[0m         \u001b[0mtest_eg_policy\u001b[0m \u001b[0;34m=\u001b[0m \u001b[0mEGreedyPolicy\u001b[0m\u001b[0;34m(\u001b[0m\u001b[0mepsilon\u001b[0m\u001b[0;34m=\u001b[0m\u001b[0;36m0.6\u001b[0m\u001b[0;34m,\u001b[0m \u001b[0mdecay\u001b[0m\u001b[0;34m=\u001b[0m\u001b[0;36m0.9\u001b[0m\u001b[0;34m)\u001b[0m\u001b[0;34m\u001b[0m\u001b[0;34m\u001b[0m\u001b[0m\n\u001b[1;32m      6\u001b[0m         \u001b[0mtest_ql\u001b[0m \u001b[0;34m=\u001b[0m \u001b[0mQLearning\u001b[0m\u001b[0;34m(\u001b[0m\u001b[0mpolicy\u001b[0m\u001b[0;34m=\u001b[0m\u001b[0meg_policy\u001b[0m\u001b[0;34m,\u001b[0m \u001b[0menvironment\u001b[0m\u001b[0;34m=\u001b[0m\u001b[0mqm\u001b[0m\u001b[0;34m,\u001b[0m \u001b[0mgamma\u001b[0m\u001b[0;34m=\u001b[0m\u001b[0;36m0.9\u001b[0m\u001b[0;34m,\u001b[0m \u001b[0malpha\u001b[0m\u001b[0;34m=\u001b[0m\u001b[0;36m0.01\u001b[0m\u001b[0;34m)\u001b[0m\u001b[0;34m\u001b[0m\u001b[0;34m\u001b[0m\u001b[0m\n",
      "\u001b[0;31mNameError\u001b[0m: name 'QMaze' is not defined"
     ]
    }
   ],
   "source": [
    "test_size_envs = range(5, 110, 10)\n",
    "\n",
    "for size_env in test_size_envs:\n",
    "        test_qm = QMaze()\n",
    "        test_eg_policy = EGreedyPolicy(epsilon=0.6, decay=0.9)\n",
    "        test_ql = QLearning(policy=eg_policy, environment=qm, gamma=0.9, alpha=0.01)\n",
    "        _, final_turns_elapsed, _ = train_ql_for_one_episode(environment=test_qm, policy=test_eg_policy, q_learning_method=test_ql)\n",
    "        print(f\"Size of env: {size_env}, final_turns_elapsed: {final_turns_elapsed}\")"
   ]
  },
  {
   "cell_type": "code",
   "execution_count": 15,
   "metadata": {},
   "outputs": [],
   "source": [
    "epsilon_list = [0.5, 0.7, 0.9]\n",
    "gamma_list = [0.5, 0.7, 0.9]\n",
    "env_size_list = [10, 20, 30, 40, 50]\n",
    "\n",
    "mean_reward = []\n",
    "std_reward = []\n",
    "    \n",
    "# for size_envir in range(5,50,5):\n",
    "\n",
    "#     # heuristics\n",
    "#     n_improvement_steps = size_envir\n",
    "#     n_steps_policy_eval = 10\n",
    "    \n",
    "#     total_rewards = []\n",
    "\n",
    "#     for n_envir in range(n_environments_per_size):\n",
    "\n",
    "#         dungeon = DungeonDP(size_envir)\n",
    "#         policy = Policy(dungeon, gamma)\n",
    "        \n",
    "#         for n_improvements in range(n_improvement_steps):\n",
    "    \n",
    "#             policy.policy_iteration(n_steps_policy_eval)\n",
    "\n",
    "#         all_total_rewards, _, _, _ = run_experiments(dungeon, policy, n_runs_per_environments)\n",
    "\n",
    "#         total_rewards += all_total_rewards\n",
    "\n",
    "#     mean_reward.append( np.mean(total_rewards) )\n",
    "#     std_reward.append( np.std(total_rewards) )\n",
    "\n",
    "# mean_reward = np.asarray(mean_reward)\n",
    "# std_reward = np.asarray(std_reward)\n",
    "\n",
    "# plt.plot(range(5, 50, 5), mean_reward, 'or')\n",
    "# plt.plot(range(5, 50, 5), mean_reward, color = 'r')\n",
    "# plt.fill_between(range(5, 50, 5), mean_reward - std_reward/2, mean_reward + std_reward/2,\n",
    "#              color='r', alpha=0.2)\n",
    "\n",
    "# plt.xlabel('Environment size')\n",
    "# plt.ylabel('Average reward')\n",
    "\n",
    "# plt.show()"
   ]
  },
  {
   "cell_type": "code",
   "execution_count": null,
   "metadata": {},
   "outputs": [],
   "source": []
  }
 ]
}