{
 "metadata": {
  "language_info": {
   "codemirror_mode": {
    "name": "ipython",
    "version": 3
   },
   "file_extension": ".py",
   "mimetype": "text/x-python",
   "name": "python",
   "nbconvert_exporter": "python",
   "pygments_lexer": "ipython3",
   "version": "3.8.5-final"
  },
  "orig_nbformat": 2,
  "kernelspec": {
   "name": "python3",
   "display_name": "Python 3",
   "language": "python"
  }
 },
 "nbformat": 4,
 "nbformat_minor": 2,
 "cells": [
  {
   "source": [
    "# Scratch for Maze environment\n",
    "\n",
    "https://medium.com/swlh/fun-with-python-1-maze-generator-931639b4fb7e\n"
   ],
   "cell_type": "markdown",
   "metadata": {}
  },
  {
   "cell_type": "code",
   "execution_count": 165,
   "metadata": {},
   "outputs": [],
   "source": [
    "from random import random, randint\n",
    "import numpy as np"
   ]
  },
  {
   "cell_type": "code",
   "execution_count": 203,
   "metadata": {},
   "outputs": [],
   "source": [
    "cell = 'c'\n",
    "wall = 'w'\n",
    "\n",
    "def init_maze(width, height):\n",
    "    maze = []\n",
    "    for i in range(0, height):\n",
    "        line = []\n",
    "        for j in range(0, width):\n",
    "            line.append('u')\n",
    "        maze.append(line)\n",
    "    return maze"
   ]
  },
  {
   "cell_type": "code",
   "execution_count": 274,
   "metadata": {},
   "outputs": [
    {
     "output_type": "stream",
     "name": "stdout",
     "text": [
      "u u u u u u u u u u \n",
      "\n",
      "u u u u u u u u u u \n",
      "\n",
      "u u u u u u u u u u \n",
      "\n",
      "u u u u u u u u u u \n",
      "\n"
     ]
    }
   ],
   "source": [
    "height = 4\n",
    "width = 10\n",
    "maze = init_maze(width, height)\n",
    "print_maze(maze)"
   ]
  },
  {
   "cell_type": "code",
   "execution_count": 275,
   "metadata": {},
   "outputs": [],
   "source": [
    "\n",
    "def print_maze(maze):\n",
    "    for i in range(0, len(maze)):\n",
    "        for j in range(0, len(maze[0])):\n",
    "            if maze[i][j] == 'u':\n",
    "                print(f'{maze[i][j]}', end=\" \")\n",
    "            elif maze[i][j] == 'c':\n",
    "                print(f'{maze[i][j]}', end=\" \")\n",
    "            else:\n",
    "                print(f'{maze[i][j]}', end=\" \")\n",
    "        print('\\n')"
   ]
  },
  {
   "cell_type": "code",
   "execution_count": 276,
   "metadata": {},
   "outputs": [
    {
     "output_type": "stream",
     "name": "stdout",
     "text": [
      "u u u u u u u u u u \n",
      "\n",
      "u u u u u u u u u u \n",
      "\n",
      "u u u u u u u u u u \n",
      "\n",
      "u u u u u u u u u u \n",
      "\n"
     ]
    }
   ],
   "source": [
    "print_maze(maze)"
   ]
  },
  {
   "cell_type": "code",
   "execution_count": 282,
   "metadata": {},
   "outputs": [
    {
     "output_type": "execute_result",
     "data": {
      "text/plain": [
       "(0, 2)"
      ]
     },
     "metadata": {},
     "execution_count": 282
    }
   ],
   "source": [
    "# Pick a starting spot to build maze\n",
    "starting_height = int(random()*height)\n",
    "starting_width = int(random()*width)\n",
    "starting_height, starting_width\n"
   ]
  },
  {
   "cell_type": "code",
   "execution_count": 283,
   "metadata": {},
   "outputs": [
    {
     "output_type": "stream",
     "name": "stdout",
     "text": [
      "1\n",
      "u u u u u u u u u u \n",
      "\n",
      "u u X u u u u u c u \n",
      "\n",
      "u u u u u u u u u u \n",
      "\n",
      "u u u u u u u u u u \n",
      "\n"
     ]
    }
   ],
   "source": [
    "# We need to make sure that we do not start on a block that is on the edge of the maze\n",
    "if starting_height == 0:\n",
    "    starting_height += 1\n",
    "    print(\"1\")\n",
    "if starting_height > height-1:\n",
    "    starting_height -= 1\n",
    "    print(\"2\")\n",
    "if starting_width == 0:\n",
    "    starting_width += 1\n",
    "    print(\"3\")\n",
    "if starting_width > width-1:\n",
    "    starting_width -= 1\n",
    "    print(\"4\")\n",
    "# maze = init_maze(width, height)\n",
    "starting_height, starting_width\n",
    "maze[starting_height][starting_width] = \"X\" \n",
    "print_maze(maze)"
   ]
  },
  {
   "cell_type": "code",
   "execution_count": 279,
   "metadata": {},
   "outputs": [
    {
     "output_type": "execute_result",
     "data": {
      "text/plain": [
       "(1, 2)"
      ]
     },
     "metadata": {},
     "execution_count": 279
    }
   ],
   "source": [
    "maze_generation_start_height = randint(1, height - 1)\n",
    "maze_generation_start_width = randint(1, width - 1)\n",
    "\n",
    "maze_generation_start_height, maze_generation_start_width"
   ]
  },
  {
   "cell_type": "code",
   "execution_count": 281,
   "metadata": {},
   "outputs": [
    {
     "output_type": "stream",
     "name": "stdout",
     "text": [
      "u u u u u u u u u u \n",
      "\n",
      "u u u u u u u u c u \n",
      "\n",
      "u u u u u u u u u u \n",
      "\n",
      "u u u u u u u u u u \n",
      "\n"
     ]
    }
   ],
   "source": [
    "# So now we will mark this block as a path and add the surrounding walls to the walls list:\n",
    "\n",
    "maze[starting_height][starting_width] = cell\n",
    "\n",
    "walls = []\n",
    "walls.append([starting_height-1, starting_width])\n",
    "walls.append([starting_height, starting_width-1])\n",
    "walls.append([starting_height, starting_width+1])\n",
    "walls.append([starting_height+1, starting_width])\n",
    "print_maze(maze)"
   ]
  },
  {
   "cell_type": "code",
   "execution_count": 180,
   "metadata": {},
   "outputs": [
    {
     "output_type": "execute_result",
     "data": {
      "text/plain": [
       "[[3, 7], [4, 6], [4, 8], [5, 7]]"
      ]
     },
     "metadata": {},
     "execution_count": 180
    }
   ],
   "source": [
    "walls"
   ]
  },
  {
   "cell_type": "code",
   "execution_count": 181,
   "metadata": {},
   "outputs": [
    {
     "output_type": "stream",
     "name": "stdout",
     "text": [
      "u u u u u u u u u u \n",
      "\n",
      "u u u u u u u u u u \n",
      "\n",
      "u u u u u u u u u u \n",
      "\n",
      "u u u u u u u w u u \n",
      "\n",
      "u u u u u u w c w u \n",
      "\n",
      "u u u u u u u w u u \n",
      "\n",
      "u u u u u u u u u u \n",
      "\n",
      "u u u u u u u u u u \n",
      "\n",
      "u u u u u u u u u u \n",
      "\n",
      "u u u u u u u u u u \n",
      "\n"
     ]
    }
   ],
   "source": [
    "# Note: Do this instead, why do the following??\n",
    "for w in walls:\n",
    "    maze[w[0]][w[1]] = \"w\"\n",
    "print_maze(maze)\n",
    "\n",
    "# In order to complete step two, we need to denote the blocks round the starting cell as walls:\n",
    "# maze[starting_height-1][starting_width] = wall\n",
    "# maze[starting_height][starting_width-1] = wall\n",
    "# maze[starting_height][starting_width+1] = wall\n",
    "# maze[starting_height+1][starting_width] = wall\n",
    "# print_maze(maze)"
   ]
  },
  {
   "source": [
    "We have two possibilities here.\n",
    "First we need to check the blocks to the left and right of the wall we are processing and then we need to check the blocks above and below the wall. Let’s visualize it in order to understand it:\n",
    "\n",
    "Case 1 (we check the blocks at left and right of the selected wall):\n",
    "\n",
    "|   | u |   |\n",
    "|---|---|---|\n",
    "| u | w | c |\n",
    "|   | u |   |\n",
    "\n",
    "Case 2 (we check the blocks above and below the selected wall):\n",
    "\n",
    "|   | u |   |\n",
    "|---|---|---|\n",
    "| u | w | u |\n",
    "|   | c |   |\n",
    "\n",
    "Then provide the mirrored conditions for both, so 4 cases to check.\n"
   ],
   "cell_type": "markdown",
   "metadata": {}
  },
  {
   "source": [
    "> Make the wall a passage and mark the unvisited cell as part of the maze\n",
    "\n",
    "This part is a little bit tricky. We need to make sure that every wall that we are going to turn into passage, does not have more than one cell around it. If we do not make this kind of check now, we will end up with a maze that has clusters of passages and the maze will not be good. So we will add an extra check if the surrounding cells are less than two. But first we need to create a function that checks that:\n"
   ],
   "cell_type": "markdown",
   "metadata": {}
  },
  {
   "cell_type": "code",
   "execution_count": 182,
   "metadata": {},
   "outputs": [],
   "source": [
    "def surroundingCells(rand_wall):\n",
    "    s_cells = 0\n",
    "    if (maze[rand_wall[0]-1][rand_wall[1]] == 'c'):\n",
    "        s_cells += 1\n",
    "    if (maze[rand_wall[0]+1][rand_wall[1]] == 'c'):\n",
    "        s_cells += 1\n",
    "    if (maze[rand_wall[0]][rand_wall[1]-1] == 'c'):\n",
    "        s_cells +=1\n",
    "    if (maze[rand_wall[0]][rand_wall[1]+1] == 'c'):\n",
    "        s_cells += 1\n",
    "    return s_cells\n",
    "\n",
    "\n",
    "# Finally, we need to remove this processed block from the walls list. Then we need to continue with the next iteration. \n",
    "def delete_wall(rand_wall):\n",
    "    for wall in walls:\n",
    "        if (wall[0] == rand_wall[0] and wall[1] == rand_wall[1]):\n",
    "            walls.remove(wall)"
   ]
  },
  {
   "cell_type": "code",
   "execution_count": 183,
   "metadata": {},
   "outputs": [],
   "source": [
    "# While there are walls in the list pick a random wall from the list\n",
    "while walls:\n",
    "    # Pick a random wall\n",
    "    # Why this?? Gross\n",
    "    # rand_wall = walls[int(random.random()*len(walls))-1]\n",
    "    rand_wall = walls[randint(0, len(walls) - 1)]\n",
    "\n",
    "    # We need to make sure we are always accessing a correct index.\n",
    "    # Meaning that if the selected wall is the one on the first line of the maze,\n",
    "    # we cannot go and check the cell above it, since it would create an IndexError in Python.\n",
    "    # Then:\n",
    "    # If only one of the two cells that the wall divides is visited\n",
    "\n",
    "    # Check if it is a left wall\n",
    "    if rand_wall[1] != 0:\n",
    "        if (\n",
    "            maze[rand_wall[0]][rand_wall[1] - 1] == \"u\"\n",
    "            and maze[rand_wall[0]][rand_wall[1] + 1] == \"c\"\n",
    "        ):\n",
    "            # Find the number of surrounding cells\n",
    "            s_cells = surroundingCells(rand_wall)\n",
    "\n",
    "            if s_cells < 2:\n",
    "                # Denote the new path\n",
    "                maze[rand_wall[0]][rand_wall[1]] = \"c\"\n",
    "\n",
    "                # Mark the new walls\n",
    "                # Upper cell\n",
    "                if rand_wall[0] != 0:\n",
    "                    if maze[rand_wall[0] - 1][rand_wall[1]] != \"c\":\n",
    "                        maze[rand_wall[0] - 1][rand_wall[1]] = \"w\"\n",
    "                    if [rand_wall[0] - 1, rand_wall[1]] not in walls:\n",
    "                        walls.append([rand_wall[0] - 1, rand_wall[1]])\n",
    "\n",
    "                # Bottom cell\n",
    "                if rand_wall[0] != height - 1:\n",
    "                    if maze[rand_wall[0] + 1][rand_wall[1]] != \"c\":\n",
    "                        maze[rand_wall[0] + 1][rand_wall[1]] = \"w\"\n",
    "                    if [rand_wall[0] + 1, rand_wall[1]] not in walls:\n",
    "                        walls.append([rand_wall[0] + 1, rand_wall[1]])\n",
    "\n",
    "                # Leftmost cell\n",
    "                if rand_wall[1] != 0:\n",
    "                    if maze[rand_wall[0]][rand_wall[1] - 1] != \"c\":\n",
    "                        maze[rand_wall[0]][rand_wall[1] - 1] = \"w\"\n",
    "                    if [rand_wall[0], rand_wall[1] - 1] not in walls:\n",
    "                        walls.append([rand_wall[0], rand_wall[1] - 1])\n",
    "\n",
    "            # Delete wall\n",
    "            for wall in walls:\n",
    "                if wall[0] == rand_wall[0] and wall[1] == rand_wall[1]:\n",
    "                    walls.remove(wall)\n",
    "\n",
    "            continue\n",
    "\n",
    "    # Check if it is an upper wall\n",
    "    if rand_wall[0] != 0:\n",
    "        if (\n",
    "            maze[rand_wall[0] - 1][rand_wall[1]] == \"u\"\n",
    "            and maze[rand_wall[0] + 1][rand_wall[1]] == \"c\"\n",
    "        ):\n",
    "\n",
    "            s_cells = surroundingCells(rand_wall)\n",
    "            if s_cells < 2:\n",
    "                # Denote the new path\n",
    "                maze[rand_wall[0]][rand_wall[1]] = \"c\"\n",
    "\n",
    "                # Mark the new walls\n",
    "                # Upper cell\n",
    "                if rand_wall[0] != 0:\n",
    "                    if maze[rand_wall[0] - 1][rand_wall[1]] != \"c\":\n",
    "                        maze[rand_wall[0] - 1][rand_wall[1]] = \"w\"\n",
    "                    if [rand_wall[0] - 1, rand_wall[1]] not in walls:\n",
    "                        walls.append([rand_wall[0] - 1, rand_wall[1]])\n",
    "\n",
    "                # Leftmost cell\n",
    "                if rand_wall[1] != 0:\n",
    "                    if maze[rand_wall[0]][rand_wall[1] - 1] != \"c\":\n",
    "                        maze[rand_wall[0]][rand_wall[1] - 1] = \"w\"\n",
    "                    if [rand_wall[0], rand_wall[1] - 1] not in walls:\n",
    "                        walls.append([rand_wall[0], rand_wall[1] - 1])\n",
    "\n",
    "                # Rightmost cell\n",
    "                if rand_wall[1] != width - 1:\n",
    "                    if maze[rand_wall[0]][rand_wall[1] + 1] != \"c\":\n",
    "                        maze[rand_wall[0]][rand_wall[1] + 1] = \"w\"\n",
    "                    if [rand_wall[0], rand_wall[1] + 1] not in walls:\n",
    "                        walls.append([rand_wall[0], rand_wall[1] + 1])\n",
    "\n",
    "            # Delete wall\n",
    "            for wall in walls:\n",
    "                if wall[0] == rand_wall[0] and wall[1] == rand_wall[1]:\n",
    "                    walls.remove(wall)\n",
    "\n",
    "            continue\n",
    "\n",
    "    # Check the bottom wall\n",
    "    if rand_wall[0] != height - 1:\n",
    "        if (\n",
    "            maze[rand_wall[0] + 1][rand_wall[1]] == \"u\"\n",
    "            and maze[rand_wall[0] - 1][rand_wall[1]] == \"c\"\n",
    "        ):\n",
    "\n",
    "            s_cells = surroundingCells(rand_wall)\n",
    "            if s_cells < 2:\n",
    "                # Denote the new path\n",
    "                maze[rand_wall[0]][rand_wall[1]] = \"c\"\n",
    "\n",
    "                # Mark the new walls\n",
    "                if rand_wall[0] != height - 1:\n",
    "                    if maze[rand_wall[0] + 1][rand_wall[1]] != \"c\":\n",
    "                        maze[rand_wall[0] + 1][rand_wall[1]] = \"w\"\n",
    "                    if [rand_wall[0] + 1, rand_wall[1]] not in walls:\n",
    "                        walls.append([rand_wall[0] + 1, rand_wall[1]])\n",
    "                if rand_wall[1] != 0:\n",
    "                    if maze[rand_wall[0]][rand_wall[1] - 1] != \"c\":\n",
    "                        maze[rand_wall[0]][rand_wall[1] - 1] = \"w\"\n",
    "                    if [rand_wall[0], rand_wall[1] - 1] not in walls:\n",
    "                        walls.append([rand_wall[0], rand_wall[1] - 1])\n",
    "                if rand_wall[1] != width - 1:\n",
    "                    if maze[rand_wall[0]][rand_wall[1] + 1] != \"c\":\n",
    "                        maze[rand_wall[0]][rand_wall[1] + 1] = \"w\"\n",
    "                    if [rand_wall[0], rand_wall[1] + 1] not in walls:\n",
    "                        walls.append([rand_wall[0], rand_wall[1] + 1])\n",
    "\n",
    "            # Delete wall\n",
    "            for wall in walls:\n",
    "                if wall[0] == rand_wall[0] and wall[1] == rand_wall[1]:\n",
    "                    walls.remove(wall)\n",
    "\n",
    "            continue\n",
    "\n",
    "    # Check the right wall\n",
    "    if rand_wall[1] != width - 1:\n",
    "        if (\n",
    "            maze[rand_wall[0]][rand_wall[1] + 1] == \"u\"\n",
    "            and maze[rand_wall[0]][rand_wall[1] - 1] == \"c\"\n",
    "        ):\n",
    "\n",
    "            s_cells = surroundingCells(rand_wall)\n",
    "            if s_cells < 2:\n",
    "                # Denote the new path\n",
    "                maze[rand_wall[0]][rand_wall[1]] = \"c\"\n",
    "\n",
    "                # Mark the new walls\n",
    "                if rand_wall[1] != width - 1:\n",
    "                    if maze[rand_wall[0]][rand_wall[1] + 1] != \"c\":\n",
    "                        maze[rand_wall[0]][rand_wall[1] + 1] = \"w\"\n",
    "                    if [rand_wall[0], rand_wall[1] + 1] not in walls:\n",
    "                        walls.append([rand_wall[0], rand_wall[1] + 1])\n",
    "                if rand_wall[0] != height - 1:\n",
    "                    if maze[rand_wall[0] + 1][rand_wall[1]] != \"c\":\n",
    "                        maze[rand_wall[0] + 1][rand_wall[1]] = \"w\"\n",
    "                    if [rand_wall[0] + 1, rand_wall[1]] not in walls:\n",
    "                        walls.append([rand_wall[0] + 1, rand_wall[1]])\n",
    "                if rand_wall[0] != 0:\n",
    "                    if maze[rand_wall[0] - 1][rand_wall[1]] != \"c\":\n",
    "                        maze[rand_wall[0] - 1][rand_wall[1]] = \"w\"\n",
    "                    if [rand_wall[0] - 1, rand_wall[1]] not in walls:\n",
    "                        walls.append([rand_wall[0] - 1, rand_wall[1]])\n",
    "\n",
    "            # Delete wall\n",
    "            for wall in walls:\n",
    "                if wall[0] == rand_wall[0] and wall[1] == rand_wall[1]:\n",
    "                    walls.remove(wall)\n",
    "\n",
    "            continue\n",
    "\n",
    "    # Delete the wall from the list anyway\n",
    "    for wall in walls:\n",
    "        if wall[0] == rand_wall[0] and wall[1] == rand_wall[1]:\n",
    "            walls.remove(wall)\n"
   ]
  },
  {
   "cell_type": "code",
   "execution_count": 184,
   "metadata": {},
   "outputs": [
    {
     "output_type": "stream",
     "name": "stdout",
     "text": [
      "u w u w u w u u w u \n",
      "\n",
      "w c w c w c w w c w \n",
      "\n",
      "w c c c w c w w c w \n",
      "\n",
      "w c w c c c c w c w \n",
      "\n",
      "w c w c w w c c c w \n",
      "\n",
      "w c w c w c c w c w \n",
      "\n",
      "u w w c w w c w w u \n",
      "\n",
      "w c c c w c c c c w \n",
      "\n",
      "w c w c w w c w c w \n",
      "\n",
      "u w u w u u w u w u \n",
      "\n"
     ]
    }
   ],
   "source": [
    "print_maze(maze)"
   ]
  },
  {
   "cell_type": "code",
   "execution_count": 186,
   "metadata": {},
   "outputs": [
    {
     "output_type": "stream",
     "name": "stdout",
     "text": [
      "w w w w w w w w w w \n",
      "\n",
      "w c w c w c w w c w \n",
      "\n",
      "w c c c w c w w c w \n",
      "\n",
      "w c w c c c c w c w \n",
      "\n",
      "w c w c w w c c c w \n",
      "\n",
      "w c w c w c c w c w \n",
      "\n",
      "w w w c w w c w w w \n",
      "\n",
      "w c c c w c c c c w \n",
      "\n",
      "w c w c w w c w c w \n",
      "\n",
      "w w w w w w w w w w \n",
      "\n"
     ]
    }
   ],
   "source": [
    "# If you print the maze when the list of walls is empty, \n",
    "# you will notice that there are some cells that will be unvisited. \n",
    "# You need to make them walls:\n",
    "def make_walls(width, height):\n",
    "    for i in range(0, height):\n",
    "        for j in range(0, width):\n",
    "            if (maze[i][j] == 'u'):\n",
    "                maze[i][j] = 'w'\n",
    "\n",
    "# m = init_maze(width, height)\n",
    "# print_maze(m)\n",
    "make_walls(width, height)\n",
    "print_maze(maze)"
   ]
  },
  {
   "cell_type": "code",
   "execution_count": 154,
   "metadata": {},
   "outputs": [],
   "source": [
    "def create_entrance_exit(width, height):\n",
    "    for i in range(0, width):\n",
    "        i = 2\n",
    "        if (maze[1][i] == 'c'):\n",
    "            maze[0][i] = 'c'\n",
    "            break\n",
    "    for i in range(width-1, 0, -1):\n",
    "        i = 2\n",
    "        if (maze[height-2][i] == 'c'):\n",
    "            maze[height-1][i] = 'c'\n",
    "            break"
   ]
  },
  {
   "cell_type": "code",
   "execution_count": 155,
   "metadata": {},
   "outputs": [
    {
     "output_type": "stream",
     "name": "stdout",
     "text": [
      "w w c w w w w w w w \n",
      "\n",
      "w c c c c c c c c w \n",
      "\n",
      "w c w c w w c w w w \n",
      "\n",
      "w c w c c w c c c w \n",
      "\n",
      "w c w c w w w w w w \n",
      "\n",
      "w w w c w c w w c w \n",
      "\n",
      "w w c c c c c c c w \n",
      "\n",
      "w c c w w w c w c w \n",
      "\n",
      "w w c c c w c w c w \n",
      "\n",
      "w w c w w w w w w w \n",
      "\n"
     ]
    }
   ],
   "source": [
    "init_maze(width, height)\n",
    "make_walls(width, height)\n",
    "create_entrance_exit(width, height)\n",
    "print_maze(maze)"
   ]
  },
  {
   "cell_type": "code",
   "execution_count": null,
   "metadata": {},
   "outputs": [],
   "source": []
  },
  {
   "cell_type": "code",
   "execution_count": null,
   "metadata": {},
   "outputs": [],
   "source": []
  },
  {
   "cell_type": "code",
   "execution_count": null,
   "metadata": {},
   "outputs": [],
   "source": []
  },
  {
   "cell_type": "code",
   "execution_count": null,
   "metadata": {},
   "outputs": [],
   "source": []
  }
 ]
}