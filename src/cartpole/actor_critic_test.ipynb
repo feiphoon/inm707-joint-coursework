{
 "metadata": {
  "language_info": {
   "codemirror_mode": {
    "name": "ipython",
    "version": 3
   },
   "file_extension": ".py",
   "mimetype": "text/x-python",
   "name": "python",
   "nbconvert_exporter": "python",
   "pygments_lexer": "ipython3",
   "version": "3.8.5"
  },
  "orig_nbformat": 2,
  "kernelspec": {
   "name": "python3",
   "display_name": "Python 3.8.5 64-bit",
   "metadata": {
    "interpreter": {
     "hash": "4c4935044420ca1ae9e83f546a5afffe782132b550af3e301ea7a164f7ec9c09"
    }
   }
  }
 },
 "nbformat": 4,
 "nbformat_minor": 2,
 "cells": [
  {
   "source": [
    "# Actor-Critic test of best models"
   ],
   "cell_type": "markdown",
   "metadata": {}
  },
  {
   "cell_type": "code",
   "execution_count": 1,
   "metadata": {},
   "outputs": [],
   "source": [
    "# TODO: import all the required stuff"
   ]
  },
  {
   "cell_type": "code",
   "execution_count": null,
   "metadata": {},
   "outputs": [],
   "source": [
    "# Load\n",
    "model_load = torch.load(PATH)\n",
    "model_load.eval()\n",
    "\n",
    "model_load.state_dict()\n",
    "\n",
    "model_load_env = gym.make(\"CartPole-v1\")\n",
    "state = model_load_env.reset()"
   ]
  },
  {
   "cell_type": "code",
   "execution_count": null,
   "metadata": {},
   "outputs": [],
   "source": [
    "model_load_env = gym.make(\"CartPole-v1\")\n",
    "model_load_env.seed(0)\n",
    "\n",
    "model_load_total_rewards = []\n",
    "\n",
    "for _ in range(50):\n",
    "    model_load_rewards = sample_one_episode(env=model_load_env,model=model_load)\n",
    "    model_load_total_rewards.append(model_load_rewards)\n",
    "\n",
    "model_load_total_rewards\n",
    "\n",
    "plt.plot(model_load_total_rewards);"
   ]
  },
  {
   "cell_type": "code",
   "execution_count": null,
   "metadata": {},
   "outputs": [],
   "source": [
    "min(model_load_total_rewards), max(model_load_total_rewards), np.std(model_load_total_rewards), np.mean(model_load_total_rewards)"
   ]
  }
 ]
}