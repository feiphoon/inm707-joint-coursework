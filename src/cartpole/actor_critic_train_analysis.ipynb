{
 "metadata": {
  "language_info": {
   "codemirror_mode": {
    "name": "ipython",
    "version": 3
   },
   "file_extension": ".py",
   "mimetype": "text/x-python",
   "name": "python",
   "nbconvert_exporter": "python",
   "pygments_lexer": "ipython3",
   "version": "3.8.5"
  },
  "orig_nbformat": 2,
  "kernelspec": {
   "name": "pythonjvsc74a57bd0ec04c10a3ef611ea2836b5ff833f0501e0dcfc8e0500f516ccda9246622a0e8e",
   "display_name": "Python 3.8.5  ('venv': venv)"
  },
  "metadata": {
   "interpreter": {
    "hash": "ec04c10a3ef611ea2836b5ff833f0501e0dcfc8e0500f516ccda9246622a0e8e"
   }
  }
 },
 "nbformat": 4,
 "nbformat_minor": 2,
 "cells": [
  {
   "cell_type": "code",
   "execution_count": 1,
   "metadata": {},
   "outputs": [],
   "source": [
    "#imports for analysis\n",
    "import pandas as pd\n",
    "import numpy as np\n",
    "import matplotlib.pyplot as plt\n",
    "import csv\n",
    "import re\n",
    "from pathlib import Path\n",
    "pd.options.display.max_rows = 10"
   ]
  },
  {
   "cell_type": "code",
   "execution_count": null,
   "metadata": {},
   "outputs": [],
   "source": []
  },
  {
   "cell_type": "code",
   "execution_count": 4,
   "metadata": {},
   "outputs": [
    {
     "output_type": "stream",
     "name": "stdout",
     "text": [
      "datetime:20210405-225734\n\n\n\n"
     ]
    }
   ],
   "source": [
    "a_file = open(\"all_results.txt\")\n",
    "lines_to_read = [16, 5]\n",
    "\n",
    "for position, line in enumerate(a_file):\n",
    "    if position in lines_to_read:\n",
    "        print(line)"
   ]
  },
  {
   "cell_type": "code",
   "execution_count": 5,
   "metadata": {},
   "outputs": [],
   "source": [
    "results = pd.read_table('all_results.txt',header=0, escapechar='\\\\',error_bad_lines = False)"
   ]
  },
  {
   "cell_type": "code",
   "execution_count": null,
   "metadata": {},
   "outputs": [],
   "source": [
    "with open(\"all_results.txt\",\"r\") as dataFl:\n",
    "    lines = [line for line in dataFl]\n",
    "\n",
    "attribute = [] #these are the keys to the dict\n",
    "data = [] #this is the data that we want to map to the keys\n",
    "\n",
    "for line in lines:\n",
    "    if line.startswith(\"=\") or \"\""
   ]
  },
  {
   "cell_type": "code",
   "execution_count": null,
   "metadata": {},
   "outputs": [],
   "source": [
    "with open(\"new_results.txt\",\"r\") as dataFl:\n",
    "    lines = [line for line in dataFl]\n",
    "\n",
    "attribute = []\n",
    "data = []\n",
    "for line in lines:\n",
    "    if line.startswith(\"%\") or 'data' in line or line=='\\n': # this is a comment or the data line\n",
    "        pass\n",
    "    elif line.startswith(\"@\"):\n",
    "        if \"relation\" in line:\n",
    "            relationName = line.split(\" \")[1]\n",
    "        elif \"attribute\" in line:\n",
    "            attribute.append(line.split(\" \")[1])\n",
    "    else:\n",
    "        dataLine = list(map(lambda x : x.strip(),line.split(\",\")))\n",
    "        dataDict = {attribute[i] : dataLine[i] for i in range(len(attribute))} # each line of data is now a dictionary.\n",
    "        data.append(dataDict)\n",
    "\n",
    "print(\"Relation Name is : %s\" %relationName)\n",
    "print(\"Attributes are \" + ','.join(attribute))\n",
    "print(data)"
   ]
  },
  {
   "cell_type": "code",
   "execution_count": null,
   "metadata": {},
   "outputs": [],
   "source": [
    "rx_dict = {\n",
    "    'datetime': re.compile(r'datetime = (?P<datetime>.*)\\n'),\n",
    "    'hyperparameters': re.compile(r'hyperparameters = (?P<hyperparameters>\\d+)\\n'),\n",
    "    'results': re.compile(r'results = (?P<results>\\d+)\\n'),  \n",
    "    'wall_time': re.compile(r'wall_time = (?P<wall_time>\\d+)\\n'),\n",
    "    \n",
    "}"
   ]
  },
  {
   "cell_type": "code",
   "execution_count": null,
   "metadata": {},
   "outputs": [],
   "source": [
    "def _parse_line(line):\n",
    "    \"\"\"\n",
    "    Do a regex search against all defined regexes and\n",
    "    return the key and match result of the first matching regex\n",
    "\n",
    "    \"\"\"\n",
    "\n",
    "    for key, rx in rx_dict.items():\n",
    "        match = rx.search(line)\n",
    "        if match:\n",
    "            return key, match\n",
    "    # if there are no matches\n",
    "    return None, None"
   ]
  },
  {
   "cell_type": "code",
   "execution_count": null,
   "metadata": {},
   "outputs": [],
   "source": [
    "def parse_file(results):\n",
    "    \"\"\"\n",
    "    Parse text at given filepath\n",
    "\n",
    "    Parameters\n",
    "    ----------\n",
    "    filepath : str\n",
    "        Filepath for file_object to be parsed\n",
    "\n",
    "    Returns\n",
    "    -------\n",
    "    data : pd.DataFrame\n",
    "        Parsed data\n",
    "\n",
    "    \"\"\"\n",
    "\n",
    "    data = []  # create an empty list to collect the data\n",
    "    # open the file and read through it line by line\n",
    "    with open(results, 'r') as file_object:\n",
    "        line = file_object.readline()\n",
    "        while line:\n",
    "            # at each line check for a match with a regex\n",
    "            key, match = _parse_line(line)\n",
    "\n",
    "            # extract school name\n",
    "            if key == 'datetime':\n",
    "                school = match.group('datetime')\n",
    "\n",
    "            # extract grade\n",
    "            if key == '':\n",
    "                grade = match.group('grade')\n",
    "                grade = int(grade)\n",
    "\n",
    "            # identify a table header \n",
    "            if key == 'name_score':\n",
    "                # extract type of table, i.e., Name or Score\n",
    "                value_type = match.group('name_score')\n",
    "                line = file_object.readline()\n",
    "                # read each line of the table until a blank line\n",
    "                while line.strip():\n",
    "                    # extract number and value\n",
    "                    number, value = line.strip().split(',')\n",
    "                    value = value.strip()\n",
    "                    # create a dictionary containing this row of data\n",
    "                    row = {\n",
    "                        'School': school,\n",
    "                        'Grade': grade,\n",
    "                        'Student number': number,\n",
    "                        value_type: value\n",
    "                    }\n",
    "                    # append the dictionary to the data list\n",
    "                    data.append(row)\n",
    "                    line = file_object.readline()\n",
    "\n",
    "            line = file_object.readline()\n",
    "\n",
    "        # create a pandas DataFrame from the list of dicts\n",
    "        data = pd.DataFrame(data)\n",
    "        # set the School, Grade, and Student number as the index\n",
    "        data.set_index(['School', 'Grade', 'Student number'], inplace=True)\n",
    "        # consolidate df to remove nans\n",
    "        data = data.groupby(level=data.index.names).first()\n",
    "        # upgrade Score from float to integer\n",
    "        data = data.apply(pd.to_numeric, errors='ignore')\n",
    "    return data"
   ]
  },
  {
   "cell_type": "code",
   "execution_count": null,
   "metadata": {},
   "outputs": [],
   "source": [
    "result = pd.read_table('all_results.txt',header=0, escapechar='\\\\',error_bad_lines = False)"
   ]
  },
  {
   "cell_type": "code",
   "execution_count": null,
   "metadata": {},
   "outputs": [],
   "source": [
    "result.head(10)"
   ]
  },
  {
   "cell_type": "code",
   "execution_count": null,
   "metadata": {},
   "outputs": [],
   "source": []
  }
 ]
}