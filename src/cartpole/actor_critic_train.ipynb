{
 "metadata": {
  "language_info": {
   "codemirror_mode": {
    "name": "ipython",
    "version": 3
   },
   "file_extension": ".py",
   "mimetype": "text/x-python",
   "name": "python",
   "nbconvert_exporter": "python",
   "pygments_lexer": "ipython3",
   "version": "3.8.5"
  },
  "orig_nbformat": 2,
  "kernelspec": {
   "name": "python385jvsc74a57bd0ec04c10a3ef611ea2836b5ff833f0501e0dcfc8e0500f516ccda9246622a0e8e",
   "display_name": "Python 3.8.5 64-bit ('venv': venv)"
  }
 },
 "nbformat": 4,
 "nbformat_minor": 2,
 "cells": [
  {
   "source": [
    "# Actor-Critic: A2C training"
   ],
   "cell_type": "markdown",
   "metadata": {}
  },
  {
   "source": [
    "## Imports & setup"
   ],
   "cell_type": "markdown",
   "metadata": {}
  },
  {
   "source": [
    "### Essential tools"
   ],
   "cell_type": "markdown",
   "metadata": {}
  },
  {
   "cell_type": "code",
   "execution_count": 40,
   "metadata": {},
   "outputs": [],
   "source": [
    "# Generic setup\n",
    "import math\n",
    "from operator import itemgetter\n",
    "import numpy as np\n",
    "from typing import Tuple, List, Callable\n",
    "from collections import namedtuple\n",
    "\n",
    "# For logging and saving results\n",
    "from datetime import datetime\n",
    "import os\n",
    "import timeit"
   ]
  },
  {
   "cell_type": "code",
   "execution_count": 41,
   "metadata": {},
   "outputs": [],
   "source": [
    "# Analysis\n",
    "from IPython.display import clear_output\n",
    "\n",
    "import matplotlib.pyplot as plt\n",
    "%matplotlib inline\n",
    "import seaborn as sns\n",
    "sns.set_style(\"whitegrid\")"
   ]
  },
  {
   "cell_type": "code",
   "execution_count": 42,
   "metadata": {},
   "outputs": [
    {
     "output_type": "execute_result",
     "data": {
      "text/plain": [
       "False"
      ]
     },
     "metadata": {},
     "execution_count": 42
    }
   ],
   "source": [
    "sys.prefix == sys.base_prefix \n"
   ]
  },
  {
   "source": [
    "### Examine Gym environments"
   ],
   "cell_type": "markdown",
   "metadata": {}
  },
  {
   "cell_type": "code",
   "execution_count": 3,
   "metadata": {
    "tags": []
   },
   "outputs": [],
   "source": [
    "# %%capture\n",
    "# from gym import envs\n",
    "# print(envs.registry.all())"
   ]
  },
  {
   "cell_type": "code",
   "execution_count": 43,
   "metadata": {},
   "outputs": [],
   "source": [
    "import gym"
   ]
  },
  {
   "cell_type": "code",
   "execution_count": 44,
   "metadata": {},
   "outputs": [
    {
     "output_type": "execute_result",
     "data": {
      "text/plain": [
       "(500,\n",
       " 475.0,\n",
       " Discrete(2),\n",
       " Box(-3.4028234663852886e+38, 3.4028234663852886e+38, (4,), float32))"
      ]
     },
     "metadata": {},
     "execution_count": 44
    }
   ],
   "source": [
    "# Smoke test\n",
    "#env = gym.make(\"CartPole-v1\")\n",
    "env = gym.make(\"CartPole-v1\")\n",
    "# # Check environment details\n",
    "# CartPole-v0 is 200, 195.0\n",
    "# CartPole-v1 is 500, 475.0\n",
    "# Pong-v0 is 10000, None, 6, 255\n",
    "env.spec.max_episode_steps, env.spec.reward_threshold, env.action_space, env.observation_space\n",
    "\n",
    "# Rememeber to make reproducible gym environments\n",
    "# env.seed(0)"
   ]
  },
  {
   "source": [
    "### Import PyTorch"
   ],
   "cell_type": "markdown",
   "metadata": {}
  },
  {
   "cell_type": "code",
   "execution_count": 45,
   "metadata": {},
   "outputs": [
    {
     "output_type": "execute_result",
     "data": {
      "text/plain": [
       "<torch._C.Generator at 0x143fe9330>"
      ]
     },
     "metadata": {},
     "execution_count": 45
    }
   ],
   "source": [
    "import torch\n",
    "import torch.nn as nn\n",
    "import torch.optim as optim\n",
    "import torch.nn.functional as F\n",
    "\n",
    "# Check for CUDA\n",
    "device = torch.device(\"cuda\" if torch.cuda.is_available() else \"cpu\")\n",
    "\n",
    "# Reproducible results\n",
    "torch.manual_seed(0)"
   ]
  },
  {
   "cell_type": "code",
   "execution_count": 46,
   "metadata": {},
   "outputs": [],
   "source": [
    "%%capture\n",
    "!pip install stable_baselines3==1.0"
   ]
  },
  {
   "cell_type": "code",
   "execution_count": 47,
   "metadata": {},
   "outputs": [],
   "source": [
    "# Import only for multiprocessing\n",
    "import stable_baselines3\n",
    "from stable_baselines3.common.env_util import SubprocVecEnv\n",
    "from stable_baselines3.common.utils import set_random_seed"
   ]
  },
  {
   "source": [
    "### Import local modules"
   ],
   "cell_type": "markdown",
   "metadata": {}
  },
  {
   "cell_type": "code",
   "execution_count": 48,
   "metadata": {},
   "outputs": [],
   "source": [
    "from actor_critic import ActorCritic\n",
    "from utils import stringify_dict"
   ]
  },
  {
   "source": [
    "## Set up evaluation\n",
    "\n",
    "Gym CartPole V0 & V1 description:\n",
    "\n",
    ">A pole is attached by an un-actuated joint to a cart, which moves along a frictionless track. The system is controlled by applying a force of +1 or -1 to the cart. The pendulum starts upright, and the goal is to prevent it from falling over. A reward of +1 is provided for every timestep that the pole remains upright. The episode ends when the pole is more than 15 degrees from vertical, or the cart moves more than 2.4 units from the center.\n",
    "\n",
    "Four terminating states for CartPole-v1:\n",
    "- env.spec.max_episode_steps 500\n",
    "- env.spec.reward_threshold 475.0\n",
    "- pole is more than 15 degrees from vertical\n",
    "- the cart moves more than 2.4 units from the centre\n",
    "\n",
    "https://towardsdatascience.com/understanding-actor-critic-methods-931b97b6df3f\n",
    "\n",
    "Doing A2C, a single worker variant of A3C.\n",
    "- backprop\n",
    "- keep the hidden layer simple (1)\n",
    "- ADAM as loss function (RMSprop was very stable as recommended in stable-baselines3, but reward was very poor)\n",
    "- reward step size/evaluation step size 5\n",
    "\n",
    "Hyperparameters:\n",
    "(values from Deep Reinforcement Learning Hands-On, Maxim Lapan)\n",
    "- num of envs used [6, 12, 24]\n",
    "- num_episodes [50000, 100000]\n",
    "- learning rate [0.001, 0.002, 0.003]\n",
    "- hidden layers [(32, 32), (64, 64), (128, 128)]\n",
    "- max gradient/gradient clipping [0.1]\n",
    "- Adam optimiser epsilon [default]\n",
    "- reward step bootstrapping [5] (10 was very careless)\n",
    "- ~~entropy reg weight [0.001, 0.002, 0.003]~~\n",
    "- ~~value coefficient [0.1, 0.3, 0.5]~~\n",
    "\n",
    "Performance analysis:\n",
    "- Reward\n",
    "- policy loss\n",
    "- value loss\n",
    "- overall loss\n",
    "- ~~No. of timesteps per episode (before terminating state)~~ No need as timesteps == rewards\n",
    "- No need for wallclock time as we don't want to compare this for now.\n",
    "\n",
    "Eduard = MSI RX 2080, 6 cores Intel Core i5 9600KF\n",
    "Fei = 6 cores AMD Ryzen 5 3600, I'm not going to install ROCm"
   ],
   "cell_type": "markdown",
   "metadata": {}
  },
  {
   "cell_type": "code",
   "execution_count": 49,
   "metadata": {},
   "outputs": [],
   "source": [
    "# One episode/test run/logging rewards\n",
    "def sample_one_episode(env: gym.Env, model: ActorCritic):\n",
    "    state = env.reset()\n",
    "    done = False\n",
    "\n",
    "    total_reward = 0\n",
    "\n",
    "    while not done:\n",
    "        state = torch.unsqueeze(torch.FloatTensor(state), 0).to(device)\n",
    "        probability_dist, values = model(state)\n",
    "        action_to_take = probability_dist.sample()\n",
    "        next_state, reward, done, _ = env.step(action_to_take.cpu().detach().numpy()[0])\n",
    "        state = next_state\n",
    "\n",
    "        total_reward += reward\n",
    "\n",
    "    return total_reward\n",
    "    \n",
    "def calculate_returns(next_value: torch.Tensor, rewards: List[torch.FloatTensor], masks: List[int], gamma: float) -> List[torch.Tensor]:\n",
    "    calculated_returns = []\n",
    "    # Calculate the accumulated returns \n",
    "    # from the number of \"reward steps to update\".\n",
    "    # Reset R to the next_value first.\n",
    "    R = next_value\n",
    "\n",
    "    # Calculate discounted return & go backwards\n",
    "    for _ in range(len(rewards))[::-1]:\n",
    "        R = rewards[_] + gamma * R * masks[_]\n",
    "        # Push return value R\n",
    "        calculated_returns.insert(0, R)\n",
    "    return calculated_returns\n",
    "\n",
    "def plot_rewards_episodes(episode_idx: int, experiment_rewards: list):\n",
    "    clear_output(True)\n",
    "    plt.figure(figsize=(20,5))\n",
    "    plt.subplot(131)\n",
    "    plt.title(f\"Last reward of {experiment_rewards[-1]} after {episode_idx} episodes\")\n",
    "    plt.xlabel(\"Per 1000 episodes\")\n",
    "    plt.ylabel(\"Reward\")\n",
    "    plt.plot(experiment_rewards)\n",
    "    plt.show()\n",
    "\n",
    "# From: https://colab.research.google.com/github/Stable-Baselines-Team/rl-colab-notebooks/blob/sb3/multiprocessing_rl.ipynb\n",
    "\n",
    "def make_env(env_id: str, rank: int, seed: int = 0) -> Callable:\n",
    "    \"\"\"\n",
    "    Utility function for multiprocessed env.\n",
    "    \n",
    "    :param env_id: (str) the environment ID\n",
    "    :param num_env: (int) the number of environment you wish to have in subprocesses\n",
    "    :param seed: (int) the inital seed for RNG\n",
    "    :param rank: (int) index of the subprocess\n",
    "    :return: (Callable)\n",
    "    \"\"\"\n",
    "    def _init() -> gym.Env:\n",
    "        env = gym.make(env_id)\n",
    "        env.seed(seed + rank)\n",
    "        return env\n",
    "    set_random_seed(seed)\n",
    "    return _init\n"
   ]
  },
  {
   "cell_type": "code",
   "execution_count": 50,
   "metadata": {},
   "outputs": [],
   "source": [
    "Results = namedtuple(\"Results\", \"min_reward, max_reward, reward_variance, mean_reward, mean_actor_loss, mean_critic_loss, mean_entropy_loss, mean_overall_loss\")"
   ]
  },
  {
   "cell_type": "code",
   "execution_count": 51,
   "metadata": {},
   "outputs": [],
   "source": [
    "# Parameters based on environment:\n",
    "env = gym.make(\"CartPole-v1\")\n",
    "NUM_OBSERVATIONS: int = env.observation_space.shape[0] # input\n",
    "NUM_ACTIONS: int = env.action_space.n # output\n",
    "\n",
    "# Hyperparameters\n",
    "NUM_ENV_LIST: list = [6, 12, 24]\n",
    "NUM_EPISODES_LIST: list = [50000, 100000]\n",
    "LEARNING_RATE_LIST: list = [0.001, 0.002, 0.003]\n",
    "HIDDEN_LAYER_LIST: list = [(32, 32), (64, 64), (128, 128)]\n",
    "\n",
    "# Later hyperparameters to try and fix critic\n",
    "ENTROPY_REG_WEIGHT_LIST: list = [0.001, 0.002, 0.003]\n",
    "VALUE_COEFFICIENT_LIST: list = [0.1, 0.3, 0.5]\n",
    "\n",
    "ENTROPY_REG_WEIGHT: float = 0.001 # Entropy regularisation weight/beta/coefficient\n",
    "VALUE_LOSS_COEFFICIENT: float = 1.0 # Have seen this as 0.5 and 0.1, we will choose the lower\n",
    "NUM_REWARD_STEPS: int = 5\n",
    "GAMMA = 0.9\n",
    "MAX_GRADIENT = 0.1\n",
    "\n",
    "ENV_NAME = \"CartPole-v1\"\n",
    "#ENV_NAME = \"CartPole-v0\""
   ]
  },
  {
   "cell_type": "code",
   "execution_count": 35,
   "metadata": {},
   "outputs": [
    {
     "output_type": "display_data",
     "data": {
      "text/plain": "<Figure size 1440x360 with 1 Axes>",
      "image/svg+xml": "<?xml version=\"1.0\" encoding=\"utf-8\" standalone=\"no\"?>\n<!DOCTYPE svg PUBLIC \"-//W3C//DTD SVG 1.1//EN\"\n  \"http://www.w3.org/Graphics/SVG/1.1/DTD/svg11.dtd\">\n<svg height=\"330.255937pt\" version=\"1.1\" viewBox=\"0 0 373.902482 330.255937\" width=\"373.902482pt\" xmlns=\"http://www.w3.org/2000/svg\" xmlns:xlink=\"http://www.w3.org/1999/xlink\">\n <metadata>\n  <rdf:RDF xmlns:cc=\"http://creativecommons.org/ns#\" xmlns:dc=\"http://purl.org/dc/elements/1.1/\" xmlns:rdf=\"http://www.w3.org/1999/02/22-rdf-syntax-ns#\">\n   <cc:Work>\n    <dc:type rdf:resource=\"http://purl.org/dc/dcmitype/StillImage\"/>\n    <dc:date>2021-04-08T07:52:58.584228</dc:date>\n    <dc:format>image/svg+xml</dc:format>\n    <dc:creator>\n     <cc:Agent>\n      <dc:title>Matplotlib v3.4.1, https://matplotlib.org/</dc:title>\n     </cc:Agent>\n    </dc:creator>\n   </cc:Work>\n  </rdf:RDF>\n </metadata>\n <defs>\n  <style type=\"text/css\">*{stroke-linecap:butt;stroke-linejoin:round;}</style>\n </defs>\n <g id=\"figure_1\">\n  <g id=\"patch_1\">\n   <path d=\"M 0 330.255937 \nL 373.902482 330.255937 \nL 373.902482 0 \nL 0 0 \nz\n\" style=\"fill:#ffffff;\"/>\n  </g>\n  <g id=\"axes_1\">\n   <g id=\"patch_2\">\n    <path d=\"M 38.467187 293.735625 \nL 366.702482 293.735625 \nL 366.702482 21.935625 \nL 38.467187 21.935625 \nz\n\" style=\"fill:#ffffff;\"/>\n   </g>\n   <g id=\"matplotlib.axis_1\">\n    <g id=\"xtick_1\">\n     <g id=\"line2d_1\">\n      <path clip-path=\"url(#pe939cdb653)\" d=\"M 53.386974 293.735625 \nL 53.386974 21.935625 \n\" style=\"fill:none;stroke:#cccccc;stroke-linecap:round;stroke-width:0.8;\"/>\n     </g>\n     <g id=\"text_1\">\n      <!-- 0 -->\n      <g style=\"fill:#262626;\" transform=\"translate(50.606505 307.893437)scale(0.1 -0.1)\">\n       <defs>\n        <path d=\"M 266 2259 \nQ 266 3072 433 3567 \nQ 600 4063 929 4331 \nQ 1259 4600 1759 4600 \nQ 2128 4600 2406 4451 \nQ 2684 4303 2865 4023 \nQ 3047 3744 3150 3342 \nQ 3253 2941 3253 2259 \nQ 3253 1453 3087 958 \nQ 2922 463 2592 192 \nQ 2263 -78 1759 -78 \nQ 1097 -78 719 397 \nQ 266 969 266 2259 \nz\nM 844 2259 \nQ 844 1131 1108 757 \nQ 1372 384 1759 384 \nQ 2147 384 2411 759 \nQ 2675 1134 2675 2259 \nQ 2675 3391 2411 3762 \nQ 2147 4134 1753 4134 \nQ 1366 4134 1134 3806 \nQ 844 3388 844 2259 \nz\n\" id=\"ArialMT-30\" transform=\"scale(0.015625)\"/>\n       </defs>\n       <use xlink:href=\"#ArialMT-30\"/>\n      </g>\n     </g>\n    </g>\n    <g id=\"xtick_2\">\n     <g id=\"line2d_2\">\n      <path clip-path=\"url(#pe939cdb653)\" d=\"M 99.294008 293.735625 \nL 99.294008 21.935625 \n\" style=\"fill:none;stroke:#cccccc;stroke-linecap:round;stroke-width:0.8;\"/>\n     </g>\n     <g id=\"text_2\">\n      <!-- 2 -->\n      <g style=\"fill:#262626;\" transform=\"translate(96.513539 307.893437)scale(0.1 -0.1)\">\n       <defs>\n        <path d=\"M 3222 541 \nL 3222 0 \nL 194 0 \nQ 188 203 259 391 \nQ 375 700 629 1000 \nQ 884 1300 1366 1694 \nQ 2113 2306 2375 2664 \nQ 2638 3022 2638 3341 \nQ 2638 3675 2398 3904 \nQ 2159 4134 1775 4134 \nQ 1369 4134 1125 3890 \nQ 881 3647 878 3216 \nL 300 3275 \nQ 359 3922 746 4261 \nQ 1134 4600 1788 4600 \nQ 2447 4600 2831 4234 \nQ 3216 3869 3216 3328 \nQ 3216 3053 3103 2787 \nQ 2991 2522 2730 2228 \nQ 2469 1934 1863 1422 \nQ 1356 997 1212 845 \nQ 1069 694 975 541 \nL 3222 541 \nz\n\" id=\"ArialMT-32\" transform=\"scale(0.015625)\"/>\n       </defs>\n       <use xlink:href=\"#ArialMT-32\"/>\n      </g>\n     </g>\n    </g>\n    <g id=\"xtick_3\">\n     <g id=\"line2d_3\">\n      <path clip-path=\"url(#pe939cdb653)\" d=\"M 145.201042 293.735625 \nL 145.201042 21.935625 \n\" style=\"fill:none;stroke:#cccccc;stroke-linecap:round;stroke-width:0.8;\"/>\n     </g>\n     <g id=\"text_3\">\n      <!-- 4 -->\n      <g style=\"fill:#262626;\" transform=\"translate(142.420573 307.893437)scale(0.1 -0.1)\">\n       <defs>\n        <path d=\"M 2069 0 \nL 2069 1097 \nL 81 1097 \nL 81 1613 \nL 2172 4581 \nL 2631 4581 \nL 2631 1613 \nL 3250 1613 \nL 3250 1097 \nL 2631 1097 \nL 2631 0 \nL 2069 0 \nz\nM 2069 1613 \nL 2069 3678 \nL 634 1613 \nL 2069 1613 \nz\n\" id=\"ArialMT-34\" transform=\"scale(0.015625)\"/>\n       </defs>\n       <use xlink:href=\"#ArialMT-34\"/>\n      </g>\n     </g>\n    </g>\n    <g id=\"xtick_4\">\n     <g id=\"line2d_4\">\n      <path clip-path=\"url(#pe939cdb653)\" d=\"M 191.108076 293.735625 \nL 191.108076 21.935625 \n\" style=\"fill:none;stroke:#cccccc;stroke-linecap:round;stroke-width:0.8;\"/>\n     </g>\n     <g id=\"text_4\">\n      <!-- 6 -->\n      <g style=\"fill:#262626;\" transform=\"translate(188.327607 307.893437)scale(0.1 -0.1)\">\n       <defs>\n        <path d=\"M 3184 3459 \nL 2625 3416 \nQ 2550 3747 2413 3897 \nQ 2184 4138 1850 4138 \nQ 1581 4138 1378 3988 \nQ 1113 3794 959 3422 \nQ 806 3050 800 2363 \nQ 1003 2672 1297 2822 \nQ 1591 2972 1913 2972 \nQ 2475 2972 2870 2558 \nQ 3266 2144 3266 1488 \nQ 3266 1056 3080 686 \nQ 2894 316 2569 119 \nQ 2244 -78 1831 -78 \nQ 1128 -78 684 439 \nQ 241 956 241 2144 \nQ 241 3472 731 4075 \nQ 1159 4600 1884 4600 \nQ 2425 4600 2770 4297 \nQ 3116 3994 3184 3459 \nz\nM 888 1484 \nQ 888 1194 1011 928 \nQ 1134 663 1356 523 \nQ 1578 384 1822 384 \nQ 2178 384 2434 671 \nQ 2691 959 2691 1453 \nQ 2691 1928 2437 2201 \nQ 2184 2475 1800 2475 \nQ 1419 2475 1153 2201 \nQ 888 1928 888 1484 \nz\n\" id=\"ArialMT-36\" transform=\"scale(0.015625)\"/>\n       </defs>\n       <use xlink:href=\"#ArialMT-36\"/>\n      </g>\n     </g>\n    </g>\n    <g id=\"xtick_5\">\n     <g id=\"line2d_5\">\n      <path clip-path=\"url(#pe939cdb653)\" d=\"M 237.01511 293.735625 \nL 237.01511 21.935625 \n\" style=\"fill:none;stroke:#cccccc;stroke-linecap:round;stroke-width:0.8;\"/>\n     </g>\n     <g id=\"text_5\">\n      <!-- 8 -->\n      <g style=\"fill:#262626;\" transform=\"translate(234.234641 307.893437)scale(0.1 -0.1)\">\n       <defs>\n        <path d=\"M 1131 2484 \nQ 781 2613 612 2850 \nQ 444 3088 444 3419 \nQ 444 3919 803 4259 \nQ 1163 4600 1759 4600 \nQ 2359 4600 2725 4251 \nQ 3091 3903 3091 3403 \nQ 3091 3084 2923 2848 \nQ 2756 2613 2416 2484 \nQ 2838 2347 3058 2040 \nQ 3278 1734 3278 1309 \nQ 3278 722 2862 322 \nQ 2447 -78 1769 -78 \nQ 1091 -78 675 323 \nQ 259 725 259 1325 \nQ 259 1772 486 2073 \nQ 713 2375 1131 2484 \nz\nM 1019 3438 \nQ 1019 3113 1228 2906 \nQ 1438 2700 1772 2700 \nQ 2097 2700 2305 2904 \nQ 2513 3109 2513 3406 \nQ 2513 3716 2298 3927 \nQ 2084 4138 1766 4138 \nQ 1444 4138 1231 3931 \nQ 1019 3725 1019 3438 \nz\nM 838 1322 \nQ 838 1081 952 856 \nQ 1066 631 1291 507 \nQ 1516 384 1775 384 \nQ 2178 384 2440 643 \nQ 2703 903 2703 1303 \nQ 2703 1709 2433 1975 \nQ 2163 2241 1756 2241 \nQ 1359 2241 1098 1978 \nQ 838 1716 838 1322 \nz\n\" id=\"ArialMT-38\" transform=\"scale(0.015625)\"/>\n       </defs>\n       <use xlink:href=\"#ArialMT-38\"/>\n      </g>\n     </g>\n    </g>\n    <g id=\"xtick_6\">\n     <g id=\"line2d_6\">\n      <path clip-path=\"url(#pe939cdb653)\" d=\"M 282.922144 293.735625 \nL 282.922144 21.935625 \n\" style=\"fill:none;stroke:#cccccc;stroke-linecap:round;stroke-width:0.8;\"/>\n     </g>\n     <g id=\"text_6\">\n      <!-- 10 -->\n      <g style=\"fill:#262626;\" transform=\"translate(277.361207 307.893437)scale(0.1 -0.1)\">\n       <defs>\n        <path d=\"M 2384 0 \nL 1822 0 \nL 1822 3584 \nQ 1619 3391 1289 3197 \nQ 959 3003 697 2906 \nL 697 3450 \nQ 1169 3672 1522 3987 \nQ 1875 4303 2022 4600 \nL 2384 4600 \nL 2384 0 \nz\n\" id=\"ArialMT-31\" transform=\"scale(0.015625)\"/>\n       </defs>\n       <use xlink:href=\"#ArialMT-31\"/>\n       <use x=\"55.615234\" xlink:href=\"#ArialMT-30\"/>\n      </g>\n     </g>\n    </g>\n    <g id=\"xtick_7\">\n     <g id=\"line2d_7\">\n      <path clip-path=\"url(#pe939cdb653)\" d=\"M 328.829178 293.735625 \nL 328.829178 21.935625 \n\" style=\"fill:none;stroke:#cccccc;stroke-linecap:round;stroke-width:0.8;\"/>\n     </g>\n     <g id=\"text_7\">\n      <!-- 12 -->\n      <g style=\"fill:#262626;\" transform=\"translate(323.268241 307.893437)scale(0.1 -0.1)\">\n       <use xlink:href=\"#ArialMT-31\"/>\n       <use x=\"55.615234\" xlink:href=\"#ArialMT-32\"/>\n      </g>\n     </g>\n    </g>\n    <g id=\"text_8\">\n     <!-- Per 1000 episodes -->\n     <g style=\"fill:#262626;\" transform=\"translate(160.891085 321.068437)scale(0.1 -0.1)\">\n      <defs>\n       <path d=\"M 494 0 \nL 494 4581 \nL 2222 4581 \nQ 2678 4581 2919 4538 \nQ 3256 4481 3484 4323 \nQ 3713 4166 3852 3881 \nQ 3991 3597 3991 3256 \nQ 3991 2672 3619 2267 \nQ 3247 1863 2275 1863 \nL 1100 1863 \nL 1100 0 \nL 494 0 \nz\nM 1100 2403 \nL 2284 2403 \nQ 2872 2403 3119 2622 \nQ 3366 2841 3366 3238 \nQ 3366 3525 3220 3729 \nQ 3075 3934 2838 4000 \nQ 2684 4041 2272 4041 \nL 1100 4041 \nL 1100 2403 \nz\n\" id=\"ArialMT-50\" transform=\"scale(0.015625)\"/>\n       <path d=\"M 2694 1069 \nL 3275 997 \nQ 3138 488 2766 206 \nQ 2394 -75 1816 -75 \nQ 1088 -75 661 373 \nQ 234 822 234 1631 \nQ 234 2469 665 2931 \nQ 1097 3394 1784 3394 \nQ 2450 3394 2872 2941 \nQ 3294 2488 3294 1666 \nQ 3294 1616 3291 1516 \nL 816 1516 \nQ 847 969 1125 678 \nQ 1403 388 1819 388 \nQ 2128 388 2347 550 \nQ 2566 713 2694 1069 \nz\nM 847 1978 \nL 2700 1978 \nQ 2663 2397 2488 2606 \nQ 2219 2931 1791 2931 \nQ 1403 2931 1139 2672 \nQ 875 2413 847 1978 \nz\n\" id=\"ArialMT-65\" transform=\"scale(0.015625)\"/>\n       <path d=\"M 416 0 \nL 416 3319 \nL 922 3319 \nL 922 2816 \nQ 1116 3169 1280 3281 \nQ 1444 3394 1641 3394 \nQ 1925 3394 2219 3213 \nL 2025 2691 \nQ 1819 2813 1613 2813 \nQ 1428 2813 1281 2702 \nQ 1134 2591 1072 2394 \nQ 978 2094 978 1738 \nL 978 0 \nL 416 0 \nz\n\" id=\"ArialMT-72\" transform=\"scale(0.015625)\"/>\n       <path id=\"ArialMT-20\" transform=\"scale(0.015625)\"/>\n       <path d=\"M 422 -1272 \nL 422 3319 \nL 934 3319 \nL 934 2888 \nQ 1116 3141 1344 3267 \nQ 1572 3394 1897 3394 \nQ 2322 3394 2647 3175 \nQ 2972 2956 3137 2557 \nQ 3303 2159 3303 1684 \nQ 3303 1175 3120 767 \nQ 2938 359 2589 142 \nQ 2241 -75 1856 -75 \nQ 1575 -75 1351 44 \nQ 1128 163 984 344 \nL 984 -1272 \nL 422 -1272 \nz\nM 931 1641 \nQ 931 1000 1190 694 \nQ 1450 388 1819 388 \nQ 2194 388 2461 705 \nQ 2728 1022 2728 1688 \nQ 2728 2322 2467 2637 \nQ 2206 2953 1844 2953 \nQ 1484 2953 1207 2617 \nQ 931 2281 931 1641 \nz\n\" id=\"ArialMT-70\" transform=\"scale(0.015625)\"/>\n       <path d=\"M 425 3934 \nL 425 4581 \nL 988 4581 \nL 988 3934 \nL 425 3934 \nz\nM 425 0 \nL 425 3319 \nL 988 3319 \nL 988 0 \nL 425 0 \nz\n\" id=\"ArialMT-69\" transform=\"scale(0.015625)\"/>\n       <path d=\"M 197 991 \nL 753 1078 \nQ 800 744 1014 566 \nQ 1228 388 1613 388 \nQ 2000 388 2187 545 \nQ 2375 703 2375 916 \nQ 2375 1106 2209 1216 \nQ 2094 1291 1634 1406 \nQ 1016 1563 777 1677 \nQ 538 1791 414 1992 \nQ 291 2194 291 2438 \nQ 291 2659 392 2848 \nQ 494 3038 669 3163 \nQ 800 3259 1026 3326 \nQ 1253 3394 1513 3394 \nQ 1903 3394 2198 3281 \nQ 2494 3169 2634 2976 \nQ 2775 2784 2828 2463 \nL 2278 2388 \nQ 2241 2644 2061 2787 \nQ 1881 2931 1553 2931 \nQ 1166 2931 1000 2803 \nQ 834 2675 834 2503 \nQ 834 2394 903 2306 \nQ 972 2216 1119 2156 \nQ 1203 2125 1616 2013 \nQ 2213 1853 2448 1751 \nQ 2684 1650 2818 1456 \nQ 2953 1263 2953 975 \nQ 2953 694 2789 445 \nQ 2625 197 2315 61 \nQ 2006 -75 1616 -75 \nQ 969 -75 630 194 \nQ 291 463 197 991 \nz\n\" id=\"ArialMT-73\" transform=\"scale(0.015625)\"/>\n       <path d=\"M 213 1659 \nQ 213 2581 725 3025 \nQ 1153 3394 1769 3394 \nQ 2453 3394 2887 2945 \nQ 3322 2497 3322 1706 \nQ 3322 1066 3130 698 \nQ 2938 331 2570 128 \nQ 2203 -75 1769 -75 \nQ 1072 -75 642 372 \nQ 213 819 213 1659 \nz\nM 791 1659 \nQ 791 1022 1069 705 \nQ 1347 388 1769 388 \nQ 2188 388 2466 706 \nQ 2744 1025 2744 1678 \nQ 2744 2294 2464 2611 \nQ 2184 2928 1769 2928 \nQ 1347 2928 1069 2612 \nQ 791 2297 791 1659 \nz\n\" id=\"ArialMT-6f\" transform=\"scale(0.015625)\"/>\n       <path d=\"M 2575 0 \nL 2575 419 \nQ 2259 -75 1647 -75 \nQ 1250 -75 917 144 \nQ 584 363 401 755 \nQ 219 1147 219 1656 \nQ 219 2153 384 2558 \nQ 550 2963 881 3178 \nQ 1213 3394 1622 3394 \nQ 1922 3394 2156 3267 \nQ 2391 3141 2538 2938 \nL 2538 4581 \nL 3097 4581 \nL 3097 0 \nL 2575 0 \nz\nM 797 1656 \nQ 797 1019 1065 703 \nQ 1334 388 1700 388 \nQ 2069 388 2326 689 \nQ 2584 991 2584 1609 \nQ 2584 2291 2321 2609 \nQ 2059 2928 1675 2928 \nQ 1300 2928 1048 2622 \nQ 797 2316 797 1656 \nz\n\" id=\"ArialMT-64\" transform=\"scale(0.015625)\"/>\n      </defs>\n      <use xlink:href=\"#ArialMT-50\"/>\n      <use x=\"66.699219\" xlink:href=\"#ArialMT-65\"/>\n      <use x=\"122.314453\" xlink:href=\"#ArialMT-72\"/>\n      <use x=\"155.615234\" xlink:href=\"#ArialMT-20\"/>\n      <use x=\"183.398438\" xlink:href=\"#ArialMT-31\"/>\n      <use x=\"239.013672\" xlink:href=\"#ArialMT-30\"/>\n      <use x=\"294.628906\" xlink:href=\"#ArialMT-30\"/>\n      <use x=\"350.244141\" xlink:href=\"#ArialMT-30\"/>\n      <use x=\"405.859375\" xlink:href=\"#ArialMT-20\"/>\n      <use x=\"433.642578\" xlink:href=\"#ArialMT-65\"/>\n      <use x=\"489.257812\" xlink:href=\"#ArialMT-70\"/>\n      <use x=\"544.873047\" xlink:href=\"#ArialMT-69\"/>\n      <use x=\"567.089844\" xlink:href=\"#ArialMT-73\"/>\n      <use x=\"617.089844\" xlink:href=\"#ArialMT-6f\"/>\n      <use x=\"672.705078\" xlink:href=\"#ArialMT-64\"/>\n      <use x=\"728.320312\" xlink:href=\"#ArialMT-65\"/>\n      <use x=\"783.935547\" xlink:href=\"#ArialMT-73\"/>\n     </g>\n    </g>\n   </g>\n   <g id=\"matplotlib.axis_2\">\n    <g id=\"ytick_1\">\n     <g id=\"line2d_8\">\n      <path clip-path=\"url(#pe939cdb653)\" d=\"M 38.467187 265.873282 \nL 366.702482 265.873282 \n\" style=\"fill:none;stroke:#cccccc;stroke-linecap:round;stroke-width:0.8;\"/>\n     </g>\n     <g id=\"text_9\">\n      <!-- 20 -->\n      <g style=\"fill:#262626;\" transform=\"translate(20.345312 269.452188)scale(0.1 -0.1)\">\n       <use xlink:href=\"#ArialMT-32\"/>\n       <use x=\"55.615234\" xlink:href=\"#ArialMT-30\"/>\n      </g>\n     </g>\n    </g>\n    <g id=\"ytick_2\">\n     <g id=\"line2d_9\">\n      <path clip-path=\"url(#pe939cdb653)\" d=\"M 38.467187 231.411509 \nL 366.702482 231.411509 \n\" style=\"fill:none;stroke:#cccccc;stroke-linecap:round;stroke-width:0.8;\"/>\n     </g>\n     <g id=\"text_10\">\n      <!-- 30 -->\n      <g style=\"fill:#262626;\" transform=\"translate(20.345312 234.990416)scale(0.1 -0.1)\">\n       <defs>\n        <path d=\"M 269 1209 \nL 831 1284 \nQ 928 806 1161 595 \nQ 1394 384 1728 384 \nQ 2125 384 2398 659 \nQ 2672 934 2672 1341 \nQ 2672 1728 2419 1979 \nQ 2166 2231 1775 2231 \nQ 1616 2231 1378 2169 \nL 1441 2663 \nQ 1497 2656 1531 2656 \nQ 1891 2656 2178 2843 \nQ 2466 3031 2466 3422 \nQ 2466 3731 2256 3934 \nQ 2047 4138 1716 4138 \nQ 1388 4138 1169 3931 \nQ 950 3725 888 3313 \nL 325 3413 \nQ 428 3978 793 4289 \nQ 1159 4600 1703 4600 \nQ 2078 4600 2393 4439 \nQ 2709 4278 2876 4000 \nQ 3044 3722 3044 3409 \nQ 3044 3113 2884 2869 \nQ 2725 2625 2413 2481 \nQ 2819 2388 3044 2092 \nQ 3269 1797 3269 1353 \nQ 3269 753 2831 336 \nQ 2394 -81 1725 -81 \nQ 1122 -81 723 278 \nQ 325 638 269 1209 \nz\n\" id=\"ArialMT-33\" transform=\"scale(0.015625)\"/>\n       </defs>\n       <use xlink:href=\"#ArialMT-33\"/>\n       <use x=\"55.615234\" xlink:href=\"#ArialMT-30\"/>\n      </g>\n     </g>\n    </g>\n    <g id=\"ytick_3\">\n     <g id=\"line2d_10\">\n      <path clip-path=\"url(#pe939cdb653)\" d=\"M 38.467187 196.949737 \nL 366.702482 196.949737 \n\" style=\"fill:none;stroke:#cccccc;stroke-linecap:round;stroke-width:0.8;\"/>\n     </g>\n     <g id=\"text_11\">\n      <!-- 40 -->\n      <g style=\"fill:#262626;\" transform=\"translate(20.345312 200.528643)scale(0.1 -0.1)\">\n       <use xlink:href=\"#ArialMT-34\"/>\n       <use x=\"55.615234\" xlink:href=\"#ArialMT-30\"/>\n      </g>\n     </g>\n    </g>\n    <g id=\"ytick_4\">\n     <g id=\"line2d_11\">\n      <path clip-path=\"url(#pe939cdb653)\" d=\"M 38.467187 162.487964 \nL 366.702482 162.487964 \n\" style=\"fill:none;stroke:#cccccc;stroke-linecap:round;stroke-width:0.8;\"/>\n     </g>\n     <g id=\"text_12\">\n      <!-- 50 -->\n      <g style=\"fill:#262626;\" transform=\"translate(20.345312 166.066871)scale(0.1 -0.1)\">\n       <defs>\n        <path d=\"M 266 1200 \nL 856 1250 \nQ 922 819 1161 601 \nQ 1400 384 1738 384 \nQ 2144 384 2425 690 \nQ 2706 997 2706 1503 \nQ 2706 1984 2436 2262 \nQ 2166 2541 1728 2541 \nQ 1456 2541 1237 2417 \nQ 1019 2294 894 2097 \nL 366 2166 \nL 809 4519 \nL 3088 4519 \nL 3088 3981 \nL 1259 3981 \nL 1013 2750 \nQ 1425 3038 1878 3038 \nQ 2478 3038 2890 2622 \nQ 3303 2206 3303 1553 \nQ 3303 931 2941 478 \nQ 2500 -78 1738 -78 \nQ 1113 -78 717 272 \nQ 322 622 266 1200 \nz\n\" id=\"ArialMT-35\" transform=\"scale(0.015625)\"/>\n       </defs>\n       <use xlink:href=\"#ArialMT-35\"/>\n       <use x=\"55.615234\" xlink:href=\"#ArialMT-30\"/>\n      </g>\n     </g>\n    </g>\n    <g id=\"ytick_5\">\n     <g id=\"line2d_12\">\n      <path clip-path=\"url(#pe939cdb653)\" d=\"M 38.467187 128.026192 \nL 366.702482 128.026192 \n\" style=\"fill:none;stroke:#cccccc;stroke-linecap:round;stroke-width:0.8;\"/>\n     </g>\n     <g id=\"text_13\">\n      <!-- 60 -->\n      <g style=\"fill:#262626;\" transform=\"translate(20.345312 131.605098)scale(0.1 -0.1)\">\n       <use xlink:href=\"#ArialMT-36\"/>\n       <use x=\"55.615234\" xlink:href=\"#ArialMT-30\"/>\n      </g>\n     </g>\n    </g>\n    <g id=\"ytick_6\">\n     <g id=\"line2d_13\">\n      <path clip-path=\"url(#pe939cdb653)\" d=\"M 38.467187 93.564419 \nL 366.702482 93.564419 \n\" style=\"fill:none;stroke:#cccccc;stroke-linecap:round;stroke-width:0.8;\"/>\n     </g>\n     <g id=\"text_14\">\n      <!-- 70 -->\n      <g style=\"fill:#262626;\" transform=\"translate(20.345312 97.143325)scale(0.1 -0.1)\">\n       <defs>\n        <path d=\"M 303 3981 \nL 303 4522 \nL 3269 4522 \nL 3269 4084 \nQ 2831 3619 2401 2847 \nQ 1972 2075 1738 1259 \nQ 1569 684 1522 0 \nL 944 0 \nQ 953 541 1156 1306 \nQ 1359 2072 1739 2783 \nQ 2119 3494 2547 3981 \nL 303 3981 \nz\n\" id=\"ArialMT-37\" transform=\"scale(0.015625)\"/>\n       </defs>\n       <use xlink:href=\"#ArialMT-37\"/>\n       <use x=\"55.615234\" xlink:href=\"#ArialMT-30\"/>\n      </g>\n     </g>\n    </g>\n    <g id=\"ytick_7\">\n     <g id=\"line2d_14\">\n      <path clip-path=\"url(#pe939cdb653)\" d=\"M 38.467187 59.102647 \nL 366.702482 59.102647 \n\" style=\"fill:none;stroke:#cccccc;stroke-linecap:round;stroke-width:0.8;\"/>\n     </g>\n     <g id=\"text_15\">\n      <!-- 80 -->\n      <g style=\"fill:#262626;\" transform=\"translate(20.345312 62.681553)scale(0.1 -0.1)\">\n       <use xlink:href=\"#ArialMT-38\"/>\n       <use x=\"55.615234\" xlink:href=\"#ArialMT-30\"/>\n      </g>\n     </g>\n    </g>\n    <g id=\"ytick_8\">\n     <g id=\"line2d_15\">\n      <path clip-path=\"url(#pe939cdb653)\" d=\"M 38.467187 24.640874 \nL 366.702482 24.640874 \n\" style=\"fill:none;stroke:#cccccc;stroke-linecap:round;stroke-width:0.8;\"/>\n     </g>\n     <g id=\"text_16\">\n      <!-- 90 -->\n      <g style=\"fill:#262626;\" transform=\"translate(20.345312 28.21978)scale(0.1 -0.1)\">\n       <defs>\n        <path d=\"M 350 1059 \nL 891 1109 \nQ 959 728 1153 556 \nQ 1347 384 1650 384 \nQ 1909 384 2104 503 \nQ 2300 622 2425 820 \nQ 2550 1019 2634 1356 \nQ 2719 1694 2719 2044 \nQ 2719 2081 2716 2156 \nQ 2547 1888 2255 1720 \nQ 1963 1553 1622 1553 \nQ 1053 1553 659 1965 \nQ 266 2378 266 3053 \nQ 266 3750 677 4175 \nQ 1088 4600 1706 4600 \nQ 2153 4600 2523 4359 \nQ 2894 4119 3086 3673 \nQ 3278 3228 3278 2384 \nQ 3278 1506 3087 986 \nQ 2897 466 2520 194 \nQ 2144 -78 1638 -78 \nQ 1100 -78 759 220 \nQ 419 519 350 1059 \nz\nM 2653 3081 \nQ 2653 3566 2395 3850 \nQ 2138 4134 1775 4134 \nQ 1400 4134 1122 3828 \nQ 844 3522 844 3034 \nQ 844 2597 1108 2323 \nQ 1372 2050 1759 2050 \nQ 2150 2050 2401 2323 \nQ 2653 2597 2653 3081 \nz\n\" id=\"ArialMT-39\" transform=\"scale(0.015625)\"/>\n       </defs>\n       <use xlink:href=\"#ArialMT-39\"/>\n       <use x=\"55.615234\" xlink:href=\"#ArialMT-30\"/>\n      </g>\n     </g>\n    </g>\n    <g id=\"text_17\">\n     <!-- Reward -->\n     <g style=\"fill:#262626;\" transform=\"translate(14.357812 175.06375)rotate(-90)scale(0.1 -0.1)\">\n      <defs>\n       <path d=\"M 503 0 \nL 503 4581 \nL 2534 4581 \nQ 3147 4581 3465 4457 \nQ 3784 4334 3975 4021 \nQ 4166 3709 4166 3331 \nQ 4166 2844 3850 2509 \nQ 3534 2175 2875 2084 \nQ 3116 1969 3241 1856 \nQ 3506 1613 3744 1247 \nL 4541 0 \nL 3778 0 \nL 3172 953 \nQ 2906 1366 2734 1584 \nQ 2563 1803 2427 1890 \nQ 2291 1978 2150 2013 \nQ 2047 2034 1813 2034 \nL 1109 2034 \nL 1109 0 \nL 503 0 \nz\nM 1109 2559 \nL 2413 2559 \nQ 2828 2559 3062 2645 \nQ 3297 2731 3419 2920 \nQ 3541 3109 3541 3331 \nQ 3541 3656 3305 3865 \nQ 3069 4075 2559 4075 \nL 1109 4075 \nL 1109 2559 \nz\n\" id=\"ArialMT-52\" transform=\"scale(0.015625)\"/>\n       <path d=\"M 1034 0 \nL 19 3319 \nL 600 3319 \nL 1128 1403 \nL 1325 691 \nQ 1338 744 1497 1375 \nL 2025 3319 \nL 2603 3319 \nL 3100 1394 \nL 3266 759 \nL 3456 1400 \nL 4025 3319 \nL 4572 3319 \nL 3534 0 \nL 2950 0 \nL 2422 1988 \nL 2294 2553 \nL 1622 0 \nL 1034 0 \nz\n\" id=\"ArialMT-77\" transform=\"scale(0.015625)\"/>\n       <path d=\"M 2588 409 \nQ 2275 144 1986 34 \nQ 1697 -75 1366 -75 \nQ 819 -75 525 192 \nQ 231 459 231 875 \nQ 231 1119 342 1320 \nQ 453 1522 633 1644 \nQ 813 1766 1038 1828 \nQ 1203 1872 1538 1913 \nQ 2219 1994 2541 2106 \nQ 2544 2222 2544 2253 \nQ 2544 2597 2384 2738 \nQ 2169 2928 1744 2928 \nQ 1347 2928 1158 2789 \nQ 969 2650 878 2297 \nL 328 2372 \nQ 403 2725 575 2942 \nQ 747 3159 1072 3276 \nQ 1397 3394 1825 3394 \nQ 2250 3394 2515 3294 \nQ 2781 3194 2906 3042 \nQ 3031 2891 3081 2659 \nQ 3109 2516 3109 2141 \nL 3109 1391 \nQ 3109 606 3145 398 \nQ 3181 191 3288 0 \nL 2700 0 \nQ 2613 175 2588 409 \nz\nM 2541 1666 \nQ 2234 1541 1622 1453 \nQ 1275 1403 1131 1340 \nQ 988 1278 909 1158 \nQ 831 1038 831 891 \nQ 831 666 1001 516 \nQ 1172 366 1500 366 \nQ 1825 366 2078 508 \nQ 2331 650 2450 897 \nQ 2541 1088 2541 1459 \nL 2541 1666 \nz\n\" id=\"ArialMT-61\" transform=\"scale(0.015625)\"/>\n      </defs>\n      <use xlink:href=\"#ArialMT-52\"/>\n      <use x=\"72.216797\" xlink:href=\"#ArialMT-65\"/>\n      <use x=\"127.832031\" xlink:href=\"#ArialMT-77\"/>\n      <use x=\"200.048828\" xlink:href=\"#ArialMT-61\"/>\n      <use x=\"255.664062\" xlink:href=\"#ArialMT-72\"/>\n      <use x=\"288.964844\" xlink:href=\"#ArialMT-64\"/>\n     </g>\n    </g>\n   </g>\n   <g id=\"line2d_16\">\n    <path clip-path=\"url(#pe939cdb653)\" d=\"M 53.386974 255.190132 \nL 76.340491 278.968755 \nL 99.294008 281.036462 \nL 122.247525 281.38108 \nL 145.201042 242.094659 \nL 168.154559 213.491388 \nL 191.108076 118.376895 \nL 214.061593 135.263164 \nL 237.01511 104.247569 \nL 259.968627 114.930718 \nL 282.922144 34.29017 \nL 305.875661 35.324024 \nL 328.829178 102.179862 \nL 351.782696 52.55491 \n\" style=\"fill:none;stroke:#1f77b4;stroke-linecap:round;stroke-width:1.5;\"/>\n   </g>\n   <g id=\"patch_3\">\n    <path d=\"M 38.467187 293.735625 \nL 38.467187 21.935625 \n\" style=\"fill:none;stroke:#cccccc;stroke-linecap:square;stroke-linejoin:miter;stroke-width:0.8;\"/>\n   </g>\n   <g id=\"patch_4\">\n    <path d=\"M 366.702482 293.735625 \nL 366.702482 21.935625 \n\" style=\"fill:none;stroke:#cccccc;stroke-linecap:square;stroke-linejoin:miter;stroke-width:0.8;\"/>\n   </g>\n   <g id=\"patch_5\">\n    <path d=\"M 38.467187 293.735625 \nL 366.702482 293.735625 \n\" style=\"fill:none;stroke:#cccccc;stroke-linecap:square;stroke-linejoin:miter;stroke-width:0.8;\"/>\n   </g>\n   <g id=\"patch_6\">\n    <path d=\"M 38.467187 21.935625 \nL 366.702482 21.935625 \n\" style=\"fill:none;stroke:#cccccc;stroke-linecap:square;stroke-linejoin:miter;stroke-width:0.8;\"/>\n   </g>\n   <g id=\"text_18\">\n    <!-- Last reward of 81.9 after 14000 episodes -->\n    <g style=\"fill:#262626;\" transform=\"translate(93.52171 15.935625)scale(0.12 -0.12)\">\n     <defs>\n      <path d=\"M 469 0 \nL 469 4581 \nL 1075 4581 \nL 1075 541 \nL 3331 541 \nL 3331 0 \nL 469 0 \nz\n\" id=\"ArialMT-4c\" transform=\"scale(0.015625)\"/>\n      <path d=\"M 1650 503 \nL 1731 6 \nQ 1494 -44 1306 -44 \nQ 1000 -44 831 53 \nQ 663 150 594 308 \nQ 525 466 525 972 \nL 525 2881 \nL 113 2881 \nL 113 3319 \nL 525 3319 \nL 525 4141 \nL 1084 4478 \nL 1084 3319 \nL 1650 3319 \nL 1650 2881 \nL 1084 2881 \nL 1084 941 \nQ 1084 700 1114 631 \nQ 1144 563 1211 522 \nQ 1278 481 1403 481 \nQ 1497 481 1650 503 \nz\n\" id=\"ArialMT-74\" transform=\"scale(0.015625)\"/>\n      <path d=\"M 556 0 \nL 556 2881 \nL 59 2881 \nL 59 3319 \nL 556 3319 \nL 556 3672 \nQ 556 4006 616 4169 \nQ 697 4388 901 4523 \nQ 1106 4659 1475 4659 \nQ 1713 4659 2000 4603 \nL 1916 4113 \nQ 1741 4144 1584 4144 \nQ 1328 4144 1222 4034 \nQ 1116 3925 1116 3625 \nL 1116 3319 \nL 1763 3319 \nL 1763 2881 \nL 1116 2881 \nL 1116 0 \nL 556 0 \nz\n\" id=\"ArialMT-66\" transform=\"scale(0.015625)\"/>\n      <path d=\"M 581 0 \nL 581 641 \nL 1222 641 \nL 1222 0 \nL 581 0 \nz\n\" id=\"ArialMT-2e\" transform=\"scale(0.015625)\"/>\n     </defs>\n     <use xlink:href=\"#ArialMT-4c\"/>\n     <use x=\"55.615234\" xlink:href=\"#ArialMT-61\"/>\n     <use x=\"111.230469\" xlink:href=\"#ArialMT-73\"/>\n     <use x=\"161.230469\" xlink:href=\"#ArialMT-74\"/>\n     <use x=\"189.013672\" xlink:href=\"#ArialMT-20\"/>\n     <use x=\"216.796875\" xlink:href=\"#ArialMT-72\"/>\n     <use x=\"250.097656\" xlink:href=\"#ArialMT-65\"/>\n     <use x=\"305.712891\" xlink:href=\"#ArialMT-77\"/>\n     <use x=\"377.929688\" xlink:href=\"#ArialMT-61\"/>\n     <use x=\"433.544922\" xlink:href=\"#ArialMT-72\"/>\n     <use x=\"466.845703\" xlink:href=\"#ArialMT-64\"/>\n     <use x=\"522.460938\" xlink:href=\"#ArialMT-20\"/>\n     <use x=\"550.244141\" xlink:href=\"#ArialMT-6f\"/>\n     <use x=\"605.859375\" xlink:href=\"#ArialMT-66\"/>\n     <use x=\"633.642578\" xlink:href=\"#ArialMT-20\"/>\n     <use x=\"661.425781\" xlink:href=\"#ArialMT-38\"/>\n     <use x=\"717.041016\" xlink:href=\"#ArialMT-31\"/>\n     <use x=\"772.65625\" xlink:href=\"#ArialMT-2e\"/>\n     <use x=\"800.439453\" xlink:href=\"#ArialMT-39\"/>\n     <use x=\"856.054688\" xlink:href=\"#ArialMT-20\"/>\n     <use x=\"883.837891\" xlink:href=\"#ArialMT-61\"/>\n     <use x=\"939.453125\" xlink:href=\"#ArialMT-66\"/>\n     <use x=\"967.236328\" xlink:href=\"#ArialMT-74\"/>\n     <use x=\"995.019531\" xlink:href=\"#ArialMT-65\"/>\n     <use x=\"1050.634766\" xlink:href=\"#ArialMT-72\"/>\n     <use x=\"1083.935547\" xlink:href=\"#ArialMT-20\"/>\n     <use x=\"1111.71875\" xlink:href=\"#ArialMT-31\"/>\n     <use x=\"1167.333984\" xlink:href=\"#ArialMT-34\"/>\n     <use x=\"1222.949219\" xlink:href=\"#ArialMT-30\"/>\n     <use x=\"1278.564453\" xlink:href=\"#ArialMT-30\"/>\n     <use x=\"1334.179688\" xlink:href=\"#ArialMT-30\"/>\n     <use x=\"1389.794922\" xlink:href=\"#ArialMT-20\"/>\n     <use x=\"1417.578125\" xlink:href=\"#ArialMT-65\"/>\n     <use x=\"1473.193359\" xlink:href=\"#ArialMT-70\"/>\n     <use x=\"1528.808594\" xlink:href=\"#ArialMT-69\"/>\n     <use x=\"1551.025391\" xlink:href=\"#ArialMT-73\"/>\n     <use x=\"1601.025391\" xlink:href=\"#ArialMT-6f\"/>\n     <use x=\"1656.640625\" xlink:href=\"#ArialMT-64\"/>\n     <use x=\"1712.255859\" xlink:href=\"#ArialMT-65\"/>\n     <use x=\"1767.871094\" xlink:href=\"#ArialMT-73\"/>\n    </g>\n   </g>\n  </g>\n </g>\n <defs>\n  <clipPath id=\"pe939cdb653\">\n   <rect height=\"271.8\" width=\"328.235294\" x=\"38.467187\" y=\"21.935625\"/>\n  </clipPath>\n </defs>\n</svg>\n",
      "image/png": "[encoded data removed]"
     },
     "metadata": {}
    },
    {
     "output_type": "error",
     "ename": "KeyboardInterrupt",
     "evalue": "",
     "traceback": [
      "\u001b[0;31m---------------------------------------------------------------------------\u001b[0m",
      "\u001b[0;31mKeyboardInterrupt\u001b[0m                         Traceback (most recent call last)",
      "\u001b[0;32m<ipython-input-35-ff8ae33ff912>\u001b[0m in \u001b[0;36m<module>\u001b[0;34m\u001b[0m\n\u001b[1;32m     80\u001b[0m                             \u001b[0mlog_probs\u001b[0m\u001b[0;34m.\u001b[0m\u001b[0mappend\u001b[0m\u001b[0;34m(\u001b[0m\u001b[0mlog_prob\u001b[0m\u001b[0;34m)\u001b[0m\u001b[0;34m\u001b[0m\u001b[0;34m\u001b[0m\u001b[0m\n\u001b[1;32m     81\u001b[0m \u001b[0;34m\u001b[0m\u001b[0m\n\u001b[0;32m---> 82\u001b[0;31m                             \u001b[0mrewards\u001b[0m\u001b[0;34m.\u001b[0m\u001b[0mappend\u001b[0m\u001b[0;34m(\u001b[0m\u001b[0mtorch\u001b[0m\u001b[0;34m.\u001b[0m\u001b[0munsqueeze\u001b[0m\u001b[0;34m(\u001b[0m\u001b[0mtorch\u001b[0m\u001b[0;34m.\u001b[0m\u001b[0mFloatTensor\u001b[0m\u001b[0;34m(\u001b[0m\u001b[0mreward\u001b[0m\u001b[0;34m)\u001b[0m\u001b[0;34m,\u001b[0m\u001b[0;36m1\u001b[0m\u001b[0;34m)\u001b[0m\u001b[0;34m.\u001b[0m\u001b[0mto\u001b[0m\u001b[0;34m(\u001b[0m\u001b[0mdevice\u001b[0m\u001b[0;34m)\u001b[0m\u001b[0;34m)\u001b[0m\u001b[0;34m\u001b[0m\u001b[0;34m\u001b[0m\u001b[0m\n\u001b[0m\u001b[1;32m     83\u001b[0m \u001b[0;34m\u001b[0m\u001b[0m\n\u001b[1;32m     84\u001b[0m                             \u001b[0;31m# entropy += probability_distribution.entropy().mean()\u001b[0m\u001b[0;34m\u001b[0m\u001b[0;34m\u001b[0m\u001b[0;34m\u001b[0m\u001b[0m\n",
      "\u001b[0;31mKeyboardInterrupt\u001b[0m: "
     ]
    }
   ],
   "source": [
    "# Logging stuff\n",
    "RESULTS_PATH = \"results\"\n",
    "EXP_TYPE = \"train-a2c\"\n",
    "dt_now = datetime.now()\n",
    "dt_str = dt_now.strftime(\"%Y%m%d-%H%M%S\")\n",
    "\n",
    "OUTPUT_PATH = os.path.join(RESULTS_PATH, ENV_NAME, EXP_TYPE, dt_str)\n",
    "\n",
    "if not os.path.isdir(OUTPUT_PATH):\n",
    "    os.makedirs(OUTPUT_PATH)\n",
    "\n",
    "for num_env in list(NUM_ENV_LIST):\n",
    "    for num_episodes in list(NUM_EPISODES_LIST):\n",
    "        for lr in list(LEARNING_RATE_LIST):\n",
    "            for hl in list(HIDDEN_LAYER_LIST):\n",
    "                for vc in list(VALUE_COEFFICIENT_LIST):\n",
    "                    # Reset hyperparameter list\n",
    "                    HYPERPARAMETER_LIST = {}\n",
    "\n",
    "                    HYPERPARAMETER_LIST[\"num_env\"] = num_env\n",
    "                    HYPERPARAMETER_LIST[\"num_episodes\"] = num_episodes\n",
    "                    HYPERPARAMETER_LIST[\"learning_rate\"] = lr\n",
    "                    HYPERPARAMETER_LIST[\"hidden_layers\"] = hl\n",
    "                    HYPERPARAMETER_LIST[\"value_coefficient\"] = vc\n",
    "                    # print(stringify_dict(HYPERPARAMETER_LIST))\n",
    "\n",
    "                    HYPERPARAMETERS_STR = stringify_dict(HYPERPARAMETER_LIST)\n",
    "                    FILE_NAME = f\"{HYPERPARAMETERS_STR}\".replace(\":\", \"\").replace(\" \", \"\").replace(\",\", \"-\").replace(\"(\", \"\").replace(\")\", \"\")\n",
    "                    LOG_FILE_NAME = FILE_NAME + \".txt\"\n",
    "                    PLOT_FILE_NAME = FILE_NAME\n",
    "                    MODEL_FILE_NAME = FILE_NAME + \".pt\"\n",
    "\n",
    "                    # Time code\n",
    "                    start_time = timeit.default_timer()\n",
    "\n",
    "                    # Create the vectorized environment\n",
    "                    envs = SubprocVecEnv([make_env(ENV_NAME, i) for i in range(num_env)])\n",
    "\n",
    "                    model = ActorCritic(num_inputs=NUM_OBSERVATIONS, num_outputs=NUM_ACTIONS, hidden_layer_config=hl).to(device)\n",
    "                    optimiser = optim.Adam(model.parameters(), lr=lr)\n",
    "\n",
    "                    # Set up results logging\n",
    "                    episode_idx: int = 0\n",
    "                    experiment_rewards: list = []\n",
    "                    experiment_actor_loss: list = []\n",
    "                    experiment_critic_loss: list = []\n",
    "                    experiment_overall_loss: list = []\n",
    "                    experiment_entropy_loss: list = []\n",
    "                    experiment_rewards_var: list = []\n",
    "\n",
    "                    state = envs.reset()\n",
    "\n",
    "                    while episode_idx < num_episodes:\n",
    "\n",
    "                        # Structures to hold our records for updating\n",
    "                        log_probs: list = []\n",
    "                        values: list = []\n",
    "                        rewards: list = []\n",
    "\n",
    "                        # entropy: int = 0 # reset Entropy\n",
    "                        entropy_loss: float = 0\n",
    "                        # Our thresholding tensors which \"turn off\" returns\n",
    "                        # for the next_value (changes them to zero),\n",
    "                        # if the episode terminates before the 500 max \n",
    "                        # timesteps on Cartpole-v1 are reached.\n",
    "                        masks: list = []\n",
    "\n",
    "                        for _ in range(NUM_REWARD_STEPS):\n",
    "                            state = torch.FloatTensor(state).to(device)\n",
    "                            probability_distribution, state_values = model(state)\n",
    "                            action_to_take = probability_distribution.sample()\n",
    "\n",
    "                            next_state, reward, done, _ = envs.step(action_to_take.cpu().numpy())\n",
    "                            state = next_state\n",
    "\n",
    "                            # Update all the things:\n",
    "                            values.append(state_values)\n",
    "\n",
    "                            log_prob = probability_distribution.log_prob(action_to_take)\n",
    "                            log_probs.append(log_prob)\n",
    "\n",
    "                            rewards.append(torch.unsqueeze(torch.FloatTensor(reward),1).to(device))\n",
    "\n",
    "                            # entropy += probability_distribution.entropy().mean()\n",
    "                            entropy_loss += -probability_distribution.entropy().mean()\n",
    "\n",
    "                            # 1 - False = 1; 1 - True = 0\n",
    "                            # 1 - returns for next value continue to be calculated.\n",
    "                            masks.append(torch.unsqueeze(torch.FloatTensor(1 - done),1).to(device))\n",
    "\n",
    "                            # Increment episode counter\n",
    "                            episode_idx += 1\n",
    "\n",
    "                            if episode_idx % 1000 == 0:\n",
    "                                experiment_rewards.append(np.mean([sample_one_episode(env, model) for _ in range(10)]))\n",
    "                                experiment_rewards_var.append(np.std([sample_one_episode(env, model) for _ in range(10)]))\n",
    "                                experiment_entropy_loss.append(entropy_loss)\n",
    "                                plot_rewards_episodes(episode_idx, experiment_rewards)\n",
    "\n",
    "                        next_state = torch.FloatTensor(next_state).to(device)\n",
    "                        _, next_state_value = model(next_state)\n",
    "                        returns = calculate_returns(next_state_value, rewards, masks, GAMMA)\n",
    "\n",
    "                        # Run the next code with no gradients kept, so that \n",
    "                        # this can be a bit more efficient.\n",
    "                        # with torch.no_grad():\n",
    "                        # Update everything\n",
    "                        log_probs= torch.cat(log_probs)\n",
    "                        returns = torch.cat(returns).detach()\n",
    "                        values = torch.cat(values)\n",
    "\n",
    "                        advantage = returns - values\n",
    "\n",
    "                        # Or policy loss\n",
    "                        actor_loss = -(log_probs * advantage.detach()).mean()\n",
    "                        experiment_actor_loss.append(actor_loss)\n",
    "\n",
    "                        # Or value loss - using MSE\n",
    "                        critic_loss = advantage.pow(2).mean()\n",
    "                        experiment_critic_loss.append(critic_loss)\n",
    "\n",
    "                        overall_loss = actor_loss + (VALUE_LOSS_COEFFICIENT * critic_loss) + (ENTROPY_REG_WEIGHT * entropy_loss)\n",
    "                        experiment_overall_loss.append(overall_loss)\n",
    "\n",
    "                        # Clear gradients in optimiser to zero\n",
    "                        # so that we don't accumulate on\n",
    "                        # past gradients.\n",
    "                        optimiser.zero_grad()\n",
    "\n",
    "                        # Propagate loss/weights backwards\n",
    "                        overall_loss.backward()\n",
    "\n",
    "                        torch.nn.utils.clip_grad_norm_(model.parameters(), MAX_GRADIENT)\n",
    "                        # Update model parameters\n",
    "                        optimiser.step()\n",
    "\n",
    "                    # End timer\n",
    "                    WALL_TIME = timeit.default_timer() - start_time\n",
    "\n",
    "                    # Plot rewards\n",
    "                    plt.plot(experiment_rewards);\n",
    "                    plt.title(f\"A2C agent rewards on {ENV_NAME} for {num_episodes} episodes\");\n",
    "                    plt.xlabel(\"Per 1000 episodes\");\n",
    "                    plt.ylabel(\"Reward\");\n",
    "                    plt.ylim([0, 500]);\n",
    "                    # plt.ylim([0, 200]); # for CartPole-v0\n",
    "                    plt.xlim([0, 100]);\n",
    "\n",
    "                    last_reward = (num_episodes/1000, experiment_rewards[-1])\n",
    "                    enumerated_rewards = list(enumerate(experiment_rewards))\n",
    "                    min_reward = min(enumerated_rewards, key=itemgetter(1))\n",
    "                    max_reward = max(enumerated_rewards, key=itemgetter(1))\n",
    "\n",
    "                    plt.annotate(f\"Last {last_reward[1]}\", last_reward)\n",
    "                    plt.annotate(f\"Min {min_reward[1]}\", min_reward)\n",
    "                    plt.annotate(f\"Max {max_reward[1]}\", max_reward)\n",
    "                    plt.savefig(os.path.join(OUTPUT_PATH, PLOT_FILE_NAME + \"_rewards.png\"), dpi=300, bbox_inches=\"tight\");\n",
    "                    plt.show();\n",
    "\n",
    "\n",
    "                    # Plot rewards variance\n",
    "                    plt.plot(experiment_rewards_var);\n",
    "                    plt.title(f\"A2C agent rewards variance on {ENV_NAME} for {num_episodes} episodes\");\n",
    "                    plt.xlabel(\"Per 1000 episodes\");\n",
    "                    plt.ylabel(\"Reward variance\");\n",
    "                    plt.ylim([0, 200]);\n",
    "                    plt.xlim([0, 100]);\n",
    "\n",
    "                    last_reward_var = (num_episodes/1000, experiment_rewards_var[-1])\n",
    "                    enumerated_rewards_var = list(enumerate(experiment_rewards_var))\n",
    "                    min_reward_var = min(enumerated_rewards_var, key=itemgetter(1))\n",
    "                    max_reward_var = max(enumerated_rewards_var, key=itemgetter(1))\n",
    "\n",
    "                    plt.annotate(f\"Last {last_reward_var[1]}\", last_reward_var)\n",
    "                    plt.annotate(f\"Min {min_reward_var[1]}\", min_reward_var)\n",
    "                    plt.annotate(f\"Max {max_reward_var[1]}\", max_reward_var)\n",
    "                    plt.savefig(os.path.join(OUTPUT_PATH, PLOT_FILE_NAME + \"_rewards_var.png\"), dpi=300, bbox_inches=\"tight\");\n",
    "                    plt.show();\n",
    "\n",
    "\n",
    "                    # Plot actor loss\n",
    "                    experiment_actor_loss_list = [loss.item() for loss in experiment_actor_loss]\n",
    "                    sns.lineplot(data=experiment_actor_loss_list);\n",
    "                    plt.title(f\"A2C agent last actor loss of {experiment_actor_loss_list[-1]} after {num_episodes} episodes\")\n",
    "                    plt.xlabel(\"Updates\");\n",
    "                    plt.ylabel(\"Actor Loss\");\n",
    "                    plt.ylim([-3, 3]);\n",
    "                    plt.xlim([0, 20000]);\n",
    "                    plt.savefig(os.path.join(OUTPUT_PATH, PLOT_FILE_NAME + \"_actor_loss.png\"), dpi=300, bbox_inches=\"tight\");\n",
    "                    plt.show();\n",
    "\n",
    "\n",
    "                    # Plot critic loss\n",
    "                    experiment_critic_loss_list = [loss.item() for loss in experiment_critic_loss]\n",
    "                    sns.lineplot(data=experiment_critic_loss_list);\n",
    "                    plt.title(f\"A2C agent last critic loss of {experiment_critic_loss_list[-1]} after {num_episodes} episodes\")\n",
    "                    plt.xlabel(\"Updates\");\n",
    "                    plt.ylabel(\"Critic Loss\");\n",
    "                    plt.ylim([0, 40]);\n",
    "                    plt.xlim([0, 20000]);\n",
    "                    plt.savefig(os.path.join(OUTPUT_PATH, PLOT_FILE_NAME + \"_critic_loss.png\"), dpi=300, bbox_inches=\"tight\");\n",
    "                    plt.show();\n",
    "\n",
    "\n",
    "                    # Plot overall loss\n",
    "                    experiment_overall_loss_list = [loss.item() for loss in experiment_overall_loss]\n",
    "                    sns.lineplot(data=experiment_overall_loss_list);\n",
    "                    plt.title(f\"A2C agent last overall loss of {experiment_overall_loss_list[-1]} after {num_episodes} episodes\")\n",
    "                    plt.xlabel(\"Updates\");\n",
    "                    plt.ylabel(\"Overall Loss\");\n",
    "                    plt.ylim([0, 40]);\n",
    "                    plt.xlim([0, 20000]);\n",
    "                    plt.savefig(os.path.join(OUTPUT_PATH, PLOT_FILE_NAME + \"_overall_loss.png\"), dpi=300, bbox_inches=\"tight\");\n",
    "                    plt.show();\n",
    "\n",
    "\n",
    "                    # Plot entropy loss\n",
    "                    experiment_entropy_loss_list = [loss.item() for loss in experiment_entropy_loss]\n",
    "                    sns.lineplot(data=experiment_entropy_loss_list);\n",
    "                    plt.title(f\"Last entropy loss of {experiment_entropy_loss_list[-1]} after {num_episodes} episodes\")\n",
    "                    plt.xlabel(\"Updates\");\n",
    "                    plt.ylabel(\"Entropy Loss\");\n",
    "                    plt.ylim([-5, 5]);\n",
    "                    plt.xlim([0, 100]);\n",
    "                    plt.savefig(os.path.join(OUTPUT_PATH, PLOT_FILE_NAME + \"_entropy_loss.png\"), dpi=300, bbox_inches=\"tight\");\n",
    "                    plt.show();\n",
    "\n",
    "                    results = Results(min(experiment_rewards), max(experiment_rewards), np.std(experiment_rewards), np.mean(experiment_rewards), np.mean(experiment_actor_loss_list), np.mean(experiment_critic_loss_list), np.mean(experiment_entropy_loss_list), np.mean(experiment_overall_loss_list))\n",
    "\n",
    "                    with open(os.path.join(OUTPUT_PATH, LOG_FILE_NAME), \"w\") as f:\n",
    "                        f.write(f\"datetime:{dt_str}\\n\")\n",
    "                        f.write(f\"hyperparameters:{HYPERPARAMETERS_STR}\\n\")\n",
    "                        tidy_results = stringify_dict(results._asdict()).replace(\"-\", \":\")\n",
    "                        f.write(f\"results:{tidy_results}\\n\")\n",
    "                        f.write(f\"wall_time:{WALL_TIME}\\n\")\n",
    "\n",
    "                    with open(os.path.join(OUTPUT_PATH, \"all_results.txt\"), \"a\") as f:\n",
    "                        f.write(f\"\\n==================================\\n\")\n",
    "                        f.write(f\"datetime:{dt_str}\\n\")\n",
    "                        f.write(f\"hyperparameters:{HYPERPARAMETERS_STR}\\n\")\n",
    "                        tidy_results = stringify_dict(results._asdict()).replace(\"-\", \":\")\n",
    "                        f.write(f\"results:{tidy_results}\\n\")\n",
    "                        f.write(f\"wall_time:{WALL_TIME}\\n\")\n",
    "                        f.write(f\"\\n==================================\\n\")\n",
    "\n",
    "\n",
    "                    # Specify a path to save model\n",
    "                    MODEL_PATH = os.path.join(OUTPUT_PATH, MODEL_FILE_NAME)\n",
    "                    torch.save(model, MODEL_PATH)\n",
    "\n",
    "                    # Close envs\n",
    "                    envs.close()"
   ]
  },
  {
   "cell_type": "code",
   "execution_count": 20,
   "metadata": {},
   "outputs": [
    {
     "output_type": "execute_result",
     "data": {
      "text/plain": [
       "(16.7, 115.5, 25.52153631739281, 72.428)"
      ]
     },
     "metadata": {},
     "execution_count": 20
    }
   ],
   "source": [
    "min(experiment_rewards), max(experiment_rewards), np.std(experiment_rewards), np.mean(experiment_rewards)\n",
    "# VALUE_LOSS_COEFFICIENT = 0.1\n",
    "# 85.6 218.6, 32.21718150304275\n",
    "\n",
    "# VALUE_LOSS_COEFFICIENT = 0.5\n",
    "# (81.8, 242.8, 35.98530639024768, 162.418)\n",
    "\n",
    "# NUM_EPISODES = 100000\n",
    "# (101.4, 310.5, 34.232210723235504, 168.143)\n",
    "\n",
    "# VALUE_LOSS_COEFFICIENT = 0.01\n",
    "# (84.4, 291.4, 41.10671160528412, 161.66899999999998)\n",
    "\n",
    "# NUM_REWARD_STEPS: int = 10\n",
    "# (37.9, 168.4, 22.67719777662134, 81.899)\n",
    "\n",
    "# lr=0.0001\n",
    "# (74.7, 224.5, 29.891392389783388, 145.119)\n",
    "\n",
    "# I changed nothing\n",
    "# (80.9, 214.8, 29.989488341750683, 133.78300000000002)\n",
    "\n",
    "# Adam lr: 0.002, gradient clipping: 1 \n",
    "# The policy is weighted at 1.0, value function at 0.6, entropy at 0.001.\n",
    "# We go for 10-step bootstrapping, eight workers, and a 0.95 tau.\n",
    "# (18.0, 468.1, 94.37116402800169, 223.33999999999997)\n",
    "\n",
    "# 12 workers, 32x32\n",
    "# (20.2, 428.8, 93.23209095585061, 224.504)\n",
    "# 12 workers, 128 x 128\n",
    "# (23.8, 483.7, 110.44132099898115, 258.804)\n",
    "\n"
   ]
  },
  {
   "cell_type": "code",
   "execution_count": null,
   "metadata": {},
   "outputs": [],
   "source": []
  }
 ]
}